{
 "cells": [
  {
   "cell_type": "markdown",
   "metadata": {},
   "source": [
    "Dataset : https://www.kaggle.com/utkarsharya/ecommerce-purchases"
   ]
  },
  {
   "cell_type": "code",
   "execution_count": null,
   "outputs": [],
   "source": [],
   "metadata": {
    "collapsed": false
   }
  },
  {
   "cell_type": "code",
   "execution_count": 6,
   "metadata": {
    "ExecuteTime": {
     "end_time": "2024-05-07T06:13:06.130630Z",
     "start_time": "2024-05-07T06:13:05.922763800Z"
    }
   },
   "outputs": [
    {
     "data": {
      "text/plain": "                                                Address    Lot AM or PM  \\\n0     16629 Pace Camp Apt. 448\\nAlexisborough, NE 77...  46 in       PM   \n1     9374 Jasmine Spurs Suite 508\\nSouth John, TN 8...  28 rn       PM   \n2                      Unit 0065 Box 5052\\nDPO AP 27450  94 vE       PM   \n3                 7780 Julia Fords\\nNew Stacy, WA 45798  36 vm       PM   \n4     23012 Munoz Drive Suite 337\\nNew Cynthia, TX 5...  20 IE       AM   \n...                                                 ...    ...      ...   \n9995      966 Castaneda Locks\\nWest Juliafurt, CO 96415  92 XI       PM   \n9996  832 Curtis Dam Suite 785\\nNorth Edwardburgh, T...  41 JY       AM   \n9997              Unit 4434 Box 6343\\nDPO AE 28026-0283  74 Zh       AM   \n9998               0096 English Rest\\nRoystad, IA 12457  74 cL       PM   \n9999     40674 Barrett Stravenue\\nGrimesville, WI 79682  64 Hr       AM   \n\n                                           Browser Info  \\\n0     Opera/9.56.(X11; Linux x86_64; sl-SI) Presto/2...   \n1     Opera/8.93.(Windows 98; Win 9x 4.90; en-US) Pr...   \n2     Mozilla/5.0 (compatible; MSIE 9.0; Windows NT ...   \n3     Mozilla/5.0 (Macintosh; Intel Mac OS X 10_8_0 ...   \n4     Opera/9.58.(X11; Linux x86_64; it-IT) Presto/2...   \n...                                                 ...   \n9995  Mozilla/5.0 (Windows NT 5.1) AppleWebKit/5352 ...   \n9996  Mozilla/5.0 (compatible; MSIE 9.0; Windows NT ...   \n9997  Mozilla/5.0 (Macintosh; U; Intel Mac OS X 10_7...   \n9998  Mozilla/5.0 (Macintosh; Intel Mac OS X 10_8_8;...   \n9999  Mozilla/5.0 (X11; Linux i686; rv:1.9.5.20) Gec...   \n\n                              Company       Credit Card CC Exp Date  \\\n0                     Martinez-Herman  6011929061123406       02/20   \n1     Fletcher, Richards and Whitaker  3337758169645356       11/18   \n2          Simpson, Williams and Pham      675957666125       08/19   \n3     Williams, Marshall and Buchanan  6011578504430710       02/24   \n4           Brown, Watson and Andrews  6011456623207998       10/25   \n...                               ...               ...         ...   \n9995                    Randall-Sloan   342945015358701       03/22   \n9996         Hale, Collins and Wilson   210033169205009       07/25   \n9997                     Anderson Ltd  6011539787356311       05/21   \n9998                         Cook Inc   180003348082930       11/17   \n9999                       Greene Inc  4139972901927273       02/19   \n\n      CC Security Code                  CC Provider  \\\n0                  900                 JCB 16 digit   \n1                  561                   Mastercard   \n2                  699                 JCB 16 digit   \n3                  384                     Discover   \n4                  678  Diners Club / Carte Blanche   \n...                ...                          ...   \n9995               838                 JCB 15 digit   \n9996               207                 JCB 16 digit   \n9997                 1                VISA 16 digit   \n9998               987             American Express   \n9999               302                 JCB 15 digit   \n\n                               Email                                     Job  \\\n0                  pdunlap@yahoo.com  Scientist, product/process development   \n1                 anthony41@reed.com                       Drilling engineer   \n2     amymiller@morales-harrison.com                Customer service manager   \n3        brent16@olson-robinson.info                       Drilling engineer   \n4        christopherwright@gmail.com                             Fine artist   \n...                              ...                                     ...   \n9995          iscott@wade-garner.com                              Printmaker   \n9996              mary85@hotmail.com                         Energy engineer   \n9997               tyler16@gmail.com                      Veterinary surgeon   \n9998         elizabethmoore@reid.net                Local government officer   \n9999           rachelford@vaughn.com                  Embryologist, clinical   \n\n           IP Address Language  Purchase Price  \n0     149.146.147.205       el           98.14  \n1        15.160.41.51       fr           70.73  \n2      132.207.160.22       de            0.95  \n3        30.250.74.19       es           78.04  \n4        24.140.33.94       es           77.82  \n...               ...      ...             ...  \n9995    29.73.197.114       it           82.21  \n9996   121.133.168.51       pt           25.63  \n9997    156.210.0.254       el           83.98  \n9998     55.78.26.143       es           38.84  \n9999  176.119.198.199       el           67.59  \n\n[10000 rows x 14 columns]",
      "text/html": "<div>\n<style scoped>\n    .dataframe tbody tr th:only-of-type {\n        vertical-align: middle;\n    }\n\n    .dataframe tbody tr th {\n        vertical-align: top;\n    }\n\n    .dataframe thead th {\n        text-align: right;\n    }\n</style>\n<table border=\"1\" class=\"dataframe\">\n  <thead>\n    <tr style=\"text-align: right;\">\n      <th></th>\n      <th>Address</th>\n      <th>Lot</th>\n      <th>AM or PM</th>\n      <th>Browser Info</th>\n      <th>Company</th>\n      <th>Credit Card</th>\n      <th>CC Exp Date</th>\n      <th>CC Security Code</th>\n      <th>CC Provider</th>\n      <th>Email</th>\n      <th>Job</th>\n      <th>IP Address</th>\n      <th>Language</th>\n      <th>Purchase Price</th>\n    </tr>\n  </thead>\n  <tbody>\n    <tr>\n      <th>0</th>\n      <td>16629 Pace Camp Apt. 448\\nAlexisborough, NE 77...</td>\n      <td>46 in</td>\n      <td>PM</td>\n      <td>Opera/9.56.(X11; Linux x86_64; sl-SI) Presto/2...</td>\n      <td>Martinez-Herman</td>\n      <td>6011929061123406</td>\n      <td>02/20</td>\n      <td>900</td>\n      <td>JCB 16 digit</td>\n      <td>pdunlap@yahoo.com</td>\n      <td>Scientist, product/process development</td>\n      <td>149.146.147.205</td>\n      <td>el</td>\n      <td>98.14</td>\n    </tr>\n    <tr>\n      <th>1</th>\n      <td>9374 Jasmine Spurs Suite 508\\nSouth John, TN 8...</td>\n      <td>28 rn</td>\n      <td>PM</td>\n      <td>Opera/8.93.(Windows 98; Win 9x 4.90; en-US) Pr...</td>\n      <td>Fletcher, Richards and Whitaker</td>\n      <td>3337758169645356</td>\n      <td>11/18</td>\n      <td>561</td>\n      <td>Mastercard</td>\n      <td>anthony41@reed.com</td>\n      <td>Drilling engineer</td>\n      <td>15.160.41.51</td>\n      <td>fr</td>\n      <td>70.73</td>\n    </tr>\n    <tr>\n      <th>2</th>\n      <td>Unit 0065 Box 5052\\nDPO AP 27450</td>\n      <td>94 vE</td>\n      <td>PM</td>\n      <td>Mozilla/5.0 (compatible; MSIE 9.0; Windows NT ...</td>\n      <td>Simpson, Williams and Pham</td>\n      <td>675957666125</td>\n      <td>08/19</td>\n      <td>699</td>\n      <td>JCB 16 digit</td>\n      <td>amymiller@morales-harrison.com</td>\n      <td>Customer service manager</td>\n      <td>132.207.160.22</td>\n      <td>de</td>\n      <td>0.95</td>\n    </tr>\n    <tr>\n      <th>3</th>\n      <td>7780 Julia Fords\\nNew Stacy, WA 45798</td>\n      <td>36 vm</td>\n      <td>PM</td>\n      <td>Mozilla/5.0 (Macintosh; Intel Mac OS X 10_8_0 ...</td>\n      <td>Williams, Marshall and Buchanan</td>\n      <td>6011578504430710</td>\n      <td>02/24</td>\n      <td>384</td>\n      <td>Discover</td>\n      <td>brent16@olson-robinson.info</td>\n      <td>Drilling engineer</td>\n      <td>30.250.74.19</td>\n      <td>es</td>\n      <td>78.04</td>\n    </tr>\n    <tr>\n      <th>4</th>\n      <td>23012 Munoz Drive Suite 337\\nNew Cynthia, TX 5...</td>\n      <td>20 IE</td>\n      <td>AM</td>\n      <td>Opera/9.58.(X11; Linux x86_64; it-IT) Presto/2...</td>\n      <td>Brown, Watson and Andrews</td>\n      <td>6011456623207998</td>\n      <td>10/25</td>\n      <td>678</td>\n      <td>Diners Club / Carte Blanche</td>\n      <td>christopherwright@gmail.com</td>\n      <td>Fine artist</td>\n      <td>24.140.33.94</td>\n      <td>es</td>\n      <td>77.82</td>\n    </tr>\n    <tr>\n      <th>...</th>\n      <td>...</td>\n      <td>...</td>\n      <td>...</td>\n      <td>...</td>\n      <td>...</td>\n      <td>...</td>\n      <td>...</td>\n      <td>...</td>\n      <td>...</td>\n      <td>...</td>\n      <td>...</td>\n      <td>...</td>\n      <td>...</td>\n      <td>...</td>\n    </tr>\n    <tr>\n      <th>9995</th>\n      <td>966 Castaneda Locks\\nWest Juliafurt, CO 96415</td>\n      <td>92 XI</td>\n      <td>PM</td>\n      <td>Mozilla/5.0 (Windows NT 5.1) AppleWebKit/5352 ...</td>\n      <td>Randall-Sloan</td>\n      <td>342945015358701</td>\n      <td>03/22</td>\n      <td>838</td>\n      <td>JCB 15 digit</td>\n      <td>iscott@wade-garner.com</td>\n      <td>Printmaker</td>\n      <td>29.73.197.114</td>\n      <td>it</td>\n      <td>82.21</td>\n    </tr>\n    <tr>\n      <th>9996</th>\n      <td>832 Curtis Dam Suite 785\\nNorth Edwardburgh, T...</td>\n      <td>41 JY</td>\n      <td>AM</td>\n      <td>Mozilla/5.0 (compatible; MSIE 9.0; Windows NT ...</td>\n      <td>Hale, Collins and Wilson</td>\n      <td>210033169205009</td>\n      <td>07/25</td>\n      <td>207</td>\n      <td>JCB 16 digit</td>\n      <td>mary85@hotmail.com</td>\n      <td>Energy engineer</td>\n      <td>121.133.168.51</td>\n      <td>pt</td>\n      <td>25.63</td>\n    </tr>\n    <tr>\n      <th>9997</th>\n      <td>Unit 4434 Box 6343\\nDPO AE 28026-0283</td>\n      <td>74 Zh</td>\n      <td>AM</td>\n      <td>Mozilla/5.0 (Macintosh; U; Intel Mac OS X 10_7...</td>\n      <td>Anderson Ltd</td>\n      <td>6011539787356311</td>\n      <td>05/21</td>\n      <td>1</td>\n      <td>VISA 16 digit</td>\n      <td>tyler16@gmail.com</td>\n      <td>Veterinary surgeon</td>\n      <td>156.210.0.254</td>\n      <td>el</td>\n      <td>83.98</td>\n    </tr>\n    <tr>\n      <th>9998</th>\n      <td>0096 English Rest\\nRoystad, IA 12457</td>\n      <td>74 cL</td>\n      <td>PM</td>\n      <td>Mozilla/5.0 (Macintosh; Intel Mac OS X 10_8_8;...</td>\n      <td>Cook Inc</td>\n      <td>180003348082930</td>\n      <td>11/17</td>\n      <td>987</td>\n      <td>American Express</td>\n      <td>elizabethmoore@reid.net</td>\n      <td>Local government officer</td>\n      <td>55.78.26.143</td>\n      <td>es</td>\n      <td>38.84</td>\n    </tr>\n    <tr>\n      <th>9999</th>\n      <td>40674 Barrett Stravenue\\nGrimesville, WI 79682</td>\n      <td>64 Hr</td>\n      <td>AM</td>\n      <td>Mozilla/5.0 (X11; Linux i686; rv:1.9.5.20) Gec...</td>\n      <td>Greene Inc</td>\n      <td>4139972901927273</td>\n      <td>02/19</td>\n      <td>302</td>\n      <td>JCB 15 digit</td>\n      <td>rachelford@vaughn.com</td>\n      <td>Embryologist, clinical</td>\n      <td>176.119.198.199</td>\n      <td>el</td>\n      <td>67.59</td>\n    </tr>\n  </tbody>\n</table>\n<p>10000 rows × 14 columns</p>\n</div>"
     },
     "execution_count": 6,
     "metadata": {},
     "output_type": "execute_result"
    }
   ],
   "source": [
    "df_1 = pd.read_csv(\"C:\\\\Users\\\\Malli\\\\Downloads\\\\Ecommerce Purchases.txt\")\n",
    "df_1"
   ]
  },
  {
   "cell_type": "code",
   "execution_count": null,
   "metadata": {},
   "outputs": [],
   "source": []
  },
  {
   "cell_type": "markdown",
   "metadata": {},
   "source": [
    "### 1.Display Top 10 Rows of The Dataset"
   ]
  },
  {
   "cell_type": "code",
   "execution_count": 9,
   "metadata": {
    "ExecuteTime": {
     "end_time": "2024-05-07T06:13:26.969078900Z",
     "start_time": "2024-05-07T06:13:26.890934500Z"
    }
   },
   "outputs": [
    {
     "data": {
      "text/plain": "                                             Address    Lot AM or PM  \\\n0  16629 Pace Camp Apt. 448\\nAlexisborough, NE 77...  46 in       PM   \n1  9374 Jasmine Spurs Suite 508\\nSouth John, TN 8...  28 rn       PM   \n2                   Unit 0065 Box 5052\\nDPO AP 27450  94 vE       PM   \n3              7780 Julia Fords\\nNew Stacy, WA 45798  36 vm       PM   \n4  23012 Munoz Drive Suite 337\\nNew Cynthia, TX 5...  20 IE       AM   \n5  7502 Powell Mission Apt. 768\\nTravisland, VA 3...  21 XT       PM   \n6     93971 Conway Causeway\\nAndersonburgh, AZ 75107  96 Xt       AM   \n7  260 Rachel Plains Suite 366\\nCastroberg, WV 24...  96 pG       PM   \n8            2129 Dylan Burg\\nNew Michelle, ME 28650  45 JN       PM   \n9    3795 Dawson Extensions\\nLake Tinafort, ID 88739  15 Ug       AM   \n\n                                        Browser Info  \\\n0  Opera/9.56.(X11; Linux x86_64; sl-SI) Presto/2...   \n1  Opera/8.93.(Windows 98; Win 9x 4.90; en-US) Pr...   \n2  Mozilla/5.0 (compatible; MSIE 9.0; Windows NT ...   \n3  Mozilla/5.0 (Macintosh; Intel Mac OS X 10_8_0 ...   \n4  Opera/9.58.(X11; Linux x86_64; it-IT) Presto/2...   \n5  Mozilla/5.0 (Macintosh; U; PPC Mac OS X 10_8_5...   \n6  Mozilla/5.0 (compatible; MSIE 7.0; Windows NT ...   \n7  Mozilla/5.0 (X11; Linux i686) AppleWebKit/5350...   \n8  Mozilla/5.0 (Macintosh; U; Intel Mac OS X 10_7...   \n9  Mozilla/5.0 (X11; Linux i686; rv:1.9.7.20) Gec...   \n\n                           Company       Credit Card CC Exp Date  \\\n0                  Martinez-Herman  6011929061123406       02/20   \n1  Fletcher, Richards and Whitaker  3337758169645356       11/18   \n2       Simpson, Williams and Pham      675957666125       08/19   \n3  Williams, Marshall and Buchanan  6011578504430710       02/24   \n4        Brown, Watson and Andrews  6011456623207998       10/25   \n5                   Silva-Anderson    30246185196287       07/25   \n6                  Gibson and Sons  6011398782655569       07/24   \n7                 Marshall-Collins      561252141909       06/25   \n8                Galloway and Sons   180041795790001       04/24   \n9     Rivera, Buchanan and Ramirez     4396283918371       01/17   \n\n   CC Security Code                  CC Provider  \\\n0               900                 JCB 16 digit   \n1               561                   Mastercard   \n2               699                 JCB 16 digit   \n3               384                     Discover   \n4               678  Diners Club / Carte Blanche   \n5              7169                     Discover   \n6               714                VISA 16 digit   \n7               256                VISA 13 digit   \n8               899                 JCB 16 digit   \n9               931             American Express   \n\n                            Email                                     Job  \\\n0               pdunlap@yahoo.com  Scientist, product/process development   \n1              anthony41@reed.com                       Drilling engineer   \n2  amymiller@morales-harrison.com                Customer service manager   \n3     brent16@olson-robinson.info                       Drilling engineer   \n4     christopherwright@gmail.com                             Fine artist   \n5               ynguyen@gmail.com                       Fish farm manager   \n6              olivia04@yahoo.com                                  Dancer   \n7            phillip48@parks.info                         Event organiser   \n8            kdavis@rasmussen.com                       Financial manager   \n9        qcoleman@hunt-huerta.com                      Forensic scientist   \n\n        IP Address Language  Purchase Price  \n0  149.146.147.205       el           98.14  \n1     15.160.41.51       fr           70.73  \n2   132.207.160.22       de            0.95  \n3     30.250.74.19       es           78.04  \n4     24.140.33.94       es           77.82  \n5    55.96.152.147       ru           25.15  \n6   127.252.144.18       de           88.56  \n7   224.247.97.150       pt           44.25  \n8  146.234.201.229       ru           59.54  \n9    236.198.199.8       zh           95.63  ",
      "text/html": "<div>\n<style scoped>\n    .dataframe tbody tr th:only-of-type {\n        vertical-align: middle;\n    }\n\n    .dataframe tbody tr th {\n        vertical-align: top;\n    }\n\n    .dataframe thead th {\n        text-align: right;\n    }\n</style>\n<table border=\"1\" class=\"dataframe\">\n  <thead>\n    <tr style=\"text-align: right;\">\n      <th></th>\n      <th>Address</th>\n      <th>Lot</th>\n      <th>AM or PM</th>\n      <th>Browser Info</th>\n      <th>Company</th>\n      <th>Credit Card</th>\n      <th>CC Exp Date</th>\n      <th>CC Security Code</th>\n      <th>CC Provider</th>\n      <th>Email</th>\n      <th>Job</th>\n      <th>IP Address</th>\n      <th>Language</th>\n      <th>Purchase Price</th>\n    </tr>\n  </thead>\n  <tbody>\n    <tr>\n      <th>0</th>\n      <td>16629 Pace Camp Apt. 448\\nAlexisborough, NE 77...</td>\n      <td>46 in</td>\n      <td>PM</td>\n      <td>Opera/9.56.(X11; Linux x86_64; sl-SI) Presto/2...</td>\n      <td>Martinez-Herman</td>\n      <td>6011929061123406</td>\n      <td>02/20</td>\n      <td>900</td>\n      <td>JCB 16 digit</td>\n      <td>pdunlap@yahoo.com</td>\n      <td>Scientist, product/process development</td>\n      <td>149.146.147.205</td>\n      <td>el</td>\n      <td>98.14</td>\n    </tr>\n    <tr>\n      <th>1</th>\n      <td>9374 Jasmine Spurs Suite 508\\nSouth John, TN 8...</td>\n      <td>28 rn</td>\n      <td>PM</td>\n      <td>Opera/8.93.(Windows 98; Win 9x 4.90; en-US) Pr...</td>\n      <td>Fletcher, Richards and Whitaker</td>\n      <td>3337758169645356</td>\n      <td>11/18</td>\n      <td>561</td>\n      <td>Mastercard</td>\n      <td>anthony41@reed.com</td>\n      <td>Drilling engineer</td>\n      <td>15.160.41.51</td>\n      <td>fr</td>\n      <td>70.73</td>\n    </tr>\n    <tr>\n      <th>2</th>\n      <td>Unit 0065 Box 5052\\nDPO AP 27450</td>\n      <td>94 vE</td>\n      <td>PM</td>\n      <td>Mozilla/5.0 (compatible; MSIE 9.0; Windows NT ...</td>\n      <td>Simpson, Williams and Pham</td>\n      <td>675957666125</td>\n      <td>08/19</td>\n      <td>699</td>\n      <td>JCB 16 digit</td>\n      <td>amymiller@morales-harrison.com</td>\n      <td>Customer service manager</td>\n      <td>132.207.160.22</td>\n      <td>de</td>\n      <td>0.95</td>\n    </tr>\n    <tr>\n      <th>3</th>\n      <td>7780 Julia Fords\\nNew Stacy, WA 45798</td>\n      <td>36 vm</td>\n      <td>PM</td>\n      <td>Mozilla/5.0 (Macintosh; Intel Mac OS X 10_8_0 ...</td>\n      <td>Williams, Marshall and Buchanan</td>\n      <td>6011578504430710</td>\n      <td>02/24</td>\n      <td>384</td>\n      <td>Discover</td>\n      <td>brent16@olson-robinson.info</td>\n      <td>Drilling engineer</td>\n      <td>30.250.74.19</td>\n      <td>es</td>\n      <td>78.04</td>\n    </tr>\n    <tr>\n      <th>4</th>\n      <td>23012 Munoz Drive Suite 337\\nNew Cynthia, TX 5...</td>\n      <td>20 IE</td>\n      <td>AM</td>\n      <td>Opera/9.58.(X11; Linux x86_64; it-IT) Presto/2...</td>\n      <td>Brown, Watson and Andrews</td>\n      <td>6011456623207998</td>\n      <td>10/25</td>\n      <td>678</td>\n      <td>Diners Club / Carte Blanche</td>\n      <td>christopherwright@gmail.com</td>\n      <td>Fine artist</td>\n      <td>24.140.33.94</td>\n      <td>es</td>\n      <td>77.82</td>\n    </tr>\n    <tr>\n      <th>5</th>\n      <td>7502 Powell Mission Apt. 768\\nTravisland, VA 3...</td>\n      <td>21 XT</td>\n      <td>PM</td>\n      <td>Mozilla/5.0 (Macintosh; U; PPC Mac OS X 10_8_5...</td>\n      <td>Silva-Anderson</td>\n      <td>30246185196287</td>\n      <td>07/25</td>\n      <td>7169</td>\n      <td>Discover</td>\n      <td>ynguyen@gmail.com</td>\n      <td>Fish farm manager</td>\n      <td>55.96.152.147</td>\n      <td>ru</td>\n      <td>25.15</td>\n    </tr>\n    <tr>\n      <th>6</th>\n      <td>93971 Conway Causeway\\nAndersonburgh, AZ 75107</td>\n      <td>96 Xt</td>\n      <td>AM</td>\n      <td>Mozilla/5.0 (compatible; MSIE 7.0; Windows NT ...</td>\n      <td>Gibson and Sons</td>\n      <td>6011398782655569</td>\n      <td>07/24</td>\n      <td>714</td>\n      <td>VISA 16 digit</td>\n      <td>olivia04@yahoo.com</td>\n      <td>Dancer</td>\n      <td>127.252.144.18</td>\n      <td>de</td>\n      <td>88.56</td>\n    </tr>\n    <tr>\n      <th>7</th>\n      <td>260 Rachel Plains Suite 366\\nCastroberg, WV 24...</td>\n      <td>96 pG</td>\n      <td>PM</td>\n      <td>Mozilla/5.0 (X11; Linux i686) AppleWebKit/5350...</td>\n      <td>Marshall-Collins</td>\n      <td>561252141909</td>\n      <td>06/25</td>\n      <td>256</td>\n      <td>VISA 13 digit</td>\n      <td>phillip48@parks.info</td>\n      <td>Event organiser</td>\n      <td>224.247.97.150</td>\n      <td>pt</td>\n      <td>44.25</td>\n    </tr>\n    <tr>\n      <th>8</th>\n      <td>2129 Dylan Burg\\nNew Michelle, ME 28650</td>\n      <td>45 JN</td>\n      <td>PM</td>\n      <td>Mozilla/5.0 (Macintosh; U; Intel Mac OS X 10_7...</td>\n      <td>Galloway and Sons</td>\n      <td>180041795790001</td>\n      <td>04/24</td>\n      <td>899</td>\n      <td>JCB 16 digit</td>\n      <td>kdavis@rasmussen.com</td>\n      <td>Financial manager</td>\n      <td>146.234.201.229</td>\n      <td>ru</td>\n      <td>59.54</td>\n    </tr>\n    <tr>\n      <th>9</th>\n      <td>3795 Dawson Extensions\\nLake Tinafort, ID 88739</td>\n      <td>15 Ug</td>\n      <td>AM</td>\n      <td>Mozilla/5.0 (X11; Linux i686; rv:1.9.7.20) Gec...</td>\n      <td>Rivera, Buchanan and Ramirez</td>\n      <td>4396283918371</td>\n      <td>01/17</td>\n      <td>931</td>\n      <td>American Express</td>\n      <td>qcoleman@hunt-huerta.com</td>\n      <td>Forensic scientist</td>\n      <td>236.198.199.8</td>\n      <td>zh</td>\n      <td>95.63</td>\n    </tr>\n  </tbody>\n</table>\n</div>"
     },
     "execution_count": 9,
     "metadata": {},
     "output_type": "execute_result"
    }
   ],
   "source": [
    "df_1.head(10)"
   ]
  },
  {
   "cell_type": "markdown",
   "metadata": {},
   "source": [
    "### 2. Check Last 10 Rows of The Dataset"
   ]
  },
  {
   "cell_type": "code",
   "execution_count": 10,
   "metadata": {
    "ExecuteTime": {
     "end_time": "2024-05-07T06:13:32.988214100Z",
     "start_time": "2024-05-07T06:13:32.908535200Z"
    }
   },
   "outputs": [
    {
     "data": {
      "text/plain": "                                                Address    Lot AM or PM  \\\n9990  75731 Molly Springs\\nWest Danielle, VT 96934-5102  93 ty       PM   \n9991              PSC 8165, Box 8498\\nAPO AP 60327-0346  50 dA       AM   \n9992  885 Allen Mountains Apt. 230\\nWallhaven, LA 16995  40 vH       PM   \n9993  7555 Larson Locks Suite 229\\nEllisburgh, MA 34...  72 jg       PM   \n9994       6276 Rojas Hollow\\nLake Louis, WY 56410-7837  93 Ex       PM   \n9995      966 Castaneda Locks\\nWest Juliafurt, CO 96415  92 XI       PM   \n9996  832 Curtis Dam Suite 785\\nNorth Edwardburgh, T...  41 JY       AM   \n9997              Unit 4434 Box 6343\\nDPO AE 28026-0283  74 Zh       AM   \n9998               0096 English Rest\\nRoystad, IA 12457  74 cL       PM   \n9999     40674 Barrett Stravenue\\nGrimesville, WI 79682  64 Hr       AM   \n\n                                           Browser Info  \\\n9990  Mozilla/5.0 (Macintosh; Intel Mac OS X 10_7_4;...   \n9991  Mozilla/5.0 (compatible; MSIE 8.0; Windows NT ...   \n9992  Mozilla/5.0 (Macintosh; PPC Mac OS X 10_6_5) A...   \n9993  Mozilla/5.0 (Macintosh; U; Intel Mac OS X 10_8...   \n9994  Opera/9.68.(X11; Linux x86_64; sl-SI) Presto/2...   \n9995  Mozilla/5.0 (Windows NT 5.1) AppleWebKit/5352 ...   \n9996  Mozilla/5.0 (compatible; MSIE 9.0; Windows NT ...   \n9997  Mozilla/5.0 (Macintosh; U; Intel Mac OS X 10_7...   \n9998  Mozilla/5.0 (Macintosh; Intel Mac OS X 10_8_8;...   \n9999  Mozilla/5.0 (X11; Linux i686; rv:1.9.5.20) Gec...   \n\n                         Company       Credit Card CC Exp Date  \\\n9990  Pace, Vazquez and Richards   869968197049750       04/24   \n9991                  Snyder Inc  4221582137197481       02/24   \n9992                   Wells Ltd  4664825258997302       10/20   \n9993              Colon and Sons    30025560104631       10/25   \n9994                Ritter-Smith  3112186784121077       01/25   \n9995               Randall-Sloan   342945015358701       03/22   \n9996    Hale, Collins and Wilson   210033169205009       07/25   \n9997                Anderson Ltd  6011539787356311       05/21   \n9998                    Cook Inc   180003348082930       11/17   \n9999                  Greene Inc  4139972901927273       02/19   \n\n      CC Security Code       CC Provider                        Email  \\\n9990               877      JCB 15 digit  andersonmichael@sherman.biz   \n9991               969           Voyager           kking@wise-liu.com   \n9992               431          Discover            bberry@wright.net   \n9993               629           Maestro    chelseawilliams@lopez.biz   \n9994              1823           Maestro           iroberts@gmail.com   \n9995               838      JCB 15 digit       iscott@wade-garner.com   \n9996               207      JCB 16 digit           mary85@hotmail.com   \n9997                 1     VISA 16 digit            tyler16@gmail.com   \n9998               987  American Express      elizabethmoore@reid.net   \n9999               302      JCB 15 digit        rachelford@vaughn.com   \n\n                               Job       IP Address Language  Purchase Price  \n9990           Early years teacher     54.170.3.185       ru           18.35  \n9991         IT sales professional    254.25.31.156       el           25.93  \n9992                  Set designer    174.173.51.32       de           67.96  \n9993  Designer, exhibition/display    177.46.82.128       el           65.61  \n9994     Education officer, museum    242.44.112.18       zh           31.85  \n9995                    Printmaker    29.73.197.114       it           82.21  \n9996               Energy engineer   121.133.168.51       pt           25.63  \n9997            Veterinary surgeon    156.210.0.254       el           83.98  \n9998      Local government officer     55.78.26.143       es           38.84  \n9999        Embryologist, clinical  176.119.198.199       el           67.59  ",
      "text/html": "<div>\n<style scoped>\n    .dataframe tbody tr th:only-of-type {\n        vertical-align: middle;\n    }\n\n    .dataframe tbody tr th {\n        vertical-align: top;\n    }\n\n    .dataframe thead th {\n        text-align: right;\n    }\n</style>\n<table border=\"1\" class=\"dataframe\">\n  <thead>\n    <tr style=\"text-align: right;\">\n      <th></th>\n      <th>Address</th>\n      <th>Lot</th>\n      <th>AM or PM</th>\n      <th>Browser Info</th>\n      <th>Company</th>\n      <th>Credit Card</th>\n      <th>CC Exp Date</th>\n      <th>CC Security Code</th>\n      <th>CC Provider</th>\n      <th>Email</th>\n      <th>Job</th>\n      <th>IP Address</th>\n      <th>Language</th>\n      <th>Purchase Price</th>\n    </tr>\n  </thead>\n  <tbody>\n    <tr>\n      <th>9990</th>\n      <td>75731 Molly Springs\\nWest Danielle, VT 96934-5102</td>\n      <td>93 ty</td>\n      <td>PM</td>\n      <td>Mozilla/5.0 (Macintosh; Intel Mac OS X 10_7_4;...</td>\n      <td>Pace, Vazquez and Richards</td>\n      <td>869968197049750</td>\n      <td>04/24</td>\n      <td>877</td>\n      <td>JCB 15 digit</td>\n      <td>andersonmichael@sherman.biz</td>\n      <td>Early years teacher</td>\n      <td>54.170.3.185</td>\n      <td>ru</td>\n      <td>18.35</td>\n    </tr>\n    <tr>\n      <th>9991</th>\n      <td>PSC 8165, Box 8498\\nAPO AP 60327-0346</td>\n      <td>50 dA</td>\n      <td>AM</td>\n      <td>Mozilla/5.0 (compatible; MSIE 8.0; Windows NT ...</td>\n      <td>Snyder Inc</td>\n      <td>4221582137197481</td>\n      <td>02/24</td>\n      <td>969</td>\n      <td>Voyager</td>\n      <td>kking@wise-liu.com</td>\n      <td>IT sales professional</td>\n      <td>254.25.31.156</td>\n      <td>el</td>\n      <td>25.93</td>\n    </tr>\n    <tr>\n      <th>9992</th>\n      <td>885 Allen Mountains Apt. 230\\nWallhaven, LA 16995</td>\n      <td>40 vH</td>\n      <td>PM</td>\n      <td>Mozilla/5.0 (Macintosh; PPC Mac OS X 10_6_5) A...</td>\n      <td>Wells Ltd</td>\n      <td>4664825258997302</td>\n      <td>10/20</td>\n      <td>431</td>\n      <td>Discover</td>\n      <td>bberry@wright.net</td>\n      <td>Set designer</td>\n      <td>174.173.51.32</td>\n      <td>de</td>\n      <td>67.96</td>\n    </tr>\n    <tr>\n      <th>9993</th>\n      <td>7555 Larson Locks Suite 229\\nEllisburgh, MA 34...</td>\n      <td>72 jg</td>\n      <td>PM</td>\n      <td>Mozilla/5.0 (Macintosh; U; Intel Mac OS X 10_8...</td>\n      <td>Colon and Sons</td>\n      <td>30025560104631</td>\n      <td>10/25</td>\n      <td>629</td>\n      <td>Maestro</td>\n      <td>chelseawilliams@lopez.biz</td>\n      <td>Designer, exhibition/display</td>\n      <td>177.46.82.128</td>\n      <td>el</td>\n      <td>65.61</td>\n    </tr>\n    <tr>\n      <th>9994</th>\n      <td>6276 Rojas Hollow\\nLake Louis, WY 56410-7837</td>\n      <td>93 Ex</td>\n      <td>PM</td>\n      <td>Opera/9.68.(X11; Linux x86_64; sl-SI) Presto/2...</td>\n      <td>Ritter-Smith</td>\n      <td>3112186784121077</td>\n      <td>01/25</td>\n      <td>1823</td>\n      <td>Maestro</td>\n      <td>iroberts@gmail.com</td>\n      <td>Education officer, museum</td>\n      <td>242.44.112.18</td>\n      <td>zh</td>\n      <td>31.85</td>\n    </tr>\n    <tr>\n      <th>9995</th>\n      <td>966 Castaneda Locks\\nWest Juliafurt, CO 96415</td>\n      <td>92 XI</td>\n      <td>PM</td>\n      <td>Mozilla/5.0 (Windows NT 5.1) AppleWebKit/5352 ...</td>\n      <td>Randall-Sloan</td>\n      <td>342945015358701</td>\n      <td>03/22</td>\n      <td>838</td>\n      <td>JCB 15 digit</td>\n      <td>iscott@wade-garner.com</td>\n      <td>Printmaker</td>\n      <td>29.73.197.114</td>\n      <td>it</td>\n      <td>82.21</td>\n    </tr>\n    <tr>\n      <th>9996</th>\n      <td>832 Curtis Dam Suite 785\\nNorth Edwardburgh, T...</td>\n      <td>41 JY</td>\n      <td>AM</td>\n      <td>Mozilla/5.0 (compatible; MSIE 9.0; Windows NT ...</td>\n      <td>Hale, Collins and Wilson</td>\n      <td>210033169205009</td>\n      <td>07/25</td>\n      <td>207</td>\n      <td>JCB 16 digit</td>\n      <td>mary85@hotmail.com</td>\n      <td>Energy engineer</td>\n      <td>121.133.168.51</td>\n      <td>pt</td>\n      <td>25.63</td>\n    </tr>\n    <tr>\n      <th>9997</th>\n      <td>Unit 4434 Box 6343\\nDPO AE 28026-0283</td>\n      <td>74 Zh</td>\n      <td>AM</td>\n      <td>Mozilla/5.0 (Macintosh; U; Intel Mac OS X 10_7...</td>\n      <td>Anderson Ltd</td>\n      <td>6011539787356311</td>\n      <td>05/21</td>\n      <td>1</td>\n      <td>VISA 16 digit</td>\n      <td>tyler16@gmail.com</td>\n      <td>Veterinary surgeon</td>\n      <td>156.210.0.254</td>\n      <td>el</td>\n      <td>83.98</td>\n    </tr>\n    <tr>\n      <th>9998</th>\n      <td>0096 English Rest\\nRoystad, IA 12457</td>\n      <td>74 cL</td>\n      <td>PM</td>\n      <td>Mozilla/5.0 (Macintosh; Intel Mac OS X 10_8_8;...</td>\n      <td>Cook Inc</td>\n      <td>180003348082930</td>\n      <td>11/17</td>\n      <td>987</td>\n      <td>American Express</td>\n      <td>elizabethmoore@reid.net</td>\n      <td>Local government officer</td>\n      <td>55.78.26.143</td>\n      <td>es</td>\n      <td>38.84</td>\n    </tr>\n    <tr>\n      <th>9999</th>\n      <td>40674 Barrett Stravenue\\nGrimesville, WI 79682</td>\n      <td>64 Hr</td>\n      <td>AM</td>\n      <td>Mozilla/5.0 (X11; Linux i686; rv:1.9.5.20) Gec...</td>\n      <td>Greene Inc</td>\n      <td>4139972901927273</td>\n      <td>02/19</td>\n      <td>302</td>\n      <td>JCB 15 digit</td>\n      <td>rachelford@vaughn.com</td>\n      <td>Embryologist, clinical</td>\n      <td>176.119.198.199</td>\n      <td>el</td>\n      <td>67.59</td>\n    </tr>\n  </tbody>\n</table>\n</div>"
     },
     "execution_count": 10,
     "metadata": {},
     "output_type": "execute_result"
    }
   ],
   "source": [
    "df_1.tail(10)"
   ]
  },
  {
   "cell_type": "markdown",
   "metadata": {},
   "source": [
    "### 3. Check Datatype of Each Column"
   ]
  },
  {
   "cell_type": "code",
   "execution_count": 12,
   "metadata": {
    "ExecuteTime": {
     "end_time": "2024-05-07T06:13:41.399384400Z",
     "start_time": "2024-05-07T06:13:41.354324200Z"
    }
   },
   "outputs": [
    {
     "data": {
      "text/plain": "Address              object\nLot                  object\nAM or PM             object\nBrowser Info         object\nCompany              object\nCredit Card           int64\nCC Exp Date          object\nCC Security Code      int64\nCC Provider          object\nEmail                object\nJob                  object\nIP Address           object\nLanguage             object\nPurchase Price      float64\ndtype: object"
     },
     "execution_count": 12,
     "metadata": {},
     "output_type": "execute_result"
    }
   ],
   "source": [
    "df_1.dtypes"
   ]
  },
  {
   "cell_type": "markdown",
   "metadata": {},
   "source": [
    "### 4.Check Null Values In The Dataset"
   ]
  },
  {
   "cell_type": "code",
   "execution_count": 13,
   "metadata": {
    "ExecuteTime": {
     "end_time": "2024-05-07T06:15:08.719104Z",
     "start_time": "2024-05-07T06:15:08.609219700Z"
    }
   },
   "outputs": [
    {
     "data": {
      "text/plain": "      Address    Lot  AM or PM  Browser Info  Company  Credit Card  \\\n0       False  False     False         False    False        False   \n1       False  False     False         False    False        False   \n2       False  False     False         False    False        False   \n3       False  False     False         False    False        False   \n4       False  False     False         False    False        False   \n...       ...    ...       ...           ...      ...          ...   \n9995    False  False     False         False    False        False   \n9996    False  False     False         False    False        False   \n9997    False  False     False         False    False        False   \n9998    False  False     False         False    False        False   \n9999    False  False     False         False    False        False   \n\n      CC Exp Date  CC Security Code  CC Provider  Email    Job  IP Address  \\\n0           False             False        False  False  False       False   \n1           False             False        False  False  False       False   \n2           False             False        False  False  False       False   \n3           False             False        False  False  False       False   \n4           False             False        False  False  False       False   \n...           ...               ...          ...    ...    ...         ...   \n9995        False             False        False  False  False       False   \n9996        False             False        False  False  False       False   \n9997        False             False        False  False  False       False   \n9998        False             False        False  False  False       False   \n9999        False             False        False  False  False       False   \n\n      Language  Purchase Price  \n0        False           False  \n1        False           False  \n2        False           False  \n3        False           False  \n4        False           False  \n...        ...             ...  \n9995     False           False  \n9996     False           False  \n9997     False           False  \n9998     False           False  \n9999     False           False  \n\n[10000 rows x 14 columns]",
      "text/html": "<div>\n<style scoped>\n    .dataframe tbody tr th:only-of-type {\n        vertical-align: middle;\n    }\n\n    .dataframe tbody tr th {\n        vertical-align: top;\n    }\n\n    .dataframe thead th {\n        text-align: right;\n    }\n</style>\n<table border=\"1\" class=\"dataframe\">\n  <thead>\n    <tr style=\"text-align: right;\">\n      <th></th>\n      <th>Address</th>\n      <th>Lot</th>\n      <th>AM or PM</th>\n      <th>Browser Info</th>\n      <th>Company</th>\n      <th>Credit Card</th>\n      <th>CC Exp Date</th>\n      <th>CC Security Code</th>\n      <th>CC Provider</th>\n      <th>Email</th>\n      <th>Job</th>\n      <th>IP Address</th>\n      <th>Language</th>\n      <th>Purchase Price</th>\n    </tr>\n  </thead>\n  <tbody>\n    <tr>\n      <th>0</th>\n      <td>False</td>\n      <td>False</td>\n      <td>False</td>\n      <td>False</td>\n      <td>False</td>\n      <td>False</td>\n      <td>False</td>\n      <td>False</td>\n      <td>False</td>\n      <td>False</td>\n      <td>False</td>\n      <td>False</td>\n      <td>False</td>\n      <td>False</td>\n    </tr>\n    <tr>\n      <th>1</th>\n      <td>False</td>\n      <td>False</td>\n      <td>False</td>\n      <td>False</td>\n      <td>False</td>\n      <td>False</td>\n      <td>False</td>\n      <td>False</td>\n      <td>False</td>\n      <td>False</td>\n      <td>False</td>\n      <td>False</td>\n      <td>False</td>\n      <td>False</td>\n    </tr>\n    <tr>\n      <th>2</th>\n      <td>False</td>\n      <td>False</td>\n      <td>False</td>\n      <td>False</td>\n      <td>False</td>\n      <td>False</td>\n      <td>False</td>\n      <td>False</td>\n      <td>False</td>\n      <td>False</td>\n      <td>False</td>\n      <td>False</td>\n      <td>False</td>\n      <td>False</td>\n    </tr>\n    <tr>\n      <th>3</th>\n      <td>False</td>\n      <td>False</td>\n      <td>False</td>\n      <td>False</td>\n      <td>False</td>\n      <td>False</td>\n      <td>False</td>\n      <td>False</td>\n      <td>False</td>\n      <td>False</td>\n      <td>False</td>\n      <td>False</td>\n      <td>False</td>\n      <td>False</td>\n    </tr>\n    <tr>\n      <th>4</th>\n      <td>False</td>\n      <td>False</td>\n      <td>False</td>\n      <td>False</td>\n      <td>False</td>\n      <td>False</td>\n      <td>False</td>\n      <td>False</td>\n      <td>False</td>\n      <td>False</td>\n      <td>False</td>\n      <td>False</td>\n      <td>False</td>\n      <td>False</td>\n    </tr>\n    <tr>\n      <th>...</th>\n      <td>...</td>\n      <td>...</td>\n      <td>...</td>\n      <td>...</td>\n      <td>...</td>\n      <td>...</td>\n      <td>...</td>\n      <td>...</td>\n      <td>...</td>\n      <td>...</td>\n      <td>...</td>\n      <td>...</td>\n      <td>...</td>\n      <td>...</td>\n    </tr>\n    <tr>\n      <th>9995</th>\n      <td>False</td>\n      <td>False</td>\n      <td>False</td>\n      <td>False</td>\n      <td>False</td>\n      <td>False</td>\n      <td>False</td>\n      <td>False</td>\n      <td>False</td>\n      <td>False</td>\n      <td>False</td>\n      <td>False</td>\n      <td>False</td>\n      <td>False</td>\n    </tr>\n    <tr>\n      <th>9996</th>\n      <td>False</td>\n      <td>False</td>\n      <td>False</td>\n      <td>False</td>\n      <td>False</td>\n      <td>False</td>\n      <td>False</td>\n      <td>False</td>\n      <td>False</td>\n      <td>False</td>\n      <td>False</td>\n      <td>False</td>\n      <td>False</td>\n      <td>False</td>\n    </tr>\n    <tr>\n      <th>9997</th>\n      <td>False</td>\n      <td>False</td>\n      <td>False</td>\n      <td>False</td>\n      <td>False</td>\n      <td>False</td>\n      <td>False</td>\n      <td>False</td>\n      <td>False</td>\n      <td>False</td>\n      <td>False</td>\n      <td>False</td>\n      <td>False</td>\n      <td>False</td>\n    </tr>\n    <tr>\n      <th>9998</th>\n      <td>False</td>\n      <td>False</td>\n      <td>False</td>\n      <td>False</td>\n      <td>False</td>\n      <td>False</td>\n      <td>False</td>\n      <td>False</td>\n      <td>False</td>\n      <td>False</td>\n      <td>False</td>\n      <td>False</td>\n      <td>False</td>\n      <td>False</td>\n    </tr>\n    <tr>\n      <th>9999</th>\n      <td>False</td>\n      <td>False</td>\n      <td>False</td>\n      <td>False</td>\n      <td>False</td>\n      <td>False</td>\n      <td>False</td>\n      <td>False</td>\n      <td>False</td>\n      <td>False</td>\n      <td>False</td>\n      <td>False</td>\n      <td>False</td>\n      <td>False</td>\n    </tr>\n  </tbody>\n</table>\n<p>10000 rows × 14 columns</p>\n</div>"
     },
     "execution_count": 13,
     "metadata": {},
     "output_type": "execute_result"
    }
   ],
   "source": [
    "df_1.isnull()"
   ]
  },
  {
   "cell_type": "code",
   "execution_count": 14,
   "metadata": {
    "ExecuteTime": {
     "end_time": "2024-05-07T06:15:17.387534900Z",
     "start_time": "2024-05-07T06:15:17.252006600Z"
    }
   },
   "outputs": [
    {
     "data": {
      "text/plain": "Address             0\nLot                 0\nAM or PM            0\nBrowser Info        0\nCompany             0\nCredit Card         0\nCC Exp Date         0\nCC Security Code    0\nCC Provider         0\nEmail               0\nJob                 0\nIP Address          0\nLanguage            0\nPurchase Price      0\ndtype: int64"
     },
     "execution_count": 14,
     "metadata": {},
     "output_type": "execute_result"
    }
   ],
   "source": [
    "df_1.isnull().sum()"
   ]
  },
  {
   "cell_type": "markdown",
   "metadata": {},
   "source": [
    "### 6. How Many Rows And Columns Are There In Our Dataset? "
   ]
  },
  {
   "cell_type": "code",
   "execution_count": 15,
   "metadata": {
    "ExecuteTime": {
     "end_time": "2024-05-07T06:15:34.017506500Z",
     "start_time": "2024-05-07T06:15:33.960441100Z"
    }
   },
   "outputs": [
    {
     "data": {
      "text/plain": "14"
     },
     "execution_count": 15,
     "metadata": {},
     "output_type": "execute_result"
    }
   ],
   "source": [
    "len(df_1.columns)"
   ]
  },
  {
   "cell_type": "code",
   "execution_count": 17,
   "metadata": {
    "ExecuteTime": {
     "end_time": "2024-05-07T06:15:43.256101400Z",
     "start_time": "2024-05-07T06:15:43.209083800Z"
    }
   },
   "outputs": [
    {
     "data": {
      "text/plain": "10000"
     },
     "execution_count": 17,
     "metadata": {},
     "output_type": "execute_result"
    }
   ],
   "source": [
    "len(df_1)"
   ]
  },
  {
   "cell_type": "code",
   "execution_count": null,
   "metadata": {},
   "outputs": [],
   "source": []
  },
  {
   "cell_type": "markdown",
   "metadata": {},
   "source": [
    "### 7. Highest And Lowest Purchase Prices"
   ]
  },
  {
   "cell_type": "code",
   "execution_count": 18,
   "metadata": {
    "ExecuteTime": {
     "end_time": "2024-05-07T06:15:52.060174900Z",
     "start_time": "2024-05-07T06:15:52.024770200Z"
    }
   },
   "outputs": [
    {
     "data": {
      "text/plain": "Index(['Address', 'Lot', 'AM or PM', 'Browser Info', 'Company', 'Credit Card',\n       'CC Exp Date', 'CC Security Code', 'CC Provider', 'Email', 'Job',\n       'IP Address', 'Language', 'Purchase Price'],\n      dtype='object')"
     },
     "execution_count": 18,
     "metadata": {},
     "output_type": "execute_result"
    }
   ],
   "source": [
    "df_1.columns"
   ]
  },
  {
   "cell_type": "code",
   "execution_count": 20,
   "metadata": {
    "ExecuteTime": {
     "end_time": "2024-05-07T06:16:35.134443800Z",
     "start_time": "2024-05-07T06:16:35.108265700Z"
    }
   },
   "outputs": [
    {
     "data": {
      "text/plain": "99.99"
     },
     "execution_count": 20,
     "metadata": {},
     "output_type": "execute_result"
    }
   ],
   "source": [
    "df_1['Purchase Price'].max()"
   ]
  },
  {
   "cell_type": "code",
   "execution_count": 19,
   "metadata": {
    "ExecuteTime": {
     "end_time": "2024-05-07T06:16:19.751910600Z",
     "start_time": "2024-05-07T06:16:19.709410400Z"
    }
   },
   "outputs": [
    {
     "data": {
      "text/plain": "0.0"
     },
     "execution_count": 19,
     "metadata": {},
     "output_type": "execute_result"
    }
   ],
   "source": [
    "df_1['Purchase Price'].min()"
   ]
  },
  {
   "cell_type": "markdown",
   "metadata": {},
   "source": [
    "### 8. Average Purchase Price"
   ]
  },
  {
   "cell_type": "code",
   "execution_count": 21,
   "metadata": {
    "ExecuteTime": {
     "end_time": "2024-05-07T06:16:41.689796600Z",
     "start_time": "2024-05-07T06:16:41.608832400Z"
    }
   },
   "outputs": [
    {
     "data": {
      "text/plain": "50.347302"
     },
     "execution_count": 21,
     "metadata": {},
     "output_type": "execute_result"
    }
   ],
   "source": [
    "df_1['Purchase Price'].mean()"
   ]
  },
  {
   "cell_type": "code",
   "execution_count": 22,
   "metadata": {
    "ExecuteTime": {
     "end_time": "2024-05-07T06:17:02.119747300Z",
     "start_time": "2024-05-07T06:17:02.092074900Z"
    }
   },
   "outputs": [
    {
     "data": {
      "text/plain": "Index(['Address', 'Lot', 'AM or PM', 'Browser Info', 'Company', 'Credit Card',\n       'CC Exp Date', 'CC Security Code', 'CC Provider', 'Email', 'Job',\n       'IP Address', 'Language', 'Purchase Price'],\n      dtype='object')"
     },
     "execution_count": 22,
     "metadata": {},
     "output_type": "execute_result"
    }
   ],
   "source": [
    "df_1.columns"
   ]
  },
  {
   "cell_type": "markdown",
   "metadata": {},
   "source": [
    "### 9 .How many people have French 'fr' as their Language ?"
   ]
  },
  {
   "cell_type": "code",
   "execution_count": 23,
   "metadata": {
    "ExecuteTime": {
     "end_time": "2024-05-07T06:17:34.649945400Z",
     "start_time": "2024-05-07T06:17:34.586172400Z"
    }
   },
   "outputs": [
    {
     "data": {
      "text/plain": "                                                Address    Lot AM or PM  \\\n1     9374 Jasmine Spurs Suite 508\\nSouth John, TN 8...  28 rn       PM   \n19                  125 Hall Summit\\nBoothton, IL 41721  99 CU       PM   \n53                PSC 9431, Box 7059\\nAPO AA 29285-1363  14 qD       AM   \n76    49206 Campbell Port\\nNorth Cliffordshire, HI 3...  71 iu       PM   \n82    493 Smith Valleys Suite 004\\nNew Madelineville...  35 ls       PM   \n...                                                 ...    ...      ...   \n9941           43757 Brown Lodge\\nValerieberg, PR 88518  68 DG       AM   \n9947      32827 Carl Inlet\\nSouth Nicole, NY 38081-6636  40 Dp       PM   \n9951                518 Brown Dam\\nGarciaside, IN 33057  71 wq       AM   \n9977  02182 Keith Expressway\\nEast Shannon, CT 20578...  34 RL       AM   \n9980           6061 Dave Lights\\nPhillipsview, UT 40500  25 Mv       AM   \n\n                                           Browser Info  \\\n1     Opera/8.93.(Windows 98; Win 9x 4.90; en-US) Pr...   \n19    Mozilla/5.0 (compatible; MSIE 7.0; Windows NT ...   \n53    Opera/9.34.(X11; Linux x86_64; it-IT) Presto/2...   \n76    Mozilla/5.0 (Macintosh; U; PPC Mac OS X 10_5_9...   \n82    Mozilla/5.0 (iPod; U; CPU iPhone OS 4_0 like M...   \n...                                                 ...   \n9941  Mozilla/5.0 (compatible; MSIE 5.0; Windows NT ...   \n9947  Mozilla/5.0 (Windows; U; Windows 95) AppleWebK...   \n9951  Mozilla/5.0 (compatible; MSIE 8.0; Windows NT ...   \n9977  Mozilla/5.0 (compatible; MSIE 9.0; Windows NT ...   \n9980  Opera/8.58.(Windows NT 5.0; it-IT) Presto/2.9....   \n\n                              Company       Credit Card CC Exp Date  \\\n1     Fletcher, Richards and Whitaker  3337758169645356       11/18   \n19                    Turner-Mckinney      676343504830       02/20   \n53      Higgins, Cardenas and Kennedy   869972604798355       08/17   \n76                      Jacobs-Tucker  6011343518820988       01/17   \n82      Robinson, Johnston and Valdez  4351359627548412       06/17   \n...                               ...               ...         ...   \n9941         Jones, Williams and Dunn  6011508474487291       04/26   \n9947                    Pruitt-Flores  3158564208754951       03/17   \n9951      Crosby, Vasquez and Ballard  5256758441931287       12/17   \n9977      Deleon, Jacobson and Benton  4186094003664688       06/21   \n9980                      Cortez-Frye  6011944199756993       12/24   \n\n      CC Security Code    CC Provider                     Email  \\\n1                  561     Mastercard        anthony41@reed.com   \n19                 440  VISA 16 digit      ruiznicole@gmail.com   \n53                 157   JCB 16 digit        amorales@yahoo.com   \n76                 806        Voyager        eperez@hotmail.com   \n82                 937  VISA 13 digit         amendez@yahoo.com   \n...                ...            ...                       ...   \n9941               906     Mastercard     christian55@gmail.com   \n9947               386     Mastercard     josephsmith@gmail.com   \n9951               146  VISA 16 digit       cjennings@yahoo.com   \n9977               397   JCB 16 digit    daltoncarter@yahoo.com   \n9980               755   JCB 15 digit  mark74@kirby-stewart.org   \n\n                                               Job       IP Address Language  \\\n1                                Drilling engineer     15.160.41.51       fr   \n19                      Designer, interior/spatial   25.105.209.214       fr   \n53                                Technical author   44.108.117.122       fr   \n76                                       Paramedic   210.207.58.168       fr   \n82                             Engineer, materials  163.129.163.100       fr   \n...                                            ...              ...      ...   \n9941                      Secondary school teacher  216.118.235.145       fr   \n9947                              Textile designer     198.68.38.23       fr   \n9951  Lighting technician, broadcasting/film/video       58.12.83.1       fr   \n9977                           Biomedical engineer    146.238.118.2       fr   \n9980                              Textile designer   110.103.77.195       fr   \n\n      Purchase Price  \n1              70.73  \n19             58.39  \n53             10.41  \n76             57.34  \n82             49.04  \n...              ...  \n9941           60.03  \n9947           49.61  \n9951           57.59  \n9977           94.93  \n9980           16.05  \n\n[1097 rows x 14 columns]",
      "text/html": "<div>\n<style scoped>\n    .dataframe tbody tr th:only-of-type {\n        vertical-align: middle;\n    }\n\n    .dataframe tbody tr th {\n        vertical-align: top;\n    }\n\n    .dataframe thead th {\n        text-align: right;\n    }\n</style>\n<table border=\"1\" class=\"dataframe\">\n  <thead>\n    <tr style=\"text-align: right;\">\n      <th></th>\n      <th>Address</th>\n      <th>Lot</th>\n      <th>AM or PM</th>\n      <th>Browser Info</th>\n      <th>Company</th>\n      <th>Credit Card</th>\n      <th>CC Exp Date</th>\n      <th>CC Security Code</th>\n      <th>CC Provider</th>\n      <th>Email</th>\n      <th>Job</th>\n      <th>IP Address</th>\n      <th>Language</th>\n      <th>Purchase Price</th>\n    </tr>\n  </thead>\n  <tbody>\n    <tr>\n      <th>1</th>\n      <td>9374 Jasmine Spurs Suite 508\\nSouth John, TN 8...</td>\n      <td>28 rn</td>\n      <td>PM</td>\n      <td>Opera/8.93.(Windows 98; Win 9x 4.90; en-US) Pr...</td>\n      <td>Fletcher, Richards and Whitaker</td>\n      <td>3337758169645356</td>\n      <td>11/18</td>\n      <td>561</td>\n      <td>Mastercard</td>\n      <td>anthony41@reed.com</td>\n      <td>Drilling engineer</td>\n      <td>15.160.41.51</td>\n      <td>fr</td>\n      <td>70.73</td>\n    </tr>\n    <tr>\n      <th>19</th>\n      <td>125 Hall Summit\\nBoothton, IL 41721</td>\n      <td>99 CU</td>\n      <td>PM</td>\n      <td>Mozilla/5.0 (compatible; MSIE 7.0; Windows NT ...</td>\n      <td>Turner-Mckinney</td>\n      <td>676343504830</td>\n      <td>02/20</td>\n      <td>440</td>\n      <td>VISA 16 digit</td>\n      <td>ruiznicole@gmail.com</td>\n      <td>Designer, interior/spatial</td>\n      <td>25.105.209.214</td>\n      <td>fr</td>\n      <td>58.39</td>\n    </tr>\n    <tr>\n      <th>53</th>\n      <td>PSC 9431, Box 7059\\nAPO AA 29285-1363</td>\n      <td>14 qD</td>\n      <td>AM</td>\n      <td>Opera/9.34.(X11; Linux x86_64; it-IT) Presto/2...</td>\n      <td>Higgins, Cardenas and Kennedy</td>\n      <td>869972604798355</td>\n      <td>08/17</td>\n      <td>157</td>\n      <td>JCB 16 digit</td>\n      <td>amorales@yahoo.com</td>\n      <td>Technical author</td>\n      <td>44.108.117.122</td>\n      <td>fr</td>\n      <td>10.41</td>\n    </tr>\n    <tr>\n      <th>76</th>\n      <td>49206 Campbell Port\\nNorth Cliffordshire, HI 3...</td>\n      <td>71 iu</td>\n      <td>PM</td>\n      <td>Mozilla/5.0 (Macintosh; U; PPC Mac OS X 10_5_9...</td>\n      <td>Jacobs-Tucker</td>\n      <td>6011343518820988</td>\n      <td>01/17</td>\n      <td>806</td>\n      <td>Voyager</td>\n      <td>eperez@hotmail.com</td>\n      <td>Paramedic</td>\n      <td>210.207.58.168</td>\n      <td>fr</td>\n      <td>57.34</td>\n    </tr>\n    <tr>\n      <th>82</th>\n      <td>493 Smith Valleys Suite 004\\nNew Madelineville...</td>\n      <td>35 ls</td>\n      <td>PM</td>\n      <td>Mozilla/5.0 (iPod; U; CPU iPhone OS 4_0 like M...</td>\n      <td>Robinson, Johnston and Valdez</td>\n      <td>4351359627548412</td>\n      <td>06/17</td>\n      <td>937</td>\n      <td>VISA 13 digit</td>\n      <td>amendez@yahoo.com</td>\n      <td>Engineer, materials</td>\n      <td>163.129.163.100</td>\n      <td>fr</td>\n      <td>49.04</td>\n    </tr>\n    <tr>\n      <th>...</th>\n      <td>...</td>\n      <td>...</td>\n      <td>...</td>\n      <td>...</td>\n      <td>...</td>\n      <td>...</td>\n      <td>...</td>\n      <td>...</td>\n      <td>...</td>\n      <td>...</td>\n      <td>...</td>\n      <td>...</td>\n      <td>...</td>\n      <td>...</td>\n    </tr>\n    <tr>\n      <th>9941</th>\n      <td>43757 Brown Lodge\\nValerieberg, PR 88518</td>\n      <td>68 DG</td>\n      <td>AM</td>\n      <td>Mozilla/5.0 (compatible; MSIE 5.0; Windows NT ...</td>\n      <td>Jones, Williams and Dunn</td>\n      <td>6011508474487291</td>\n      <td>04/26</td>\n      <td>906</td>\n      <td>Mastercard</td>\n      <td>christian55@gmail.com</td>\n      <td>Secondary school teacher</td>\n      <td>216.118.235.145</td>\n      <td>fr</td>\n      <td>60.03</td>\n    </tr>\n    <tr>\n      <th>9947</th>\n      <td>32827 Carl Inlet\\nSouth Nicole, NY 38081-6636</td>\n      <td>40 Dp</td>\n      <td>PM</td>\n      <td>Mozilla/5.0 (Windows; U; Windows 95) AppleWebK...</td>\n      <td>Pruitt-Flores</td>\n      <td>3158564208754951</td>\n      <td>03/17</td>\n      <td>386</td>\n      <td>Mastercard</td>\n      <td>josephsmith@gmail.com</td>\n      <td>Textile designer</td>\n      <td>198.68.38.23</td>\n      <td>fr</td>\n      <td>49.61</td>\n    </tr>\n    <tr>\n      <th>9951</th>\n      <td>518 Brown Dam\\nGarciaside, IN 33057</td>\n      <td>71 wq</td>\n      <td>AM</td>\n      <td>Mozilla/5.0 (compatible; MSIE 8.0; Windows NT ...</td>\n      <td>Crosby, Vasquez and Ballard</td>\n      <td>5256758441931287</td>\n      <td>12/17</td>\n      <td>146</td>\n      <td>VISA 16 digit</td>\n      <td>cjennings@yahoo.com</td>\n      <td>Lighting technician, broadcasting/film/video</td>\n      <td>58.12.83.1</td>\n      <td>fr</td>\n      <td>57.59</td>\n    </tr>\n    <tr>\n      <th>9977</th>\n      <td>02182 Keith Expressway\\nEast Shannon, CT 20578...</td>\n      <td>34 RL</td>\n      <td>AM</td>\n      <td>Mozilla/5.0 (compatible; MSIE 9.0; Windows NT ...</td>\n      <td>Deleon, Jacobson and Benton</td>\n      <td>4186094003664688</td>\n      <td>06/21</td>\n      <td>397</td>\n      <td>JCB 16 digit</td>\n      <td>daltoncarter@yahoo.com</td>\n      <td>Biomedical engineer</td>\n      <td>146.238.118.2</td>\n      <td>fr</td>\n      <td>94.93</td>\n    </tr>\n    <tr>\n      <th>9980</th>\n      <td>6061 Dave Lights\\nPhillipsview, UT 40500</td>\n      <td>25 Mv</td>\n      <td>AM</td>\n      <td>Opera/8.58.(Windows NT 5.0; it-IT) Presto/2.9....</td>\n      <td>Cortez-Frye</td>\n      <td>6011944199756993</td>\n      <td>12/24</td>\n      <td>755</td>\n      <td>JCB 15 digit</td>\n      <td>mark74@kirby-stewart.org</td>\n      <td>Textile designer</td>\n      <td>110.103.77.195</td>\n      <td>fr</td>\n      <td>16.05</td>\n    </tr>\n  </tbody>\n</table>\n<p>1097 rows × 14 columns</p>\n</div>"
     },
     "execution_count": 23,
     "metadata": {},
     "output_type": "execute_result"
    }
   ],
   "source": [
    "df_1[df_1['Language']=='fr']"
   ]
  },
  {
   "cell_type": "code",
   "execution_count": 24,
   "metadata": {
    "ExecuteTime": {
     "end_time": "2024-05-07T06:18:12.115559300Z",
     "start_time": "2024-05-07T06:18:12.074918Z"
    }
   },
   "outputs": [
    {
     "data": {
      "text/plain": "1097"
     },
     "execution_count": 24,
     "metadata": {},
     "output_type": "execute_result"
    }
   ],
   "source": [
    "len(df_1[df_1['Language']=='fr'])"
   ]
  },
  {
   "cell_type": "code",
   "execution_count": 26,
   "metadata": {
    "ExecuteTime": {
     "end_time": "2024-05-07T06:19:51.935942400Z",
     "start_time": "2024-05-07T06:19:51.886227100Z"
    }
   },
   "outputs": [
    {
     "data": {
      "text/plain": "Address             1097\nLot                 1097\nAM or PM            1097\nBrowser Info        1097\nCompany             1097\nCredit Card         1097\nCC Exp Date         1097\nCC Security Code    1097\nCC Provider         1097\nEmail               1097\nJob                 1097\nIP Address          1097\nLanguage            1097\nPurchase Price      1097\ndtype: int64"
     },
     "execution_count": 26,
     "metadata": {},
     "output_type": "execute_result"
    }
   ],
   "source": [
    "df_1[df_1['Language']=='fr'].count()"
   ]
  },
  {
   "cell_type": "markdown",
   "metadata": {},
   "source": [
    "### 10. Job Title Contains Engineer"
   ]
  },
  {
   "cell_type": "code",
   "execution_count": 27,
   "metadata": {
    "ExecuteTime": {
     "end_time": "2024-05-07T06:20:51.849127300Z",
     "start_time": "2024-05-07T06:20:51.773036200Z"
    }
   },
   "outputs": [
    {
     "data": {
      "text/plain": "                                                Address    Lot AM or PM  \\\n1     9374 Jasmine Spurs Suite 508\\nSouth John, TN 8...  28 rn       PM   \n3                 7780 Julia Fords\\nNew Stacy, WA 45798  36 vm       PM   \n50      41159 Michael Centers\\nAdamsfort, RI 37108-6674  46 Ce       PM   \n103                480 Ronald Cape\\nJohnville, MA 53644  11 wg       AM   \n193   1010 Mahoney Mills Suite 486\\nWest Daniellevie...  70 Fd       AM   \n...                                                 ...    ...      ...   \n9934     52276 Smith Cliffs\\nLake Vanessaview, AL 91791  40 nG       AM   \n9948  95544 Johnson Isle Suite 939\\nMichaelberg, RI ...  91 bW       AM   \n9970              0060 Keith Stream\\nWestport, CO 47097  11 nt       PM   \n9977  02182 Keith Expressway\\nEast Shannon, CT 20578...  34 RL       AM   \n9996  832 Curtis Dam Suite 785\\nNorth Edwardburgh, T...  41 JY       AM   \n\n                                           Browser Info  \\\n1     Opera/8.93.(Windows 98; Win 9x 4.90; en-US) Pr...   \n3     Mozilla/5.0 (Macintosh; Intel Mac OS X 10_8_0 ...   \n50    Mozilla/5.0 (Windows 98; Win 9x 4.90; sl-SI; r...   \n103   Mozilla/5.0 (Macintosh; U; Intel Mac OS X 10_5...   \n193   Mozilla/5.0 (X11; Linux i686; rv:1.9.5.20) Gec...   \n...                                                 ...   \n9934  Opera/9.62.(Windows NT 5.0; sl-SI) Presto/2.9....   \n9948  Opera/8.36.(X11; Linux x86_64; sl-SI) Presto/2...   \n9970  Mozilla/5.0 (Macintosh; U; Intel Mac OS X 10_8...   \n9977  Mozilla/5.0 (compatible; MSIE 9.0; Windows NT ...   \n9996  Mozilla/5.0 (compatible; MSIE 9.0; Windows NT ...   \n\n                              Company       Credit Card CC Exp Date  \\\n1     Fletcher, Richards and Whitaker  3337758169645356       11/18   \n3     Williams, Marshall and Buchanan  6011578504430710       02/24   \n50        Wright, Williams and Mendez  4008586485908075       05/19   \n103                         Brown Inc    30276609779632       03/22   \n193                     Wilson-Dennis    30359256148796       02/22   \n...                               ...               ...         ...   \n9934                         Clay LLC  5148775191773208       05/23   \n9948                     Fox-Peterson     4762924304307       03/17   \n9970         Carpenter, Good and Hart  6011485664704662       07/19   \n9977      Deleon, Jacobson and Benton  4186094003664688       06/21   \n9996         Hale, Collins and Wilson   210033169205009       07/25   \n\n      CC Security Code    CC Provider                          Email  \\\n1                  561     Mastercard             anthony41@reed.com   \n3                  384       Discover    brent16@olson-robinson.info   \n50                 945   JCB 16 digit      susanvalentine@obrien.org   \n103                676       Discover  wtownsend@jackson-johnson.biz   \n193                 62   JCB 16 digit               stacy72@cruz.com   \n...                ...            ...                            ...   \n9934               583  VISA 16 digit            popejames@yahoo.com   \n9948               567     Mastercard        haleybenjamin@gmail.com   \n9970               543       Discover        rangelbrian@hotmail.com   \n9977               397   JCB 16 digit         daltoncarter@yahoo.com   \n9996               207   JCB 16 digit             mary85@hotmail.com   \n\n                            Job       IP Address Language  Purchase Price  \n1             Drilling engineer     15.160.41.51       fr           70.73  \n3             Drilling engineer     30.250.74.19       es           78.04  \n50          Mechanical engineer  213.203.143.215       de           36.85  \n103    Technical sales engineer   119.178.136.56       it           51.37  \n193             Energy engineer   189.183.41.220       pt           96.79  \n...                         ...              ...      ...             ...  \n9934  Consulting civil engineer   130.63.250.128       el           99.75  \n9948        Structural engineer    120.36.140.58       en           71.89  \n9970        Electrical engineer     242.8.85.205       en           17.76  \n9977        Biomedical engineer    146.238.118.2       fr           94.93  \n9996            Energy engineer   121.133.168.51       pt           25.63  \n\n[531 rows x 14 columns]",
      "text/html": "<div>\n<style scoped>\n    .dataframe tbody tr th:only-of-type {\n        vertical-align: middle;\n    }\n\n    .dataframe tbody tr th {\n        vertical-align: top;\n    }\n\n    .dataframe thead th {\n        text-align: right;\n    }\n</style>\n<table border=\"1\" class=\"dataframe\">\n  <thead>\n    <tr style=\"text-align: right;\">\n      <th></th>\n      <th>Address</th>\n      <th>Lot</th>\n      <th>AM or PM</th>\n      <th>Browser Info</th>\n      <th>Company</th>\n      <th>Credit Card</th>\n      <th>CC Exp Date</th>\n      <th>CC Security Code</th>\n      <th>CC Provider</th>\n      <th>Email</th>\n      <th>Job</th>\n      <th>IP Address</th>\n      <th>Language</th>\n      <th>Purchase Price</th>\n    </tr>\n  </thead>\n  <tbody>\n    <tr>\n      <th>1</th>\n      <td>9374 Jasmine Spurs Suite 508\\nSouth John, TN 8...</td>\n      <td>28 rn</td>\n      <td>PM</td>\n      <td>Opera/8.93.(Windows 98; Win 9x 4.90; en-US) Pr...</td>\n      <td>Fletcher, Richards and Whitaker</td>\n      <td>3337758169645356</td>\n      <td>11/18</td>\n      <td>561</td>\n      <td>Mastercard</td>\n      <td>anthony41@reed.com</td>\n      <td>Drilling engineer</td>\n      <td>15.160.41.51</td>\n      <td>fr</td>\n      <td>70.73</td>\n    </tr>\n    <tr>\n      <th>3</th>\n      <td>7780 Julia Fords\\nNew Stacy, WA 45798</td>\n      <td>36 vm</td>\n      <td>PM</td>\n      <td>Mozilla/5.0 (Macintosh; Intel Mac OS X 10_8_0 ...</td>\n      <td>Williams, Marshall and Buchanan</td>\n      <td>6011578504430710</td>\n      <td>02/24</td>\n      <td>384</td>\n      <td>Discover</td>\n      <td>brent16@olson-robinson.info</td>\n      <td>Drilling engineer</td>\n      <td>30.250.74.19</td>\n      <td>es</td>\n      <td>78.04</td>\n    </tr>\n    <tr>\n      <th>50</th>\n      <td>41159 Michael Centers\\nAdamsfort, RI 37108-6674</td>\n      <td>46 Ce</td>\n      <td>PM</td>\n      <td>Mozilla/5.0 (Windows 98; Win 9x 4.90; sl-SI; r...</td>\n      <td>Wright, Williams and Mendez</td>\n      <td>4008586485908075</td>\n      <td>05/19</td>\n      <td>945</td>\n      <td>JCB 16 digit</td>\n      <td>susanvalentine@obrien.org</td>\n      <td>Mechanical engineer</td>\n      <td>213.203.143.215</td>\n      <td>de</td>\n      <td>36.85</td>\n    </tr>\n    <tr>\n      <th>103</th>\n      <td>480 Ronald Cape\\nJohnville, MA 53644</td>\n      <td>11 wg</td>\n      <td>AM</td>\n      <td>Mozilla/5.0 (Macintosh; U; Intel Mac OS X 10_5...</td>\n      <td>Brown Inc</td>\n      <td>30276609779632</td>\n      <td>03/22</td>\n      <td>676</td>\n      <td>Discover</td>\n      <td>wtownsend@jackson-johnson.biz</td>\n      <td>Technical sales engineer</td>\n      <td>119.178.136.56</td>\n      <td>it</td>\n      <td>51.37</td>\n    </tr>\n    <tr>\n      <th>193</th>\n      <td>1010 Mahoney Mills Suite 486\\nWest Daniellevie...</td>\n      <td>70 Fd</td>\n      <td>AM</td>\n      <td>Mozilla/5.0 (X11; Linux i686; rv:1.9.5.20) Gec...</td>\n      <td>Wilson-Dennis</td>\n      <td>30359256148796</td>\n      <td>02/22</td>\n      <td>62</td>\n      <td>JCB 16 digit</td>\n      <td>stacy72@cruz.com</td>\n      <td>Energy engineer</td>\n      <td>189.183.41.220</td>\n      <td>pt</td>\n      <td>96.79</td>\n    </tr>\n    <tr>\n      <th>...</th>\n      <td>...</td>\n      <td>...</td>\n      <td>...</td>\n      <td>...</td>\n      <td>...</td>\n      <td>...</td>\n      <td>...</td>\n      <td>...</td>\n      <td>...</td>\n      <td>...</td>\n      <td>...</td>\n      <td>...</td>\n      <td>...</td>\n      <td>...</td>\n    </tr>\n    <tr>\n      <th>9934</th>\n      <td>52276 Smith Cliffs\\nLake Vanessaview, AL 91791</td>\n      <td>40 nG</td>\n      <td>AM</td>\n      <td>Opera/9.62.(Windows NT 5.0; sl-SI) Presto/2.9....</td>\n      <td>Clay LLC</td>\n      <td>5148775191773208</td>\n      <td>05/23</td>\n      <td>583</td>\n      <td>VISA 16 digit</td>\n      <td>popejames@yahoo.com</td>\n      <td>Consulting civil engineer</td>\n      <td>130.63.250.128</td>\n      <td>el</td>\n      <td>99.75</td>\n    </tr>\n    <tr>\n      <th>9948</th>\n      <td>95544 Johnson Isle Suite 939\\nMichaelberg, RI ...</td>\n      <td>91 bW</td>\n      <td>AM</td>\n      <td>Opera/8.36.(X11; Linux x86_64; sl-SI) Presto/2...</td>\n      <td>Fox-Peterson</td>\n      <td>4762924304307</td>\n      <td>03/17</td>\n      <td>567</td>\n      <td>Mastercard</td>\n      <td>haleybenjamin@gmail.com</td>\n      <td>Structural engineer</td>\n      <td>120.36.140.58</td>\n      <td>en</td>\n      <td>71.89</td>\n    </tr>\n    <tr>\n      <th>9970</th>\n      <td>0060 Keith Stream\\nWestport, CO 47097</td>\n      <td>11 nt</td>\n      <td>PM</td>\n      <td>Mozilla/5.0 (Macintosh; U; Intel Mac OS X 10_8...</td>\n      <td>Carpenter, Good and Hart</td>\n      <td>6011485664704662</td>\n      <td>07/19</td>\n      <td>543</td>\n      <td>Discover</td>\n      <td>rangelbrian@hotmail.com</td>\n      <td>Electrical engineer</td>\n      <td>242.8.85.205</td>\n      <td>en</td>\n      <td>17.76</td>\n    </tr>\n    <tr>\n      <th>9977</th>\n      <td>02182 Keith Expressway\\nEast Shannon, CT 20578...</td>\n      <td>34 RL</td>\n      <td>AM</td>\n      <td>Mozilla/5.0 (compatible; MSIE 9.0; Windows NT ...</td>\n      <td>Deleon, Jacobson and Benton</td>\n      <td>4186094003664688</td>\n      <td>06/21</td>\n      <td>397</td>\n      <td>JCB 16 digit</td>\n      <td>daltoncarter@yahoo.com</td>\n      <td>Biomedical engineer</td>\n      <td>146.238.118.2</td>\n      <td>fr</td>\n      <td>94.93</td>\n    </tr>\n    <tr>\n      <th>9996</th>\n      <td>832 Curtis Dam Suite 785\\nNorth Edwardburgh, T...</td>\n      <td>41 JY</td>\n      <td>AM</td>\n      <td>Mozilla/5.0 (compatible; MSIE 9.0; Windows NT ...</td>\n      <td>Hale, Collins and Wilson</td>\n      <td>210033169205009</td>\n      <td>07/25</td>\n      <td>207</td>\n      <td>JCB 16 digit</td>\n      <td>mary85@hotmail.com</td>\n      <td>Energy engineer</td>\n      <td>121.133.168.51</td>\n      <td>pt</td>\n      <td>25.63</td>\n    </tr>\n  </tbody>\n</table>\n<p>531 rows × 14 columns</p>\n</div>"
     },
     "execution_count": 27,
     "metadata": {},
     "output_type": "execute_result"
    }
   ],
   "source": [
    "df_1[df_1['Job'].str.contains('engineer')]"
   ]
  },
  {
   "cell_type": "code",
   "execution_count": 28,
   "metadata": {
    "ExecuteTime": {
     "end_time": "2024-05-07T06:22:19.099924100Z",
     "start_time": "2024-05-07T06:22:19.061350600Z"
    }
   },
   "outputs": [
    {
     "data": {
      "text/plain": "984"
     },
     "execution_count": 28,
     "metadata": {},
     "output_type": "execute_result"
    }
   ],
   "source": [
    "len(df_1[df_1['Job'].str.contains('engineer',case=False)])"
   ]
  },
  {
   "cell_type": "code",
   "execution_count": 29,
   "metadata": {
    "ExecuteTime": {
     "end_time": "2024-05-07T06:22:31.574129600Z",
     "start_time": "2024-05-07T06:22:31.541499400Z"
    }
   },
   "outputs": [
    {
     "data": {
      "text/plain": "Index(['Address', 'Lot', 'AM or PM', 'Browser Info', 'Company', 'Credit Card',\n       'CC Exp Date', 'CC Security Code', 'CC Provider', 'Email', 'Job',\n       'IP Address', 'Language', 'Purchase Price'],\n      dtype='object')"
     },
     "execution_count": 29,
     "metadata": {},
     "output_type": "execute_result"
    }
   ],
   "source": [
    "df_1.columns"
   ]
  },
  {
   "cell_type": "markdown",
   "metadata": {},
   "source": [
    "### 11. How Many People Have Mastercard As Their Credit Card Provider And Made A Purchase Above 50?"
   ]
  },
  {
   "cell_type": "code",
   "execution_count": null,
   "outputs": [],
   "source": [],
   "metadata": {
    "collapsed": false
   }
  },
  {
   "cell_type": "code",
   "execution_count": 36,
   "metadata": {
    "ExecuteTime": {
     "end_time": "2024-05-07T06:28:01.263960Z",
     "start_time": "2024-05-07T06:28:01.211062100Z"
    }
   },
   "outputs": [
    {
     "data": {
      "text/plain": "                                                Address    Lot AM or PM  \\\n1     9374 Jasmine Spurs Suite 508\\nSouth John, TN 8...  28 rn       PM   \n18    461 Christopher Square\\nWest Michaelchester, C...  17 SB       PM   \n31                     USNS Alvarado\\nFPO AA 27052-1231  26 Lh       PM   \n35    93392 Webb Gardens Apt. 220\\nLaurabury, AR 999...  37 om       AM   \n90          431 Bowen Lights\\nFergusonborough, MH 01362  31 tG       AM   \n...                                                 ...    ...      ...   \n9941           43757 Brown Lodge\\nValerieberg, PR 88518  68 DG       AM   \n9948  95544 Johnson Isle Suite 939\\nMichaelberg, RI ...  91 bW       AM   \n9954  051 Samantha Wells Apt. 328\\nScottborough, OR ...  11 vG       AM   \n9981  087 Larson Roads Apt. 587\\nRicestad, WI 98077-...  95 Kw       AM   \n9987     2754 Klein Mission\\nJohnsonview, PA 64925-9624  65 Fg       PM   \n\n                                           Browser Info  \\\n1     Opera/8.93.(Windows 98; Win 9x 4.90; en-US) Pr...   \n18    Mozilla/5.0 (X11; Linux i686; rv:1.9.6.20) Gec...   \n31    Opera/8.84.(X11; Linux i686; sl-SI) Presto/2.9...   \n35    Mozilla/5.0 (Macintosh; U; Intel Mac OS X 10_7...   \n90    Mozilla/5.0 (Windows NT 5.2; it-IT; rv:1.9.1.2...   \n...                                                 ...   \n9941  Mozilla/5.0 (compatible; MSIE 5.0; Windows NT ...   \n9948  Opera/8.36.(X11; Linux x86_64; sl-SI) Presto/2...   \n9954  Mozilla/5.0 (Macintosh; U; PPC Mac OS X 10_8_2...   \n9981  Opera/9.63.(Windows NT 5.01; en-US) Presto/2.9...   \n9987  Opera/9.26.(Windows CE; sl-SI) Presto/2.9.188 ...   \n\n                              Company       Credit Card CC Exp Date  \\\n1     Fletcher, Richards and Whitaker  3337758169645356       11/18   \n18             Beard, Abbott and Pena  6011350184276270       12/22   \n31                    Nicholson Group     4614997834548       03/22   \n35                           Mora Ltd  6011049630969815       09/16   \n90                       Copeland-Lee      639032576097       06/18   \n...                               ...               ...         ...   \n9941         Jones, Williams and Dunn  6011508474487291       04/26   \n9948                     Fox-Peterson     4762924304307       03/17   \n9954    Mendoza, Zimmerman and Reilly    30232295374907       05/21   \n9981         Ortiz, Schultz and Adams     4690863684605       01/19   \n9987                       Curtis LLC   180027305702263       12/24   \n\n      CC Security Code CC Provider                       Email  \\\n1                  561  Mastercard          anthony41@reed.com   \n18                 767  Mastercard          hannah63@yahoo.com   \n31                 909  Mastercard        ashley12@hotmail.com   \n35                 367  Mastercard      hgonzalez@mcdowell.com   \n90                 868  Mastercard           nrogers@brown.com   \n...                ...         ...                         ...   \n9941               906  Mastercard       christian55@gmail.com   \n9948               567  Mastercard     haleybenjamin@gmail.com   \n9954               762  Mastercard        brownamy@perkins.com   \n9981               695  Mastercard  laurenbennett@richards.com   \n9987               865  Mastercard    denisehamilton@novak.biz   \n\n                                         Job       IP Address Language  \\\n1                          Drilling engineer     15.160.41.51       fr   \n18                              Photographer   73.250.176.201       el   \n31                           Sales executive   94.176.142.201       en   \n35               Lecturer, further education     216.23.95.40       zh   \n90    Teacher, English as a foreign language   153.188.13.203       es   \n...                                      ...              ...      ...   \n9941                Secondary school teacher  216.118.235.145       fr   \n9948                     Structural engineer    120.36.140.58       en   \n9954                 Presenter, broadcasting     61.97.84.101       it   \n9981         Environmental education officer    106.21.237.73       pt   \n9987                  Primary school teacher   164.39.190.217       es   \n\n      Purchase Price  \n1              70.73  \n18             70.15  \n31             94.14  \n35             97.46  \n90             78.86  \n...              ...  \n9941           60.03  \n9948           71.89  \n9954           87.15  \n9981           63.61  \n9987           60.83  \n\n[405 rows x 14 columns]",
      "text/html": "<div>\n<style scoped>\n    .dataframe tbody tr th:only-of-type {\n        vertical-align: middle;\n    }\n\n    .dataframe tbody tr th {\n        vertical-align: top;\n    }\n\n    .dataframe thead th {\n        text-align: right;\n    }\n</style>\n<table border=\"1\" class=\"dataframe\">\n  <thead>\n    <tr style=\"text-align: right;\">\n      <th></th>\n      <th>Address</th>\n      <th>Lot</th>\n      <th>AM or PM</th>\n      <th>Browser Info</th>\n      <th>Company</th>\n      <th>Credit Card</th>\n      <th>CC Exp Date</th>\n      <th>CC Security Code</th>\n      <th>CC Provider</th>\n      <th>Email</th>\n      <th>Job</th>\n      <th>IP Address</th>\n      <th>Language</th>\n      <th>Purchase Price</th>\n    </tr>\n  </thead>\n  <tbody>\n    <tr>\n      <th>1</th>\n      <td>9374 Jasmine Spurs Suite 508\\nSouth John, TN 8...</td>\n      <td>28 rn</td>\n      <td>PM</td>\n      <td>Opera/8.93.(Windows 98; Win 9x 4.90; en-US) Pr...</td>\n      <td>Fletcher, Richards and Whitaker</td>\n      <td>3337758169645356</td>\n      <td>11/18</td>\n      <td>561</td>\n      <td>Mastercard</td>\n      <td>anthony41@reed.com</td>\n      <td>Drilling engineer</td>\n      <td>15.160.41.51</td>\n      <td>fr</td>\n      <td>70.73</td>\n    </tr>\n    <tr>\n      <th>18</th>\n      <td>461 Christopher Square\\nWest Michaelchester, C...</td>\n      <td>17 SB</td>\n      <td>PM</td>\n      <td>Mozilla/5.0 (X11; Linux i686; rv:1.9.6.20) Gec...</td>\n      <td>Beard, Abbott and Pena</td>\n      <td>6011350184276270</td>\n      <td>12/22</td>\n      <td>767</td>\n      <td>Mastercard</td>\n      <td>hannah63@yahoo.com</td>\n      <td>Photographer</td>\n      <td>73.250.176.201</td>\n      <td>el</td>\n      <td>70.15</td>\n    </tr>\n    <tr>\n      <th>31</th>\n      <td>USNS Alvarado\\nFPO AA 27052-1231</td>\n      <td>26 Lh</td>\n      <td>PM</td>\n      <td>Opera/8.84.(X11; Linux i686; sl-SI) Presto/2.9...</td>\n      <td>Nicholson Group</td>\n      <td>4614997834548</td>\n      <td>03/22</td>\n      <td>909</td>\n      <td>Mastercard</td>\n      <td>ashley12@hotmail.com</td>\n      <td>Sales executive</td>\n      <td>94.176.142.201</td>\n      <td>en</td>\n      <td>94.14</td>\n    </tr>\n    <tr>\n      <th>35</th>\n      <td>93392 Webb Gardens Apt. 220\\nLaurabury, AR 999...</td>\n      <td>37 om</td>\n      <td>AM</td>\n      <td>Mozilla/5.0 (Macintosh; U; Intel Mac OS X 10_7...</td>\n      <td>Mora Ltd</td>\n      <td>6011049630969815</td>\n      <td>09/16</td>\n      <td>367</td>\n      <td>Mastercard</td>\n      <td>hgonzalez@mcdowell.com</td>\n      <td>Lecturer, further education</td>\n      <td>216.23.95.40</td>\n      <td>zh</td>\n      <td>97.46</td>\n    </tr>\n    <tr>\n      <th>90</th>\n      <td>431 Bowen Lights\\nFergusonborough, MH 01362</td>\n      <td>31 tG</td>\n      <td>AM</td>\n      <td>Mozilla/5.0 (Windows NT 5.2; it-IT; rv:1.9.1.2...</td>\n      <td>Copeland-Lee</td>\n      <td>639032576097</td>\n      <td>06/18</td>\n      <td>868</td>\n      <td>Mastercard</td>\n      <td>nrogers@brown.com</td>\n      <td>Teacher, English as a foreign language</td>\n      <td>153.188.13.203</td>\n      <td>es</td>\n      <td>78.86</td>\n    </tr>\n    <tr>\n      <th>...</th>\n      <td>...</td>\n      <td>...</td>\n      <td>...</td>\n      <td>...</td>\n      <td>...</td>\n      <td>...</td>\n      <td>...</td>\n      <td>...</td>\n      <td>...</td>\n      <td>...</td>\n      <td>...</td>\n      <td>...</td>\n      <td>...</td>\n      <td>...</td>\n    </tr>\n    <tr>\n      <th>9941</th>\n      <td>43757 Brown Lodge\\nValerieberg, PR 88518</td>\n      <td>68 DG</td>\n      <td>AM</td>\n      <td>Mozilla/5.0 (compatible; MSIE 5.0; Windows NT ...</td>\n      <td>Jones, Williams and Dunn</td>\n      <td>6011508474487291</td>\n      <td>04/26</td>\n      <td>906</td>\n      <td>Mastercard</td>\n      <td>christian55@gmail.com</td>\n      <td>Secondary school teacher</td>\n      <td>216.118.235.145</td>\n      <td>fr</td>\n      <td>60.03</td>\n    </tr>\n    <tr>\n      <th>9948</th>\n      <td>95544 Johnson Isle Suite 939\\nMichaelberg, RI ...</td>\n      <td>91 bW</td>\n      <td>AM</td>\n      <td>Opera/8.36.(X11; Linux x86_64; sl-SI) Presto/2...</td>\n      <td>Fox-Peterson</td>\n      <td>4762924304307</td>\n      <td>03/17</td>\n      <td>567</td>\n      <td>Mastercard</td>\n      <td>haleybenjamin@gmail.com</td>\n      <td>Structural engineer</td>\n      <td>120.36.140.58</td>\n      <td>en</td>\n      <td>71.89</td>\n    </tr>\n    <tr>\n      <th>9954</th>\n      <td>051 Samantha Wells Apt. 328\\nScottborough, OR ...</td>\n      <td>11 vG</td>\n      <td>AM</td>\n      <td>Mozilla/5.0 (Macintosh; U; PPC Mac OS X 10_8_2...</td>\n      <td>Mendoza, Zimmerman and Reilly</td>\n      <td>30232295374907</td>\n      <td>05/21</td>\n      <td>762</td>\n      <td>Mastercard</td>\n      <td>brownamy@perkins.com</td>\n      <td>Presenter, broadcasting</td>\n      <td>61.97.84.101</td>\n      <td>it</td>\n      <td>87.15</td>\n    </tr>\n    <tr>\n      <th>9981</th>\n      <td>087 Larson Roads Apt. 587\\nRicestad, WI 98077-...</td>\n      <td>95 Kw</td>\n      <td>AM</td>\n      <td>Opera/9.63.(Windows NT 5.01; en-US) Presto/2.9...</td>\n      <td>Ortiz, Schultz and Adams</td>\n      <td>4690863684605</td>\n      <td>01/19</td>\n      <td>695</td>\n      <td>Mastercard</td>\n      <td>laurenbennett@richards.com</td>\n      <td>Environmental education officer</td>\n      <td>106.21.237.73</td>\n      <td>pt</td>\n      <td>63.61</td>\n    </tr>\n    <tr>\n      <th>9987</th>\n      <td>2754 Klein Mission\\nJohnsonview, PA 64925-9624</td>\n      <td>65 Fg</td>\n      <td>PM</td>\n      <td>Opera/9.26.(Windows CE; sl-SI) Presto/2.9.188 ...</td>\n      <td>Curtis LLC</td>\n      <td>180027305702263</td>\n      <td>12/24</td>\n      <td>865</td>\n      <td>Mastercard</td>\n      <td>denisehamilton@novak.biz</td>\n      <td>Primary school teacher</td>\n      <td>164.39.190.217</td>\n      <td>es</td>\n      <td>60.83</td>\n    </tr>\n  </tbody>\n</table>\n<p>405 rows × 14 columns</p>\n</div>"
     },
     "execution_count": 36,
     "metadata": {},
     "output_type": "execute_result"
    }
   ],
   "source": [
    "df_1[(df_1['CC Provider']=='Mastercard') & (df_1['Purchase Price']>50)]"
   ]
  },
  {
   "cell_type": "code",
   "execution_count": null,
   "metadata": {},
   "outputs": [],
   "source": []
  },
  {
   "cell_type": "code",
   "execution_count": 35,
   "metadata": {
    "ExecuteTime": {
     "end_time": "2024-05-07T06:27:41.289976300Z",
     "start_time": "2024-05-07T06:27:41.261727800Z"
    }
   },
   "outputs": [
    {
     "data": {
      "text/plain": "Index(['Address', 'Lot', 'AM or PM', 'Browser Info', 'Company', 'Credit Card',\n       'CC Exp Date', 'CC Security Code', 'CC Provider', 'Email', 'Job',\n       'IP Address', 'Language', 'Purchase Price'],\n      dtype='object')"
     },
     "execution_count": 35,
     "metadata": {},
     "output_type": "execute_result"
    }
   ],
   "source": [
    "df_1.columns"
   ]
  },
  {
   "cell_type": "markdown",
   "metadata": {},
   "source": [
    "### 12. Find Email of The Person With The Following Credit Card Number: 4664825258997302 "
   ]
  },
  {
   "cell_type": "code",
   "execution_count": 38,
   "metadata": {
    "ExecuteTime": {
     "end_time": "2024-05-07T06:29:48.769068Z",
     "start_time": "2024-05-07T06:29:48.743645800Z"
    }
   },
   "outputs": [
    {
     "data": {
      "text/plain": "9992    bberry@wright.net\nName: Email, dtype: object"
     },
     "execution_count": 38,
     "metadata": {},
     "output_type": "execute_result"
    }
   ],
   "source": [
    "df_1[df_1['Credit Card']==4664825258997302]['Email']"
   ]
  },
  {
   "cell_type": "code",
   "execution_count": 39,
   "metadata": {
    "ExecuteTime": {
     "end_time": "2024-05-07T06:31:02.550027500Z",
     "start_time": "2024-05-07T06:31:02.459959600Z"
    }
   },
   "outputs": [
    {
     "data": {
      "text/plain": "Index(['Address', 'Lot', 'AM or PM', 'Browser Info', 'Company', 'Credit Card',\n       'CC Exp Date', 'CC Security Code', 'CC Provider', 'Email', 'Job',\n       'IP Address', 'Language', 'Purchase Price'],\n      dtype='object')"
     },
     "execution_count": 39,
     "metadata": {},
     "output_type": "execute_result"
    }
   ],
   "source": [
    "df_1.columns"
   ]
  },
  {
   "cell_type": "markdown",
   "metadata": {},
   "source": [
    "### 13. How Many People Purchase During The AM and How Many People Purchase During PM ?"
   ]
  },
  {
   "cell_type": "code",
   "execution_count": 41,
   "metadata": {
    "ExecuteTime": {
     "end_time": "2024-05-07T06:32:36.921376500Z",
     "start_time": "2024-05-07T06:32:36.864538800Z"
    }
   },
   "outputs": [
    {
     "data": {
      "text/plain": "AM or PM\nPM    5068\nAM    4932\nName: count, dtype: int64"
     },
     "execution_count": 41,
     "metadata": {},
     "output_type": "execute_result"
    }
   ],
   "source": [
    "df_1['AM or PM'].value_counts()"
   ]
  },
  {
   "cell_type": "code",
   "execution_count": 42,
   "metadata": {
    "ExecuteTime": {
     "end_time": "2024-05-07T06:33:05.500302200Z",
     "start_time": "2024-05-07T06:33:05.458713900Z"
    }
   },
   "outputs": [
    {
     "data": {
      "text/plain": "Index(['Address', 'Lot', 'AM or PM', 'Browser Info', 'Company', 'Credit Card',\n       'CC Exp Date', 'CC Security Code', 'CC Provider', 'Email', 'Job',\n       'IP Address', 'Language', 'Purchase Price'],\n      dtype='object')"
     },
     "execution_count": 42,
     "metadata": {},
     "output_type": "execute_result"
    }
   ],
   "source": [
    "df_1.columns"
   ]
  },
  {
   "cell_type": "markdown",
   "metadata": {},
   "source": [
    "### 14. How Many People have A Credit Card That Expires In 2020?"
   ]
  },
  {
   "cell_type": "code",
   "execution_count": 43,
   "metadata": {
    "ExecuteTime": {
     "end_time": "2024-05-07T06:33:23.651995300Z",
     "start_time": "2024-05-07T06:33:23.619016100Z"
    }
   },
   "outputs": [
    {
     "data": {
      "text/plain": "0       02/20\n1       11/18\n2       08/19\n3       02/24\n4       10/25\n        ...  \n9995    03/22\n9996    07/25\n9997    05/21\n9998    11/17\n9999    02/19\nName: CC Exp Date, Length: 10000, dtype: object"
     },
     "execution_count": 43,
     "metadata": {},
     "output_type": "execute_result"
    }
   ],
   "source": [
    "df_1['CC Exp Date']"
   ]
  },
  {
   "cell_type": "code",
   "execution_count": 48,
   "metadata": {
    "ExecuteTime": {
     "end_time": "2024-05-07T06:35:51.664001500Z",
     "start_time": "2024-05-07T06:35:51.600516600Z"
    }
   },
   "outputs": [],
   "source": [
    "def fun():\n",
    "    c=0\n",
    "    for i in df_1['CC Exp Date']:\n",
    "        if i.split('/')[1]=='20':\n",
    "            c+=1\n",
    "    print(c)"
   ]
  },
  {
   "cell_type": "code",
   "execution_count": 49,
   "outputs": [
    {
     "name": "stdout",
     "output_type": "stream",
     "text": [
      "988\n"
     ]
    }
   ],
   "source": [
    "fun()"
   ],
   "metadata": {
    "collapsed": false,
    "ExecuteTime": {
     "end_time": "2024-05-07T06:35:53.661070200Z",
     "start_time": "2024-05-07T06:35:53.634249400Z"
    }
   }
  },
  {
   "cell_type": "code",
   "execution_count": 50,
   "metadata": {
    "ExecuteTime": {
     "end_time": "2024-05-07T06:37:06.372784300Z",
     "start_time": "2024-05-07T06:37:06.300892600Z"
    }
   },
   "outputs": [
    {
     "data": {
      "text/plain": "                                                Address    Lot AM or PM  \\\n0     16629 Pace Camp Apt. 448\\nAlexisborough, NE 77...  46 in       PM   \n19                  125 Hall Summit\\nBoothton, IL 41721  99 CU       PM   \n32                     Unit 3628 Box 6778\\nDPO AE 72362  39 Qm       PM   \n36    9374 Skinner Common Apt. 254\\nChristopherfort,...  80 Fq       PM   \n38    9671 Riley Drives Apt. 746\\nPort Davidtown, TN...  15 vj       AM   \n...                                                 ...    ...      ...   \n9883        751 Petersen Groves\\nLake Rebecca, NM 55875  61 tE       PM   \n9901      908 Norman Burgs\\nPhillipsberg, VT 92023-9956  90 Ng       PM   \n9911  44320 Gray Centers Suite 325\\nJenniferfurt, OK...  19 Bf       PM   \n9957             73556 Chase Pine\\nBrucemouth, MP 73473  25 rU       PM   \n9992  885 Allen Mountains Apt. 230\\nWallhaven, LA 16995  40 vH       PM   \n\n                                           Browser Info  \\\n0     Opera/9.56.(X11; Linux x86_64; sl-SI) Presto/2...   \n19    Mozilla/5.0 (compatible; MSIE 7.0; Windows NT ...   \n32    Mozilla/5.0 (Windows 98; Win 9x 4.90) AppleWeb...   \n36    Mozilla/5.0 (compatible; MSIE 9.0; Windows NT ...   \n38    Mozilla/5.0 (X11; Linux i686; rv:1.9.6.20) Gec...   \n...                                                 ...   \n9883  Mozilla/5.0 (Macintosh; U; PPC Mac OS X 10_8_7...   \n9901  Mozilla/5.0 (compatible; MSIE 9.0; Windows NT ...   \n9911  Mozilla/5.0 (X11; Linux i686; rv:1.9.7.20) Gec...   \n9957  Opera/9.49.(Windows 95; en-US) Presto/2.9.189 ...   \n9992  Mozilla/5.0 (Macintosh; PPC Mac OS X 10_6_5) A...   \n\n                           Company       Credit Card CC Exp Date  \\\n0                  Martinez-Herman  6011929061123406       02/20   \n19                 Turner-Mckinney      676343504830       02/20   \n32                 Martinez-Wilson  4942281854569455       01/20   \n36                     Hanna-Grant   180042289507877       09/20   \n38    Bryant, Hubbard and Gonzales   210094965373094       12/20   \n...                            ...               ...         ...   \n9883                Perez and Sons  4939814860063025       05/20   \n9901                    Hughes Inc    30148833294789       09/20   \n9911                    Jones-Gray     4058074716188       12/20   \n9957    Martin, Clayton and Jarvis  3337737293232646       05/20   \n9992                     Wells Ltd  4664825258997302       10/20   \n\n      CC Security Code                  CC Provider  \\\n0                  900                 JCB 16 digit   \n19                 440                VISA 16 digit   \n32                8360                 JCB 16 digit   \n36                 912                VISA 16 digit   \n38                 248                      Voyager   \n...                ...                          ...   \n9883               238                   Mastercard   \n9901               483                      Voyager   \n9911               921  Diners Club / Carte Blanche   \n9957               798                VISA 13 digit   \n9992               431                     Discover   \n\n                             Email                                     Job  \\\n0                pdunlap@yahoo.com  Scientist, product/process development   \n19            ruiznicole@gmail.com              Designer, interior/spatial   \n32            shane21@atkinson.com             Civil Service fast streamer   \n36        saundersernest@walsh.com                     Animal technologist   \n38      djennings@boyd-english.org                         Music therapist   \n...                            ...                                     ...   \n9883            lisa25@hotmail.com                Therapeutic radiographer   \n9901             james32@gmail.com                           Meteorologist   \n9911  hensonlindsay@graves-fox.com                    Optician, dispensing   \n9957        latashaochoa@gmail.com                Therapeutic radiographer   \n9992             bberry@wright.net                            Set designer   \n\n           IP Address Language  Purchase Price  \n0     149.146.147.205       el           98.14  \n19     25.105.209.214       fr           58.39  \n32     196.37.134.217       pt           56.63  \n36      85.134.58.250       zh            9.77  \n38     143.138.65.219       en           30.07  \n...               ...      ...             ...  \n9883    215.85.159.70       pt           67.47  \n9901     250.66.85.29       en           57.25  \n9911     84.118.30.56       en           20.63  \n9957  239.219.241.162       ru           71.85  \n9992    174.173.51.32       de           67.96  \n\n[988 rows x 14 columns]",
      "text/html": "<div>\n<style scoped>\n    .dataframe tbody tr th:only-of-type {\n        vertical-align: middle;\n    }\n\n    .dataframe tbody tr th {\n        vertical-align: top;\n    }\n\n    .dataframe thead th {\n        text-align: right;\n    }\n</style>\n<table border=\"1\" class=\"dataframe\">\n  <thead>\n    <tr style=\"text-align: right;\">\n      <th></th>\n      <th>Address</th>\n      <th>Lot</th>\n      <th>AM or PM</th>\n      <th>Browser Info</th>\n      <th>Company</th>\n      <th>Credit Card</th>\n      <th>CC Exp Date</th>\n      <th>CC Security Code</th>\n      <th>CC Provider</th>\n      <th>Email</th>\n      <th>Job</th>\n      <th>IP Address</th>\n      <th>Language</th>\n      <th>Purchase Price</th>\n    </tr>\n  </thead>\n  <tbody>\n    <tr>\n      <th>0</th>\n      <td>16629 Pace Camp Apt. 448\\nAlexisborough, NE 77...</td>\n      <td>46 in</td>\n      <td>PM</td>\n      <td>Opera/9.56.(X11; Linux x86_64; sl-SI) Presto/2...</td>\n      <td>Martinez-Herman</td>\n      <td>6011929061123406</td>\n      <td>02/20</td>\n      <td>900</td>\n      <td>JCB 16 digit</td>\n      <td>pdunlap@yahoo.com</td>\n      <td>Scientist, product/process development</td>\n      <td>149.146.147.205</td>\n      <td>el</td>\n      <td>98.14</td>\n    </tr>\n    <tr>\n      <th>19</th>\n      <td>125 Hall Summit\\nBoothton, IL 41721</td>\n      <td>99 CU</td>\n      <td>PM</td>\n      <td>Mozilla/5.0 (compatible; MSIE 7.0; Windows NT ...</td>\n      <td>Turner-Mckinney</td>\n      <td>676343504830</td>\n      <td>02/20</td>\n      <td>440</td>\n      <td>VISA 16 digit</td>\n      <td>ruiznicole@gmail.com</td>\n      <td>Designer, interior/spatial</td>\n      <td>25.105.209.214</td>\n      <td>fr</td>\n      <td>58.39</td>\n    </tr>\n    <tr>\n      <th>32</th>\n      <td>Unit 3628 Box 6778\\nDPO AE 72362</td>\n      <td>39 Qm</td>\n      <td>PM</td>\n      <td>Mozilla/5.0 (Windows 98; Win 9x 4.90) AppleWeb...</td>\n      <td>Martinez-Wilson</td>\n      <td>4942281854569455</td>\n      <td>01/20</td>\n      <td>8360</td>\n      <td>JCB 16 digit</td>\n      <td>shane21@atkinson.com</td>\n      <td>Civil Service fast streamer</td>\n      <td>196.37.134.217</td>\n      <td>pt</td>\n      <td>56.63</td>\n    </tr>\n    <tr>\n      <th>36</th>\n      <td>9374 Skinner Common Apt. 254\\nChristopherfort,...</td>\n      <td>80 Fq</td>\n      <td>PM</td>\n      <td>Mozilla/5.0 (compatible; MSIE 9.0; Windows NT ...</td>\n      <td>Hanna-Grant</td>\n      <td>180042289507877</td>\n      <td>09/20</td>\n      <td>912</td>\n      <td>VISA 16 digit</td>\n      <td>saundersernest@walsh.com</td>\n      <td>Animal technologist</td>\n      <td>85.134.58.250</td>\n      <td>zh</td>\n      <td>9.77</td>\n    </tr>\n    <tr>\n      <th>38</th>\n      <td>9671 Riley Drives Apt. 746\\nPort Davidtown, TN...</td>\n      <td>15 vj</td>\n      <td>AM</td>\n      <td>Mozilla/5.0 (X11; Linux i686; rv:1.9.6.20) Gec...</td>\n      <td>Bryant, Hubbard and Gonzales</td>\n      <td>210094965373094</td>\n      <td>12/20</td>\n      <td>248</td>\n      <td>Voyager</td>\n      <td>djennings@boyd-english.org</td>\n      <td>Music therapist</td>\n      <td>143.138.65.219</td>\n      <td>en</td>\n      <td>30.07</td>\n    </tr>\n    <tr>\n      <th>...</th>\n      <td>...</td>\n      <td>...</td>\n      <td>...</td>\n      <td>...</td>\n      <td>...</td>\n      <td>...</td>\n      <td>...</td>\n      <td>...</td>\n      <td>...</td>\n      <td>...</td>\n      <td>...</td>\n      <td>...</td>\n      <td>...</td>\n      <td>...</td>\n    </tr>\n    <tr>\n      <th>9883</th>\n      <td>751 Petersen Groves\\nLake Rebecca, NM 55875</td>\n      <td>61 tE</td>\n      <td>PM</td>\n      <td>Mozilla/5.0 (Macintosh; U; PPC Mac OS X 10_8_7...</td>\n      <td>Perez and Sons</td>\n      <td>4939814860063025</td>\n      <td>05/20</td>\n      <td>238</td>\n      <td>Mastercard</td>\n      <td>lisa25@hotmail.com</td>\n      <td>Therapeutic radiographer</td>\n      <td>215.85.159.70</td>\n      <td>pt</td>\n      <td>67.47</td>\n    </tr>\n    <tr>\n      <th>9901</th>\n      <td>908 Norman Burgs\\nPhillipsberg, VT 92023-9956</td>\n      <td>90 Ng</td>\n      <td>PM</td>\n      <td>Mozilla/5.0 (compatible; MSIE 9.0; Windows NT ...</td>\n      <td>Hughes Inc</td>\n      <td>30148833294789</td>\n      <td>09/20</td>\n      <td>483</td>\n      <td>Voyager</td>\n      <td>james32@gmail.com</td>\n      <td>Meteorologist</td>\n      <td>250.66.85.29</td>\n      <td>en</td>\n      <td>57.25</td>\n    </tr>\n    <tr>\n      <th>9911</th>\n      <td>44320 Gray Centers Suite 325\\nJenniferfurt, OK...</td>\n      <td>19 Bf</td>\n      <td>PM</td>\n      <td>Mozilla/5.0 (X11; Linux i686; rv:1.9.7.20) Gec...</td>\n      <td>Jones-Gray</td>\n      <td>4058074716188</td>\n      <td>12/20</td>\n      <td>921</td>\n      <td>Diners Club / Carte Blanche</td>\n      <td>hensonlindsay@graves-fox.com</td>\n      <td>Optician, dispensing</td>\n      <td>84.118.30.56</td>\n      <td>en</td>\n      <td>20.63</td>\n    </tr>\n    <tr>\n      <th>9957</th>\n      <td>73556 Chase Pine\\nBrucemouth, MP 73473</td>\n      <td>25 rU</td>\n      <td>PM</td>\n      <td>Opera/9.49.(Windows 95; en-US) Presto/2.9.189 ...</td>\n      <td>Martin, Clayton and Jarvis</td>\n      <td>3337737293232646</td>\n      <td>05/20</td>\n      <td>798</td>\n      <td>VISA 13 digit</td>\n      <td>latashaochoa@gmail.com</td>\n      <td>Therapeutic radiographer</td>\n      <td>239.219.241.162</td>\n      <td>ru</td>\n      <td>71.85</td>\n    </tr>\n    <tr>\n      <th>9992</th>\n      <td>885 Allen Mountains Apt. 230\\nWallhaven, LA 16995</td>\n      <td>40 vH</td>\n      <td>PM</td>\n      <td>Mozilla/5.0 (Macintosh; PPC Mac OS X 10_6_5) A...</td>\n      <td>Wells Ltd</td>\n      <td>4664825258997302</td>\n      <td>10/20</td>\n      <td>431</td>\n      <td>Discover</td>\n      <td>bberry@wright.net</td>\n      <td>Set designer</td>\n      <td>174.173.51.32</td>\n      <td>de</td>\n      <td>67.96</td>\n    </tr>\n  </tbody>\n</table>\n<p>988 rows × 14 columns</p>\n</div>"
     },
     "execution_count": 50,
     "metadata": {},
     "output_type": "execute_result"
    }
   ],
   "source": [
    "df_1[df_1['CC Exp Date'].apply(lambda x:x[3:]=='20')]"
   ]
  },
  {
   "cell_type": "markdown",
   "metadata": {},
   "source": [
    "### What Are The Top 5 Most Popular Email providers (e.g. gmail.com, yahoo.com, etc...) "
   ]
  },
  {
   "cell_type": "code",
   "execution_count": 51,
   "metadata": {
    "ExecuteTime": {
     "end_time": "2024-05-07T06:37:38.776272300Z",
     "start_time": "2024-05-07T06:37:38.750513500Z"
    }
   },
   "outputs": [
    {
     "data": {
      "text/plain": "Index(['Address', 'Lot', 'AM or PM', 'Browser Info', 'Company', 'Credit Card',\n       'CC Exp Date', 'CC Security Code', 'CC Provider', 'Email', 'Job',\n       'IP Address', 'Language', 'Purchase Price'],\n      dtype='object')"
     },
     "execution_count": 51,
     "metadata": {},
     "output_type": "execute_result"
    }
   ],
   "source": [
    "df_1.columns"
   ]
  },
  {
   "cell_type": "code",
   "execution_count": 52,
   "metadata": {
    "ExecuteTime": {
     "end_time": "2024-05-07T06:39:58.100781200Z",
     "start_time": "2024-05-07T06:39:58.058225Z"
    }
   },
   "outputs": [],
   "source": [
    "list1=[]\n",
    "for i in df_1['Email']:\n",
    "    list1.append(i.split('@')[1])"
   ]
  },
  {
   "cell_type": "code",
   "execution_count": 53,
   "metadata": {
    "ExecuteTime": {
     "end_time": "2024-05-07T06:40:14.449820900Z",
     "start_time": "2024-05-07T06:40:14.371402500Z"
    }
   },
   "outputs": [],
   "source": [
    "df_1['temp']=list1"
   ]
  },
  {
   "cell_type": "code",
   "execution_count": 54,
   "metadata": {
    "ExecuteTime": {
     "end_time": "2024-05-07T06:40:30.640908800Z",
     "start_time": "2024-05-07T06:40:30.597479200Z"
    }
   },
   "outputs": [
    {
     "data": {
      "text/plain": "                                                Address    Lot AM or PM  \\\n0     16629 Pace Camp Apt. 448\\nAlexisborough, NE 77...  46 in       PM   \n1     9374 Jasmine Spurs Suite 508\\nSouth John, TN 8...  28 rn       PM   \n2                      Unit 0065 Box 5052\\nDPO AP 27450  94 vE       PM   \n3                 7780 Julia Fords\\nNew Stacy, WA 45798  36 vm       PM   \n4     23012 Munoz Drive Suite 337\\nNew Cynthia, TX 5...  20 IE       AM   \n...                                                 ...    ...      ...   \n9995      966 Castaneda Locks\\nWest Juliafurt, CO 96415  92 XI       PM   \n9996  832 Curtis Dam Suite 785\\nNorth Edwardburgh, T...  41 JY       AM   \n9997              Unit 4434 Box 6343\\nDPO AE 28026-0283  74 Zh       AM   \n9998               0096 English Rest\\nRoystad, IA 12457  74 cL       PM   \n9999     40674 Barrett Stravenue\\nGrimesville, WI 79682  64 Hr       AM   \n\n                                           Browser Info  \\\n0     Opera/9.56.(X11; Linux x86_64; sl-SI) Presto/2...   \n1     Opera/8.93.(Windows 98; Win 9x 4.90; en-US) Pr...   \n2     Mozilla/5.0 (compatible; MSIE 9.0; Windows NT ...   \n3     Mozilla/5.0 (Macintosh; Intel Mac OS X 10_8_0 ...   \n4     Opera/9.58.(X11; Linux x86_64; it-IT) Presto/2...   \n...                                                 ...   \n9995  Mozilla/5.0 (Windows NT 5.1) AppleWebKit/5352 ...   \n9996  Mozilla/5.0 (compatible; MSIE 9.0; Windows NT ...   \n9997  Mozilla/5.0 (Macintosh; U; Intel Mac OS X 10_7...   \n9998  Mozilla/5.0 (Macintosh; Intel Mac OS X 10_8_8;...   \n9999  Mozilla/5.0 (X11; Linux i686; rv:1.9.5.20) Gec...   \n\n                              Company       Credit Card CC Exp Date  \\\n0                     Martinez-Herman  6011929061123406       02/20   \n1     Fletcher, Richards and Whitaker  3337758169645356       11/18   \n2          Simpson, Williams and Pham      675957666125       08/19   \n3     Williams, Marshall and Buchanan  6011578504430710       02/24   \n4           Brown, Watson and Andrews  6011456623207998       10/25   \n...                               ...               ...         ...   \n9995                    Randall-Sloan   342945015358701       03/22   \n9996         Hale, Collins and Wilson   210033169205009       07/25   \n9997                     Anderson Ltd  6011539787356311       05/21   \n9998                         Cook Inc   180003348082930       11/17   \n9999                       Greene Inc  4139972901927273       02/19   \n\n      CC Security Code                  CC Provider  \\\n0                  900                 JCB 16 digit   \n1                  561                   Mastercard   \n2                  699                 JCB 16 digit   \n3                  384                     Discover   \n4                  678  Diners Club / Carte Blanche   \n...                ...                          ...   \n9995               838                 JCB 15 digit   \n9996               207                 JCB 16 digit   \n9997                 1                VISA 16 digit   \n9998               987             American Express   \n9999               302                 JCB 15 digit   \n\n                               Email                                     Job  \\\n0                  pdunlap@yahoo.com  Scientist, product/process development   \n1                 anthony41@reed.com                       Drilling engineer   \n2     amymiller@morales-harrison.com                Customer service manager   \n3        brent16@olson-robinson.info                       Drilling engineer   \n4        christopherwright@gmail.com                             Fine artist   \n...                              ...                                     ...   \n9995          iscott@wade-garner.com                              Printmaker   \n9996              mary85@hotmail.com                         Energy engineer   \n9997               tyler16@gmail.com                      Veterinary surgeon   \n9998         elizabethmoore@reid.net                Local government officer   \n9999           rachelford@vaughn.com                  Embryologist, clinical   \n\n           IP Address Language  Purchase Price                  temp  \n0     149.146.147.205       el           98.14             yahoo.com  \n1        15.160.41.51       fr           70.73              reed.com  \n2      132.207.160.22       de            0.95  morales-harrison.com  \n3        30.250.74.19       es           78.04   olson-robinson.info  \n4        24.140.33.94       es           77.82             gmail.com  \n...               ...      ...             ...                   ...  \n9995    29.73.197.114       it           82.21       wade-garner.com  \n9996   121.133.168.51       pt           25.63           hotmail.com  \n9997    156.210.0.254       el           83.98             gmail.com  \n9998     55.78.26.143       es           38.84              reid.net  \n9999  176.119.198.199       el           67.59            vaughn.com  \n\n[10000 rows x 15 columns]",
      "text/html": "<div>\n<style scoped>\n    .dataframe tbody tr th:only-of-type {\n        vertical-align: middle;\n    }\n\n    .dataframe tbody tr th {\n        vertical-align: top;\n    }\n\n    .dataframe thead th {\n        text-align: right;\n    }\n</style>\n<table border=\"1\" class=\"dataframe\">\n  <thead>\n    <tr style=\"text-align: right;\">\n      <th></th>\n      <th>Address</th>\n      <th>Lot</th>\n      <th>AM or PM</th>\n      <th>Browser Info</th>\n      <th>Company</th>\n      <th>Credit Card</th>\n      <th>CC Exp Date</th>\n      <th>CC Security Code</th>\n      <th>CC Provider</th>\n      <th>Email</th>\n      <th>Job</th>\n      <th>IP Address</th>\n      <th>Language</th>\n      <th>Purchase Price</th>\n      <th>temp</th>\n    </tr>\n  </thead>\n  <tbody>\n    <tr>\n      <th>0</th>\n      <td>16629 Pace Camp Apt. 448\\nAlexisborough, NE 77...</td>\n      <td>46 in</td>\n      <td>PM</td>\n      <td>Opera/9.56.(X11; Linux x86_64; sl-SI) Presto/2...</td>\n      <td>Martinez-Herman</td>\n      <td>6011929061123406</td>\n      <td>02/20</td>\n      <td>900</td>\n      <td>JCB 16 digit</td>\n      <td>pdunlap@yahoo.com</td>\n      <td>Scientist, product/process development</td>\n      <td>149.146.147.205</td>\n      <td>el</td>\n      <td>98.14</td>\n      <td>yahoo.com</td>\n    </tr>\n    <tr>\n      <th>1</th>\n      <td>9374 Jasmine Spurs Suite 508\\nSouth John, TN 8...</td>\n      <td>28 rn</td>\n      <td>PM</td>\n      <td>Opera/8.93.(Windows 98; Win 9x 4.90; en-US) Pr...</td>\n      <td>Fletcher, Richards and Whitaker</td>\n      <td>3337758169645356</td>\n      <td>11/18</td>\n      <td>561</td>\n      <td>Mastercard</td>\n      <td>anthony41@reed.com</td>\n      <td>Drilling engineer</td>\n      <td>15.160.41.51</td>\n      <td>fr</td>\n      <td>70.73</td>\n      <td>reed.com</td>\n    </tr>\n    <tr>\n      <th>2</th>\n      <td>Unit 0065 Box 5052\\nDPO AP 27450</td>\n      <td>94 vE</td>\n      <td>PM</td>\n      <td>Mozilla/5.0 (compatible; MSIE 9.0; Windows NT ...</td>\n      <td>Simpson, Williams and Pham</td>\n      <td>675957666125</td>\n      <td>08/19</td>\n      <td>699</td>\n      <td>JCB 16 digit</td>\n      <td>amymiller@morales-harrison.com</td>\n      <td>Customer service manager</td>\n      <td>132.207.160.22</td>\n      <td>de</td>\n      <td>0.95</td>\n      <td>morales-harrison.com</td>\n    </tr>\n    <tr>\n      <th>3</th>\n      <td>7780 Julia Fords\\nNew Stacy, WA 45798</td>\n      <td>36 vm</td>\n      <td>PM</td>\n      <td>Mozilla/5.0 (Macintosh; Intel Mac OS X 10_8_0 ...</td>\n      <td>Williams, Marshall and Buchanan</td>\n      <td>6011578504430710</td>\n      <td>02/24</td>\n      <td>384</td>\n      <td>Discover</td>\n      <td>brent16@olson-robinson.info</td>\n      <td>Drilling engineer</td>\n      <td>30.250.74.19</td>\n      <td>es</td>\n      <td>78.04</td>\n      <td>olson-robinson.info</td>\n    </tr>\n    <tr>\n      <th>4</th>\n      <td>23012 Munoz Drive Suite 337\\nNew Cynthia, TX 5...</td>\n      <td>20 IE</td>\n      <td>AM</td>\n      <td>Opera/9.58.(X11; Linux x86_64; it-IT) Presto/2...</td>\n      <td>Brown, Watson and Andrews</td>\n      <td>6011456623207998</td>\n      <td>10/25</td>\n      <td>678</td>\n      <td>Diners Club / Carte Blanche</td>\n      <td>christopherwright@gmail.com</td>\n      <td>Fine artist</td>\n      <td>24.140.33.94</td>\n      <td>es</td>\n      <td>77.82</td>\n      <td>gmail.com</td>\n    </tr>\n    <tr>\n      <th>...</th>\n      <td>...</td>\n      <td>...</td>\n      <td>...</td>\n      <td>...</td>\n      <td>...</td>\n      <td>...</td>\n      <td>...</td>\n      <td>...</td>\n      <td>...</td>\n      <td>...</td>\n      <td>...</td>\n      <td>...</td>\n      <td>...</td>\n      <td>...</td>\n      <td>...</td>\n    </tr>\n    <tr>\n      <th>9995</th>\n      <td>966 Castaneda Locks\\nWest Juliafurt, CO 96415</td>\n      <td>92 XI</td>\n      <td>PM</td>\n      <td>Mozilla/5.0 (Windows NT 5.1) AppleWebKit/5352 ...</td>\n      <td>Randall-Sloan</td>\n      <td>342945015358701</td>\n      <td>03/22</td>\n      <td>838</td>\n      <td>JCB 15 digit</td>\n      <td>iscott@wade-garner.com</td>\n      <td>Printmaker</td>\n      <td>29.73.197.114</td>\n      <td>it</td>\n      <td>82.21</td>\n      <td>wade-garner.com</td>\n    </tr>\n    <tr>\n      <th>9996</th>\n      <td>832 Curtis Dam Suite 785\\nNorth Edwardburgh, T...</td>\n      <td>41 JY</td>\n      <td>AM</td>\n      <td>Mozilla/5.0 (compatible; MSIE 9.0; Windows NT ...</td>\n      <td>Hale, Collins and Wilson</td>\n      <td>210033169205009</td>\n      <td>07/25</td>\n      <td>207</td>\n      <td>JCB 16 digit</td>\n      <td>mary85@hotmail.com</td>\n      <td>Energy engineer</td>\n      <td>121.133.168.51</td>\n      <td>pt</td>\n      <td>25.63</td>\n      <td>hotmail.com</td>\n    </tr>\n    <tr>\n      <th>9997</th>\n      <td>Unit 4434 Box 6343\\nDPO AE 28026-0283</td>\n      <td>74 Zh</td>\n      <td>AM</td>\n      <td>Mozilla/5.0 (Macintosh; U; Intel Mac OS X 10_7...</td>\n      <td>Anderson Ltd</td>\n      <td>6011539787356311</td>\n      <td>05/21</td>\n      <td>1</td>\n      <td>VISA 16 digit</td>\n      <td>tyler16@gmail.com</td>\n      <td>Veterinary surgeon</td>\n      <td>156.210.0.254</td>\n      <td>el</td>\n      <td>83.98</td>\n      <td>gmail.com</td>\n    </tr>\n    <tr>\n      <th>9998</th>\n      <td>0096 English Rest\\nRoystad, IA 12457</td>\n      <td>74 cL</td>\n      <td>PM</td>\n      <td>Mozilla/5.0 (Macintosh; Intel Mac OS X 10_8_8;...</td>\n      <td>Cook Inc</td>\n      <td>180003348082930</td>\n      <td>11/17</td>\n      <td>987</td>\n      <td>American Express</td>\n      <td>elizabethmoore@reid.net</td>\n      <td>Local government officer</td>\n      <td>55.78.26.143</td>\n      <td>es</td>\n      <td>38.84</td>\n      <td>reid.net</td>\n    </tr>\n    <tr>\n      <th>9999</th>\n      <td>40674 Barrett Stravenue\\nGrimesville, WI 79682</td>\n      <td>64 Hr</td>\n      <td>AM</td>\n      <td>Mozilla/5.0 (X11; Linux i686; rv:1.9.5.20) Gec...</td>\n      <td>Greene Inc</td>\n      <td>4139972901927273</td>\n      <td>02/19</td>\n      <td>302</td>\n      <td>JCB 15 digit</td>\n      <td>rachelford@vaughn.com</td>\n      <td>Embryologist, clinical</td>\n      <td>176.119.198.199</td>\n      <td>el</td>\n      <td>67.59</td>\n      <td>vaughn.com</td>\n    </tr>\n  </tbody>\n</table>\n<p>10000 rows × 15 columns</p>\n</div>"
     },
     "execution_count": 54,
     "metadata": {},
     "output_type": "execute_result"
    }
   ],
   "source": [
    "df_1"
   ]
  },
  {
   "cell_type": "code",
   "execution_count": 55,
   "metadata": {
    "ExecuteTime": {
     "end_time": "2024-05-07T06:40:51.000100400Z",
     "start_time": "2024-05-07T06:40:50.928138600Z"
    }
   },
   "outputs": [
    {
     "data": {
      "text/plain": "0                  yahoo.com\n1                   reed.com\n2       morales-harrison.com\n3        olson-robinson.info\n4                  gmail.com\n                ...         \n9995         wade-garner.com\n9996             hotmail.com\n9997               gmail.com\n9998                reid.net\n9999              vaughn.com\nName: temp, Length: 10000, dtype: object"
     },
     "execution_count": 55,
     "metadata": {},
     "output_type": "execute_result"
    }
   ],
   "source": [
    "df_1['temp']"
   ]
  },
  {
   "cell_type": "code",
   "execution_count": null,
   "metadata": {},
   "outputs": [],
   "source": []
  }
 ],
 "metadata": {
  "kernelspec": {
   "display_name": "Python 3 (ipykernel)",
   "language": "python",
   "name": "python3"
  },
  "language_info": {
   "codemirror_mode": {
    "name": "ipython",
    "version": 3
   },
   "file_extension": ".py",
   "mimetype": "text/x-python",
   "name": "python",
   "nbconvert_exporter": "python",
   "pygments_lexer": "ipython3",
   "version": "3.11.6"
  }
 },
 "nbformat": 4,
 "nbformat_minor": 4
}
