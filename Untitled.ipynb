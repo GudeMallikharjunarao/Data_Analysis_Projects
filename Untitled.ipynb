{
 "cells": [
  {
   "cell_type": "code",
   "execution_count": 2,
   "id": "da173a98-8e36-4608-bb0f-28a0b517a066",
   "metadata": {},
   "outputs": [
    {
     "name": "stdout",
     "output_type": "stream",
     "text": [
      "Collecting pyarrow\n",
      "  Downloading pyarrow-17.0.0-cp312-cp312-win_amd64.whl.metadata (3.4 kB)\n",
      "Requirement already satisfied: numpy>=1.16.6 in c:\\users\\dtp394\\appdata\\local\\programs\\python\\python312\\lib\\site-packages (from pyarrow) (1.26.4)\n",
      "Downloading pyarrow-17.0.0-cp312-cp312-win_amd64.whl (25.1 MB)\n",
      "   ---------------------------------------- 0.0/25.1 MB ? eta -:--:--\n",
      "   - -------------------------------------- 0.8/25.1 MB 6.7 MB/s eta 0:00:04\n",
      "   --- ------------------------------------ 2.1/25.1 MB 5.9 MB/s eta 0:00:04\n",
      "   ----- ---------------------------------- 3.7/25.1 MB 6.4 MB/s eta 0:00:04\n",
      "   ------- -------------------------------- 4.7/25.1 MB 6.3 MB/s eta 0:00:04\n",
      "   --------- ------------------------------ 5.8/25.1 MB 6.1 MB/s eta 0:00:04\n",
      "   ---------- ----------------------------- 6.6/25.1 MB 5.5 MB/s eta 0:00:04\n",
      "   ----------- ---------------------------- 7.3/25.1 MB 5.1 MB/s eta 0:00:04\n",
      "   ------------ --------------------------- 7.9/25.1 MB 4.9 MB/s eta 0:00:04\n",
      "   ------------- -------------------------- 8.4/25.1 MB 4.6 MB/s eta 0:00:04\n",
      "   -------------- ------------------------- 9.2/25.1 MB 4.3 MB/s eta 0:00:04\n",
      "   --------------- ------------------------ 9.7/25.1 MB 4.2 MB/s eta 0:00:04\n",
      "   --------------- ------------------------ 10.0/25.1 MB 4.1 MB/s eta 0:00:04\n",
      "   ---------------- ----------------------- 10.5/25.1 MB 3.8 MB/s eta 0:00:04\n",
      "   ----------------- ---------------------- 10.7/25.1 MB 3.6 MB/s eta 0:00:04\n",
      "   ----------------- ---------------------- 11.0/25.1 MB 3.5 MB/s eta 0:00:04\n",
      "   ----------------- ---------------------- 11.3/25.1 MB 3.4 MB/s eta 0:00:05\n",
      "   ------------------ --------------------- 11.8/25.1 MB 3.3 MB/s eta 0:00:05\n",
      "   ------------------- -------------------- 12.3/25.1 MB 3.2 MB/s eta 0:00:05\n",
      "   -------------------- ------------------- 12.6/25.1 MB 3.1 MB/s eta 0:00:05\n",
      "   -------------------- ------------------- 12.8/25.1 MB 3.0 MB/s eta 0:00:05\n",
      "   -------------------- ------------------- 13.1/25.1 MB 2.9 MB/s eta 0:00:05\n",
      "   -------------------- ------------------- 13.1/25.1 MB 2.9 MB/s eta 0:00:05\n",
      "   --------------------- ------------------ 13.4/25.1 MB 2.7 MB/s eta 0:00:05\n",
      "   --------------------- ------------------ 13.4/25.1 MB 2.7 MB/s eta 0:00:05\n",
      "   --------------------- ------------------ 13.4/25.1 MB 2.7 MB/s eta 0:00:05\n",
      "   --------------------- ------------------ 13.4/25.1 MB 2.7 MB/s eta 0:00:05\n",
      "   --------------------- ------------------ 13.4/25.1 MB 2.7 MB/s eta 0:00:05\n",
      "   --------------------- ------------------ 13.4/25.1 MB 2.7 MB/s eta 0:00:05\n",
      "   --------------------- ------------------ 13.4/25.1 MB 2.7 MB/s eta 0:00:05\n",
      "   --------------------- ------------------ 13.4/25.1 MB 2.7 MB/s eta 0:00:05\n",
      "   --------------------- ------------------ 13.4/25.1 MB 2.7 MB/s eta 0:00:05\n",
      "   --------------------- ------------------ 13.4/25.1 MB 2.7 MB/s eta 0:00:05\n",
      "   --------------------- ------------------ 13.6/25.1 MB 1.9 MB/s eta 0:00:06\n",
      "   --------------------- ------------------ 13.6/25.1 MB 1.9 MB/s eta 0:00:06\n",
      "   --------------------- ------------------ 13.6/25.1 MB 1.9 MB/s eta 0:00:06\n",
      "   --------------------- ------------------ 13.6/25.1 MB 1.9 MB/s eta 0:00:06\n",
      "   --------------------- ------------------ 13.6/25.1 MB 1.9 MB/s eta 0:00:06\n",
      "   --------------------- ------------------ 13.6/25.1 MB 1.9 MB/s eta 0:00:06\n",
      "   --------------------- ------------------ 13.6/25.1 MB 1.9 MB/s eta 0:00:06\n",
      "   --------------------- ------------------ 13.6/25.1 MB 1.9 MB/s eta 0:00:06\n",
      "   --------------------- ------------------ 13.6/25.1 MB 1.9 MB/s eta 0:00:06\n",
      "   --------------------- ------------------ 13.6/25.1 MB 1.9 MB/s eta 0:00:06\n",
      "   --------------------- ------------------ 13.6/25.1 MB 1.9 MB/s eta 0:00:06\n",
      "   ---------------------- ----------------- 13.9/25.1 MB 1.5 MB/s eta 0:00:08\n",
      "   ---------------------- ----------------- 13.9/25.1 MB 1.5 MB/s eta 0:00:08\n",
      "   ---------------------- ----------------- 13.9/25.1 MB 1.5 MB/s eta 0:00:08\n",
      "   ---------------------- ----------------- 13.9/25.1 MB 1.5 MB/s eta 0:00:08\n",
      "   ---------------------- ----------------- 13.9/25.1 MB 1.5 MB/s eta 0:00:08\n",
      "   ---------------------- ----------------- 13.9/25.1 MB 1.5 MB/s eta 0:00:08\n",
      "   ---------------------- ----------------- 14.2/25.1 MB 1.3 MB/s eta 0:00:09\n",
      "   ---------------------- ----------------- 14.2/25.1 MB 1.3 MB/s eta 0:00:09\n",
      "   ---------------------- ----------------- 14.2/25.1 MB 1.3 MB/s eta 0:00:09\n",
      "   ---------------------- ----------------- 14.4/25.1 MB 1.3 MB/s eta 0:00:09\n",
      "   ---------------------- ----------------- 14.4/25.1 MB 1.3 MB/s eta 0:00:09\n",
      "   ----------------------- ---------------- 14.7/25.1 MB 1.2 MB/s eta 0:00:09\n",
      "   ----------------------- ---------------- 14.7/25.1 MB 1.2 MB/s eta 0:00:09\n",
      "   ----------------------- ---------------- 14.9/25.1 MB 1.2 MB/s eta 0:00:09\n",
      "   ----------------------- ---------------- 14.9/25.1 MB 1.2 MB/s eta 0:00:09\n",
      "   ------------------------ --------------- 15.2/25.1 MB 1.2 MB/s eta 0:00:09\n",
      "   ------------------------ --------------- 15.2/25.1 MB 1.2 MB/s eta 0:00:09\n",
      "   ------------------------ --------------- 15.5/25.1 MB 1.2 MB/s eta 0:00:09\n",
      "   ------------------------- -------------- 15.7/25.1 MB 1.2 MB/s eta 0:00:09\n",
      "   ------------------------- -------------- 15.7/25.1 MB 1.2 MB/s eta 0:00:09\n",
      "   ------------------------- -------------- 16.0/25.1 MB 1.2 MB/s eta 0:00:08\n",
      "   ------------------------- -------------- 16.0/25.1 MB 1.2 MB/s eta 0:00:08\n",
      "   ------------------------- -------------- 16.3/25.1 MB 1.1 MB/s eta 0:00:08\n",
      "   -------------------------- ------------- 16.5/25.1 MB 1.1 MB/s eta 0:00:08\n",
      "   -------------------------- ------------- 16.5/25.1 MB 1.1 MB/s eta 0:00:08\n",
      "   -------------------------- ------------- 16.8/25.1 MB 1.1 MB/s eta 0:00:08\n",
      "   --------------------------- ------------ 17.0/25.1 MB 1.1 MB/s eta 0:00:08\n",
      "   --------------------------- ------------ 17.3/25.1 MB 1.1 MB/s eta 0:00:07\n",
      "   ---------------------------- ----------- 17.8/25.1 MB 1.1 MB/s eta 0:00:07\n",
      "   ---------------------------- ----------- 18.1/25.1 MB 1.1 MB/s eta 0:00:07\n",
      "   ----------------------------- ---------- 18.4/25.1 MB 1.1 MB/s eta 0:00:06\n",
      "   ----------------------------- ---------- 18.6/25.1 MB 1.1 MB/s eta 0:00:06\n",
      "   ------------------------------ --------- 19.1/25.1 MB 1.2 MB/s eta 0:00:06\n",
      "   ------------------------------ --------- 19.4/25.1 MB 1.2 MB/s eta 0:00:05\n",
      "   ------------------------------- -------- 19.9/25.1 MB 1.2 MB/s eta 0:00:05\n",
      "   -------------------------------- ------- 20.2/25.1 MB 1.2 MB/s eta 0:00:05\n",
      "   --------------------------------- ------ 20.7/25.1 MB 1.2 MB/s eta 0:00:04\n",
      "   --------------------------------- ------ 21.0/25.1 MB 1.2 MB/s eta 0:00:04\n",
      "   ---------------------------------- ----- 21.5/25.1 MB 1.2 MB/s eta 0:00:03\n",
      "   ---------------------------------- ----- 21.8/25.1 MB 1.2 MB/s eta 0:00:03\n",
      "   ----------------------------------- ---- 22.0/25.1 MB 1.2 MB/s eta 0:00:03\n",
      "   ----------------------------------- ---- 22.5/25.1 MB 1.2 MB/s eta 0:00:03\n",
      "   ------------------------------------ --- 23.1/25.1 MB 1.2 MB/s eta 0:00:02\n",
      "   ------------------------------------- -- 23.3/25.1 MB 1.2 MB/s eta 0:00:02\n",
      "   ------------------------------------- -- 23.6/25.1 MB 1.2 MB/s eta 0:00:02\n",
      "   -------------------------------------- - 24.1/25.1 MB 1.3 MB/s eta 0:00:01\n",
      "   ---------------------------------------  24.6/25.1 MB 1.3 MB/s eta 0:00:01\n",
      "   ---------------------------------------  24.9/25.1 MB 1.3 MB/s eta 0:00:01\n",
      "   ---------------------------------------  24.9/25.1 MB 1.3 MB/s eta 0:00:01\n",
      "   ---------------------------------------- 25.1/25.1 MB 1.3 MB/s eta 0:00:00\n",
      "Installing collected packages: pyarrow\n",
      "Successfully installed pyarrow-17.0.0\n",
      "Note: you may need to restart the kernel to use updated packages.\n"
     ]
    }
   ],
   "source": [
    "pip install pyarrow\n"
   ]
  },
  {
   "cell_type": "code",
   "execution_count": 3,
   "id": "4c5971c6-3bc6-4da2-99b5-628a59c95103",
   "metadata": {},
   "outputs": [],
   "source": [
    "import pandas as pd\n",
    "import numpy as np"
   ]
  },
  {
   "cell_type": "code",
   "execution_count": 4,
   "id": "7bb1d443-661e-4b3a-9b27-6b2cca926ad4",
   "metadata": {},
   "outputs": [],
   "source": [
    "people = {\n",
    "    'first': ['Corey', 'Jane', 'John', 'Chris', np.nan, None, 'NA'], \n",
    "    'last': ['Schafer', 'Doe', 'Doe', 'Schafer', np.nan, np.nan, 'Missing'], \n",
    "    'email': ['CoreyMSchafer@gmail.com', 'JaneDoe@email.com', 'JohnDoe@email.com', None, np.nan, 'Anonymous@email.com', 'NA'],\n",
    "    'age': ['33', '55', '63', '36', None, None, 'Missing']\n",
    "}\n"
   ]
  },
  {
   "cell_type": "code",
   "execution_count": 5,
   "id": "6d1793a6-c449-4d1a-8f7b-d67824b3b095",
   "metadata": {},
   "outputs": [],
   "source": [
    "df=pd.DataFrame(people)"
   ]
  },
  {
   "cell_type": "markdown",
   "id": "73d3edf9-ad18-4426-a785-58b4411f4558",
   "metadata": {},
   "source": [
    "df.head(10)"
   ]
  },
  {
   "cell_type": "code",
   "execution_count": 9,
   "id": "a5ee61de-8fa4-4e75-b13d-5532c23d13fc",
   "metadata": {},
   "outputs": [
    {
     "data": {
      "text/html": [
       "<div>\n",
       "<style scoped>\n",
       "    .dataframe tbody tr th:only-of-type {\n",
       "        vertical-align: middle;\n",
       "    }\n",
       "\n",
       "    .dataframe tbody tr th {\n",
       "        vertical-align: top;\n",
       "    }\n",
       "\n",
       "    .dataframe thead th {\n",
       "        text-align: right;\n",
       "    }\n",
       "</style>\n",
       "<table border=\"1\" class=\"dataframe\">\n",
       "  <thead>\n",
       "    <tr style=\"text-align: right;\">\n",
       "      <th></th>\n",
       "      <th>first</th>\n",
       "      <th>last</th>\n",
       "      <th>email</th>\n",
       "      <th>age</th>\n",
       "    </tr>\n",
       "  </thead>\n",
       "  <tbody>\n",
       "    <tr>\n",
       "      <th>0</th>\n",
       "      <td>Corey</td>\n",
       "      <td>Schafer</td>\n",
       "      <td>CoreyMSchafer@gmail.com</td>\n",
       "      <td>33</td>\n",
       "    </tr>\n",
       "    <tr>\n",
       "      <th>1</th>\n",
       "      <td>Jane</td>\n",
       "      <td>Doe</td>\n",
       "      <td>JaneDoe@email.com</td>\n",
       "      <td>55</td>\n",
       "    </tr>\n",
       "    <tr>\n",
       "      <th>2</th>\n",
       "      <td>John</td>\n",
       "      <td>Doe</td>\n",
       "      <td>JohnDoe@email.com</td>\n",
       "      <td>63</td>\n",
       "    </tr>\n",
       "    <tr>\n",
       "      <th>6</th>\n",
       "      <td>NA</td>\n",
       "      <td>Missing</td>\n",
       "      <td>NA</td>\n",
       "      <td>Missing</td>\n",
       "    </tr>\n",
       "  </tbody>\n",
       "</table>\n",
       "</div>"
      ],
      "text/plain": [
       "   first     last                    email      age\n",
       "0  Corey  Schafer  CoreyMSchafer@gmail.com       33\n",
       "1   Jane      Doe        JaneDoe@email.com       55\n",
       "2   John      Doe        JohnDoe@email.com       63\n",
       "6     NA  Missing                       NA  Missing"
      ]
     },
     "execution_count": 9,
     "metadata": {},
     "output_type": "execute_result"
    }
   ],
   "source": [
    "df.dropna()"
   ]
  },
  {
   "cell_type": "code",
   "execution_count": 17,
   "id": "8c59f4ee-563f-4f88-989d-00ebad25898f",
   "metadata": {},
   "outputs": [
    {
     "data": {
      "text/html": [
       "<div>\n",
       "<style scoped>\n",
       "    .dataframe tbody tr th:only-of-type {\n",
       "        vertical-align: middle;\n",
       "    }\n",
       "\n",
       "    .dataframe tbody tr th {\n",
       "        vertical-align: top;\n",
       "    }\n",
       "\n",
       "    .dataframe thead th {\n",
       "        text-align: right;\n",
       "    }\n",
       "</style>\n",
       "<table border=\"1\" class=\"dataframe\">\n",
       "  <thead>\n",
       "    <tr style=\"text-align: right;\">\n",
       "      <th></th>\n",
       "      <th>first</th>\n",
       "      <th>last</th>\n",
       "      <th>email</th>\n",
       "      <th>age</th>\n",
       "    </tr>\n",
       "  </thead>\n",
       "  <tbody>\n",
       "    <tr>\n",
       "      <th>0</th>\n",
       "      <td>Corey</td>\n",
       "      <td>Schafer</td>\n",
       "      <td>CoreyMSchafer@gmail.com</td>\n",
       "      <td>33</td>\n",
       "    </tr>\n",
       "    <tr>\n",
       "      <th>1</th>\n",
       "      <td>Jane</td>\n",
       "      <td>Doe</td>\n",
       "      <td>JaneDoe@email.com</td>\n",
       "      <td>55</td>\n",
       "    </tr>\n",
       "    <tr>\n",
       "      <th>2</th>\n",
       "      <td>John</td>\n",
       "      <td>Doe</td>\n",
       "      <td>JohnDoe@email.com</td>\n",
       "      <td>63</td>\n",
       "    </tr>\n",
       "    <tr>\n",
       "      <th>6</th>\n",
       "      <td>NA</td>\n",
       "      <td>Missing</td>\n",
       "      <td>NA</td>\n",
       "      <td>Missing</td>\n",
       "    </tr>\n",
       "  </tbody>\n",
       "</table>\n",
       "</div>"
      ],
      "text/plain": [
       "   first     last                    email      age\n",
       "0  Corey  Schafer  CoreyMSchafer@gmail.com       33\n",
       "1   Jane      Doe        JaneDoe@email.com       55\n",
       "2   John      Doe        JohnDoe@email.com       63\n",
       "6     NA  Missing                       NA  Missing"
      ]
     },
     "execution_count": 17,
     "metadata": {},
     "output_type": "execute_result"
    }
   ],
   "source": [
    "df.head(10)"
   ]
  },
  {
   "cell_type": "code",
   "execution_count": 14,
   "id": "099a8169-ada3-4968-b1cf-4b4f24636a4a",
   "metadata": {},
   "outputs": [],
   "source": [
    "df.dropna(inplace=True)"
   ]
  },
  {
   "cell_type": "code",
   "execution_count": 15,
   "id": "02326b70-ab06-4e7a-a6ac-2159bff1a5f0",
   "metadata": {},
   "outputs": [
    {
     "data": {
      "text/html": [
       "<div>\n",
       "<style scoped>\n",
       "    .dataframe tbody tr th:only-of-type {\n",
       "        vertical-align: middle;\n",
       "    }\n",
       "\n",
       "    .dataframe tbody tr th {\n",
       "        vertical-align: top;\n",
       "    }\n",
       "\n",
       "    .dataframe thead th {\n",
       "        text-align: right;\n",
       "    }\n",
       "</style>\n",
       "<table border=\"1\" class=\"dataframe\">\n",
       "  <thead>\n",
       "    <tr style=\"text-align: right;\">\n",
       "      <th></th>\n",
       "      <th>first</th>\n",
       "      <th>last</th>\n",
       "      <th>email</th>\n",
       "      <th>age</th>\n",
       "    </tr>\n",
       "  </thead>\n",
       "  <tbody>\n",
       "    <tr>\n",
       "      <th>0</th>\n",
       "      <td>Corey</td>\n",
       "      <td>Schafer</td>\n",
       "      <td>CoreyMSchafer@gmail.com</td>\n",
       "      <td>33</td>\n",
       "    </tr>\n",
       "    <tr>\n",
       "      <th>1</th>\n",
       "      <td>Jane</td>\n",
       "      <td>Doe</td>\n",
       "      <td>JaneDoe@email.com</td>\n",
       "      <td>55</td>\n",
       "    </tr>\n",
       "    <tr>\n",
       "      <th>2</th>\n",
       "      <td>John</td>\n",
       "      <td>Doe</td>\n",
       "      <td>JohnDoe@email.com</td>\n",
       "      <td>63</td>\n",
       "    </tr>\n",
       "    <tr>\n",
       "      <th>6</th>\n",
       "      <td>NA</td>\n",
       "      <td>Missing</td>\n",
       "      <td>NA</td>\n",
       "      <td>Missing</td>\n",
       "    </tr>\n",
       "  </tbody>\n",
       "</table>\n",
       "</div>"
      ],
      "text/plain": [
       "   first     last                    email      age\n",
       "0  Corey  Schafer  CoreyMSchafer@gmail.com       33\n",
       "1   Jane      Doe        JaneDoe@email.com       55\n",
       "2   John      Doe        JohnDoe@email.com       63\n",
       "6     NA  Missing                       NA  Missing"
      ]
     },
     "execution_count": 15,
     "metadata": {},
     "output_type": "execute_result"
    }
   ],
   "source": [
    "df"
   ]
  },
  {
   "cell_type": "code",
   "execution_count": 31,
   "id": "e377df22-dbda-485b-8640-0cee827a2546",
   "metadata": {},
   "outputs": [],
   "source": [
    "import pandas as pd\n",
    "import numpy as np\n",
    "\n",
    "df_3 = pd.DataFrame({\n",
    "    'A': [1, 2, 9, 4],\n",
    "    'B': [np.nan, 2, 3, 4],\n",
    "    'C': [1, np.nan, 3, np.nan]\n",
    "})\n"
   ]
  },
  {
   "cell_type": "code",
   "execution_count": 32,
   "id": "8cf6026d-67a7-400c-85c3-775351a16e4b",
   "metadata": {},
   "outputs": [
    {
     "data": {
      "text/html": [
       "<div>\n",
       "<style scoped>\n",
       "    .dataframe tbody tr th:only-of-type {\n",
       "        vertical-align: middle;\n",
       "    }\n",
       "\n",
       "    .dataframe tbody tr th {\n",
       "        vertical-align: top;\n",
       "    }\n",
       "\n",
       "    .dataframe thead th {\n",
       "        text-align: right;\n",
       "    }\n",
       "</style>\n",
       "<table border=\"1\" class=\"dataframe\">\n",
       "  <thead>\n",
       "    <tr style=\"text-align: right;\">\n",
       "      <th></th>\n",
       "      <th>A</th>\n",
       "      <th>B</th>\n",
       "      <th>C</th>\n",
       "    </tr>\n",
       "  </thead>\n",
       "  <tbody>\n",
       "    <tr>\n",
       "      <th>0</th>\n",
       "      <td>1</td>\n",
       "      <td>NaN</td>\n",
       "      <td>1.0</td>\n",
       "    </tr>\n",
       "    <tr>\n",
       "      <th>1</th>\n",
       "      <td>2</td>\n",
       "      <td>2.0</td>\n",
       "      <td>NaN</td>\n",
       "    </tr>\n",
       "    <tr>\n",
       "      <th>2</th>\n",
       "      <td>9</td>\n",
       "      <td>3.0</td>\n",
       "      <td>3.0</td>\n",
       "    </tr>\n",
       "    <tr>\n",
       "      <th>3</th>\n",
       "      <td>4</td>\n",
       "      <td>4.0</td>\n",
       "      <td>NaN</td>\n",
       "    </tr>\n",
       "  </tbody>\n",
       "</table>\n",
       "</div>"
      ],
      "text/plain": [
       "   A    B    C\n",
       "0  1  NaN  1.0\n",
       "1  2  2.0  NaN\n",
       "2  9  3.0  3.0\n",
       "3  4  4.0  NaN"
      ]
     },
     "execution_count": 32,
     "metadata": {},
     "output_type": "execute_result"
    }
   ],
   "source": [
    "df_3"
   ]
  },
  {
   "cell_type": "code",
   "execution_count": 33,
   "id": "578c400d-73a5-4357-8dde-d87260c43e0a",
   "metadata": {},
   "outputs": [
    {
     "data": {
      "text/html": [
       "<div>\n",
       "<style scoped>\n",
       "    .dataframe tbody tr th:only-of-type {\n",
       "        vertical-align: middle;\n",
       "    }\n",
       "\n",
       "    .dataframe tbody tr th {\n",
       "        vertical-align: top;\n",
       "    }\n",
       "\n",
       "    .dataframe thead th {\n",
       "        text-align: right;\n",
       "    }\n",
       "</style>\n",
       "<table border=\"1\" class=\"dataframe\">\n",
       "  <thead>\n",
       "    <tr style=\"text-align: right;\">\n",
       "      <th></th>\n",
       "      <th>A</th>\n",
       "      <th>B</th>\n",
       "      <th>C</th>\n",
       "    </tr>\n",
       "  </thead>\n",
       "  <tbody>\n",
       "    <tr>\n",
       "      <th>0</th>\n",
       "      <td>False</td>\n",
       "      <td>True</td>\n",
       "      <td>False</td>\n",
       "    </tr>\n",
       "    <tr>\n",
       "      <th>1</th>\n",
       "      <td>False</td>\n",
       "      <td>False</td>\n",
       "      <td>True</td>\n",
       "    </tr>\n",
       "    <tr>\n",
       "      <th>2</th>\n",
       "      <td>False</td>\n",
       "      <td>False</td>\n",
       "      <td>False</td>\n",
       "    </tr>\n",
       "    <tr>\n",
       "      <th>3</th>\n",
       "      <td>False</td>\n",
       "      <td>False</td>\n",
       "      <td>True</td>\n",
       "    </tr>\n",
       "  </tbody>\n",
       "</table>\n",
       "</div>"
      ],
      "text/plain": [
       "       A      B      C\n",
       "0  False   True  False\n",
       "1  False  False   True\n",
       "2  False  False  False\n",
       "3  False  False   True"
      ]
     },
     "execution_count": 33,
     "metadata": {},
     "output_type": "execute_result"
    }
   ],
   "source": [
    "df_3.isnull()"
   ]
  },
  {
   "cell_type": "code",
   "execution_count": 37,
   "id": "0fd60a1b-f174-419d-9005-cfed3b8072e9",
   "metadata": {},
   "outputs": [
    {
     "data": {
      "text/html": [
       "<div>\n",
       "<style scoped>\n",
       "    .dataframe tbody tr th:only-of-type {\n",
       "        vertical-align: middle;\n",
       "    }\n",
       "\n",
       "    .dataframe tbody tr th {\n",
       "        vertical-align: top;\n",
       "    }\n",
       "\n",
       "    .dataframe thead th {\n",
       "        text-align: right;\n",
       "    }\n",
       "</style>\n",
       "<table border=\"1\" class=\"dataframe\">\n",
       "  <thead>\n",
       "    <tr style=\"text-align: right;\">\n",
       "      <th></th>\n",
       "      <th>A</th>\n",
       "      <th>B</th>\n",
       "      <th>C</th>\n",
       "    </tr>\n",
       "  </thead>\n",
       "  <tbody>\n",
       "    <tr>\n",
       "      <th>0</th>\n",
       "      <td>1</td>\n",
       "      <td>NaN</td>\n",
       "      <td>1.0</td>\n",
       "    </tr>\n",
       "    <tr>\n",
       "      <th>1</th>\n",
       "      <td>2</td>\n",
       "      <td>2.0</td>\n",
       "      <td>NaN</td>\n",
       "    </tr>\n",
       "    <tr>\n",
       "      <th>3</th>\n",
       "      <td>4</td>\n",
       "      <td>4.0</td>\n",
       "      <td>NaN</td>\n",
       "    </tr>\n",
       "  </tbody>\n",
       "</table>\n",
       "</div>"
      ],
      "text/plain": [
       "   A    B    C\n",
       "0  1  NaN  1.0\n",
       "1  2  2.0  NaN\n",
       "3  4  4.0  NaN"
      ]
     },
     "execution_count": 37,
     "metadata": {},
     "output_type": "execute_result"
    }
   ],
   "source": [
    "df_3[df_3.isnull().any(axis=1)]"
   ]
  },
  {
   "cell_type": "code",
   "execution_count": 38,
   "id": "cab5246c-edd9-4d57-a631-748ddb6cf9f1",
   "metadata": {},
   "outputs": [
    {
     "data": {
      "text/plain": [
       "0     True\n",
       "1     True\n",
       "2    False\n",
       "3     True\n",
       "dtype: bool"
      ]
     },
     "execution_count": 38,
     "metadata": {},
     "output_type": "execute_result"
    }
   ],
   "source": [
    "df_3.isnull().any(axis=1)\n"
   ]
  },
  {
   "cell_type": "code",
   "execution_count": 39,
   "id": "90e99dcd-9e91-4756-a549-380ebd4fe8d1",
   "metadata": {},
   "outputs": [
    {
     "data": {
      "text/plain": [
       "A    False\n",
       "B     True\n",
       "C     True\n",
       "dtype: bool"
      ]
     },
     "execution_count": 39,
     "metadata": {},
     "output_type": "execute_result"
    }
   ],
   "source": [
    "df_3.isnull().any(axis=0)\n"
   ]
  },
  {
   "cell_type": "code",
   "execution_count": 41,
   "id": "b96da099-b508-4910-9491-4d4acdcd4d26",
   "metadata": {},
   "outputs": [],
   "source": [
    "df_3.fillna(0,inplace=True)"
   ]
  },
  {
   "cell_type": "code",
   "execution_count": 42,
   "id": "3eda7bb4-b1ea-4263-850c-81e99318fe89",
   "metadata": {},
   "outputs": [
    {
     "data": {
      "text/html": [
       "<div>\n",
       "<style scoped>\n",
       "    .dataframe tbody tr th:only-of-type {\n",
       "        vertical-align: middle;\n",
       "    }\n",
       "\n",
       "    .dataframe tbody tr th {\n",
       "        vertical-align: top;\n",
       "    }\n",
       "\n",
       "    .dataframe thead th {\n",
       "        text-align: right;\n",
       "    }\n",
       "</style>\n",
       "<table border=\"1\" class=\"dataframe\">\n",
       "  <thead>\n",
       "    <tr style=\"text-align: right;\">\n",
       "      <th></th>\n",
       "      <th>A</th>\n",
       "      <th>B</th>\n",
       "      <th>C</th>\n",
       "    </tr>\n",
       "  </thead>\n",
       "  <tbody>\n",
       "    <tr>\n",
       "      <th>0</th>\n",
       "      <td>1</td>\n",
       "      <td>0.0</td>\n",
       "      <td>1.0</td>\n",
       "    </tr>\n",
       "    <tr>\n",
       "      <th>1</th>\n",
       "      <td>2</td>\n",
       "      <td>2.0</td>\n",
       "      <td>0.0</td>\n",
       "    </tr>\n",
       "    <tr>\n",
       "      <th>2</th>\n",
       "      <td>9</td>\n",
       "      <td>3.0</td>\n",
       "      <td>3.0</td>\n",
       "    </tr>\n",
       "    <tr>\n",
       "      <th>3</th>\n",
       "      <td>4</td>\n",
       "      <td>4.0</td>\n",
       "      <td>0.0</td>\n",
       "    </tr>\n",
       "  </tbody>\n",
       "</table>\n",
       "</div>"
      ],
      "text/plain": [
       "   A    B    C\n",
       "0  1  0.0  1.0\n",
       "1  2  2.0  0.0\n",
       "2  9  3.0  3.0\n",
       "3  4  4.0  0.0"
      ]
     },
     "execution_count": 42,
     "metadata": {},
     "output_type": "execute_result"
    }
   ],
   "source": [
    "df_3"
   ]
  },
  {
   "cell_type": "code",
   "execution_count": 43,
   "id": "68815185-c706-4c25-9bda-65e4d4a54baa",
   "metadata": {},
   "outputs": [],
   "source": [
    "df1 = pd.DataFrame({\n",
    "    'A': [1, 2, 9, 4],\n",
    "    'B': [np.nan, 2, 3, 4],\n",
    "    'C': [1, np.nan, 3, np.nan]\n",
    "})"
   ]
  },
  {
   "cell_type": "code",
   "execution_count": 46,
   "id": "4b6860d8-bd70-4b1a-90da-6b02faf5b216",
   "metadata": {},
   "outputs": [
    {
     "data": {
      "text/html": [
       "<div>\n",
       "<style scoped>\n",
       "    .dataframe tbody tr th:only-of-type {\n",
       "        vertical-align: middle;\n",
       "    }\n",
       "\n",
       "    .dataframe tbody tr th {\n",
       "        vertical-align: top;\n",
       "    }\n",
       "\n",
       "    .dataframe thead th {\n",
       "        text-align: right;\n",
       "    }\n",
       "</style>\n",
       "<table border=\"1\" class=\"dataframe\">\n",
       "  <thead>\n",
       "    <tr style=\"text-align: right;\">\n",
       "      <th></th>\n",
       "      <th>A</th>\n",
       "      <th>B</th>\n",
       "      <th>C</th>\n",
       "    </tr>\n",
       "  </thead>\n",
       "  <tbody>\n",
       "    <tr>\n",
       "      <th>0</th>\n",
       "      <td>1</td>\n",
       "      <td>NaN</td>\n",
       "      <td>1.0</td>\n",
       "    </tr>\n",
       "    <tr>\n",
       "      <th>1</th>\n",
       "      <td>2</td>\n",
       "      <td>2.0</td>\n",
       "      <td>NaN</td>\n",
       "    </tr>\n",
       "    <tr>\n",
       "      <th>2</th>\n",
       "      <td>9</td>\n",
       "      <td>3.0</td>\n",
       "      <td>3.0</td>\n",
       "    </tr>\n",
       "    <tr>\n",
       "      <th>3</th>\n",
       "      <td>4</td>\n",
       "      <td>4.0</td>\n",
       "      <td>NaN</td>\n",
       "    </tr>\n",
       "  </tbody>\n",
       "</table>\n",
       "</div>"
      ],
      "text/plain": [
       "   A    B    C\n",
       "0  1  NaN  1.0\n",
       "1  2  2.0  NaN\n",
       "2  9  3.0  3.0\n",
       "3  4  4.0  NaN"
      ]
     },
     "execution_count": 46,
     "metadata": {},
     "output_type": "execute_result"
    }
   ],
   "source": [
    "df1"
   ]
  },
  {
   "cell_type": "code",
   "execution_count": 47,
   "id": "f9d6245a-6b9f-454e-a981-9010fcdf5a7a",
   "metadata": {},
   "outputs": [
    {
     "name": "stderr",
     "output_type": "stream",
     "text": [
      "C:\\Users\\DTP394\\AppData\\Local\\Temp\\ipykernel_4732\\598575452.py:1: FutureWarning: DataFrame.fillna with 'method' is deprecated and will raise in a future version. Use obj.ffill() or obj.bfill() instead.\n",
      "  df1.fillna(method='ffill')\n"
     ]
    },
    {
     "data": {
      "text/html": [
       "<div>\n",
       "<style scoped>\n",
       "    .dataframe tbody tr th:only-of-type {\n",
       "        vertical-align: middle;\n",
       "    }\n",
       "\n",
       "    .dataframe tbody tr th {\n",
       "        vertical-align: top;\n",
       "    }\n",
       "\n",
       "    .dataframe thead th {\n",
       "        text-align: right;\n",
       "    }\n",
       "</style>\n",
       "<table border=\"1\" class=\"dataframe\">\n",
       "  <thead>\n",
       "    <tr style=\"text-align: right;\">\n",
       "      <th></th>\n",
       "      <th>A</th>\n",
       "      <th>B</th>\n",
       "      <th>C</th>\n",
       "    </tr>\n",
       "  </thead>\n",
       "  <tbody>\n",
       "    <tr>\n",
       "      <th>0</th>\n",
       "      <td>1</td>\n",
       "      <td>NaN</td>\n",
       "      <td>1.0</td>\n",
       "    </tr>\n",
       "    <tr>\n",
       "      <th>1</th>\n",
       "      <td>2</td>\n",
       "      <td>2.0</td>\n",
       "      <td>1.0</td>\n",
       "    </tr>\n",
       "    <tr>\n",
       "      <th>2</th>\n",
       "      <td>9</td>\n",
       "      <td>3.0</td>\n",
       "      <td>3.0</td>\n",
       "    </tr>\n",
       "    <tr>\n",
       "      <th>3</th>\n",
       "      <td>4</td>\n",
       "      <td>4.0</td>\n",
       "      <td>3.0</td>\n",
       "    </tr>\n",
       "  </tbody>\n",
       "</table>\n",
       "</div>"
      ],
      "text/plain": [
       "   A    B    C\n",
       "0  1  NaN  1.0\n",
       "1  2  2.0  1.0\n",
       "2  9  3.0  3.0\n",
       "3  4  4.0  3.0"
      ]
     },
     "execution_count": 47,
     "metadata": {},
     "output_type": "execute_result"
    }
   ],
   "source": [
    "df1.fillna(method='ffill')"
   ]
  },
  {
   "cell_type": "code",
   "execution_count": 48,
   "id": "9ff94953-7319-4c86-9578-8db6ecb30f00",
   "metadata": {},
   "outputs": [
    {
     "name": "stderr",
     "output_type": "stream",
     "text": [
      "C:\\Users\\DTP394\\AppData\\Local\\Temp\\ipykernel_4732\\2949398996.py:1: FutureWarning: DataFrame.fillna with 'method' is deprecated and will raise in a future version. Use obj.ffill() or obj.bfill() instead.\n",
      "  df1.fillna(method='bfill')\n"
     ]
    },
    {
     "data": {
      "text/html": [
       "<div>\n",
       "<style scoped>\n",
       "    .dataframe tbody tr th:only-of-type {\n",
       "        vertical-align: middle;\n",
       "    }\n",
       "\n",
       "    .dataframe tbody tr th {\n",
       "        vertical-align: top;\n",
       "    }\n",
       "\n",
       "    .dataframe thead th {\n",
       "        text-align: right;\n",
       "    }\n",
       "</style>\n",
       "<table border=\"1\" class=\"dataframe\">\n",
       "  <thead>\n",
       "    <tr style=\"text-align: right;\">\n",
       "      <th></th>\n",
       "      <th>A</th>\n",
       "      <th>B</th>\n",
       "      <th>C</th>\n",
       "    </tr>\n",
       "  </thead>\n",
       "  <tbody>\n",
       "    <tr>\n",
       "      <th>0</th>\n",
       "      <td>1</td>\n",
       "      <td>2.0</td>\n",
       "      <td>1.0</td>\n",
       "    </tr>\n",
       "    <tr>\n",
       "      <th>1</th>\n",
       "      <td>2</td>\n",
       "      <td>2.0</td>\n",
       "      <td>3.0</td>\n",
       "    </tr>\n",
       "    <tr>\n",
       "      <th>2</th>\n",
       "      <td>9</td>\n",
       "      <td>3.0</td>\n",
       "      <td>3.0</td>\n",
       "    </tr>\n",
       "    <tr>\n",
       "      <th>3</th>\n",
       "      <td>4</td>\n",
       "      <td>4.0</td>\n",
       "      <td>NaN</td>\n",
       "    </tr>\n",
       "  </tbody>\n",
       "</table>\n",
       "</div>"
      ],
      "text/plain": [
       "   A    B    C\n",
       "0  1  2.0  1.0\n",
       "1  2  2.0  3.0\n",
       "2  9  3.0  3.0\n",
       "3  4  4.0  NaN"
      ]
     },
     "execution_count": 48,
     "metadata": {},
     "output_type": "execute_result"
    }
   ],
   "source": [
    "df1.fillna(method='bfill')"
   ]
  },
  {
   "cell_type": "code",
   "execution_count": 50,
   "id": "e84326a0-81aa-4f38-82eb-96cddc85bc32",
   "metadata": {},
   "outputs": [
    {
     "name": "stderr",
     "output_type": "stream",
     "text": [
      "C:\\Users\\DTP394\\AppData\\Local\\Temp\\ipykernel_4732\\2993264929.py:1: FutureWarning: DataFrame.fillna with 'method' is deprecated and will raise in a future version. Use obj.ffill() or obj.bfill() instead.\n",
      "  df1.fillna(method='ffill',axis=0)\n"
     ]
    },
    {
     "data": {
      "text/html": [
       "<div>\n",
       "<style scoped>\n",
       "    .dataframe tbody tr th:only-of-type {\n",
       "        vertical-align: middle;\n",
       "    }\n",
       "\n",
       "    .dataframe tbody tr th {\n",
       "        vertical-align: top;\n",
       "    }\n",
       "\n",
       "    .dataframe thead th {\n",
       "        text-align: right;\n",
       "    }\n",
       "</style>\n",
       "<table border=\"1\" class=\"dataframe\">\n",
       "  <thead>\n",
       "    <tr style=\"text-align: right;\">\n",
       "      <th></th>\n",
       "      <th>A</th>\n",
       "      <th>B</th>\n",
       "      <th>C</th>\n",
       "    </tr>\n",
       "  </thead>\n",
       "  <tbody>\n",
       "    <tr>\n",
       "      <th>0</th>\n",
       "      <td>1</td>\n",
       "      <td>NaN</td>\n",
       "      <td>1.0</td>\n",
       "    </tr>\n",
       "    <tr>\n",
       "      <th>1</th>\n",
       "      <td>2</td>\n",
       "      <td>2.0</td>\n",
       "      <td>1.0</td>\n",
       "    </tr>\n",
       "    <tr>\n",
       "      <th>2</th>\n",
       "      <td>9</td>\n",
       "      <td>3.0</td>\n",
       "      <td>3.0</td>\n",
       "    </tr>\n",
       "    <tr>\n",
       "      <th>3</th>\n",
       "      <td>4</td>\n",
       "      <td>4.0</td>\n",
       "      <td>3.0</td>\n",
       "    </tr>\n",
       "  </tbody>\n",
       "</table>\n",
       "</div>"
      ],
      "text/plain": [
       "   A    B    C\n",
       "0  1  NaN  1.0\n",
       "1  2  2.0  1.0\n",
       "2  9  3.0  3.0\n",
       "3  4  4.0  3.0"
      ]
     },
     "execution_count": 50,
     "metadata": {},
     "output_type": "execute_result"
    }
   ],
   "source": [
    "df1.fillna(method='ffill',axis=0)"
   ]
  },
  {
   "cell_type": "code",
   "execution_count": 51,
   "id": "433a084b-ace5-49d4-80bc-82135adf4485",
   "metadata": {},
   "outputs": [
    {
     "data": {
      "text/html": [
       "<div>\n",
       "<style scoped>\n",
       "    .dataframe tbody tr th:only-of-type {\n",
       "        vertical-align: middle;\n",
       "    }\n",
       "\n",
       "    .dataframe tbody tr th {\n",
       "        vertical-align: top;\n",
       "    }\n",
       "\n",
       "    .dataframe thead th {\n",
       "        text-align: right;\n",
       "    }\n",
       "</style>\n",
       "<table border=\"1\" class=\"dataframe\">\n",
       "  <thead>\n",
       "    <tr style=\"text-align: right;\">\n",
       "      <th></th>\n",
       "      <th>A</th>\n",
       "      <th>B</th>\n",
       "      <th>C</th>\n",
       "    </tr>\n",
       "  </thead>\n",
       "  <tbody>\n",
       "    <tr>\n",
       "      <th>0</th>\n",
       "      <td>1</td>\n",
       "      <td>NaN</td>\n",
       "      <td>1.0</td>\n",
       "    </tr>\n",
       "    <tr>\n",
       "      <th>1</th>\n",
       "      <td>2</td>\n",
       "      <td>2.0</td>\n",
       "      <td>NaN</td>\n",
       "    </tr>\n",
       "    <tr>\n",
       "      <th>2</th>\n",
       "      <td>9</td>\n",
       "      <td>3.0</td>\n",
       "      <td>3.0</td>\n",
       "    </tr>\n",
       "    <tr>\n",
       "      <th>3</th>\n",
       "      <td>4</td>\n",
       "      <td>4.0</td>\n",
       "      <td>NaN</td>\n",
       "    </tr>\n",
       "  </tbody>\n",
       "</table>\n",
       "</div>"
      ],
      "text/plain": [
       "   A    B    C\n",
       "0  1  NaN  1.0\n",
       "1  2  2.0  NaN\n",
       "2  9  3.0  3.0\n",
       "3  4  4.0  NaN"
      ]
     },
     "execution_count": 51,
     "metadata": {},
     "output_type": "execute_result"
    }
   ],
   "source": [
    "df1"
   ]
  },
  {
   "cell_type": "code",
   "execution_count": 52,
   "id": "b8d2ca45-0026-444f-a588-0e2c1cf90375",
   "metadata": {},
   "outputs": [
    {
     "name": "stdout",
     "output_type": "stream",
     "text": [
      "   A    B    C\n",
      "0  1  foo  NaN\n",
      "1  2  bar  5.0\n",
      "2  3  NaN  6.0\n",
      "3  4  NaN  7.0\n"
     ]
    }
   ],
   "source": [
    "import pandas as pd\n",
    "from io import StringIO\n",
    "\n",
    "data = \"\"\"A,B,C\n",
    "1,foo,NA\n",
    "2,bar,5\n",
    "3,N/A,6\n",
    "4,NULL,7\n",
    "\"\"\"\n",
    "\n",
    "# Reading data\n",
    "df = pd.read_csv(StringIO(data), keep_default_na=True)\n",
    "\n",
    "print(df)\n"
   ]
  },
  {
   "cell_type": "code",
   "execution_count": 54,
   "id": "5772fdd9-e855-425e-b2d6-aa2c0cafb7ad",
   "metadata": {},
   "outputs": [],
   "source": [
    "df_1=df.replace(np.NaN,0.0)"
   ]
  },
  {
   "cell_type": "code",
   "execution_count": 55,
   "id": "7e6791a6-efe9-49c8-b756-eb798bf631b6",
   "metadata": {},
   "outputs": [
    {
     "data": {
      "text/html": [
       "<div>\n",
       "<style scoped>\n",
       "    .dataframe tbody tr th:only-of-type {\n",
       "        vertical-align: middle;\n",
       "    }\n",
       "\n",
       "    .dataframe tbody tr th {\n",
       "        vertical-align: top;\n",
       "    }\n",
       "\n",
       "    .dataframe thead th {\n",
       "        text-align: right;\n",
       "    }\n",
       "</style>\n",
       "<table border=\"1\" class=\"dataframe\">\n",
       "  <thead>\n",
       "    <tr style=\"text-align: right;\">\n",
       "      <th></th>\n",
       "      <th>A</th>\n",
       "      <th>B</th>\n",
       "      <th>C</th>\n",
       "    </tr>\n",
       "  </thead>\n",
       "  <tbody>\n",
       "    <tr>\n",
       "      <th>0</th>\n",
       "      <td>1</td>\n",
       "      <td>foo</td>\n",
       "      <td>0.0</td>\n",
       "    </tr>\n",
       "    <tr>\n",
       "      <th>1</th>\n",
       "      <td>2</td>\n",
       "      <td>bar</td>\n",
       "      <td>5.0</td>\n",
       "    </tr>\n",
       "    <tr>\n",
       "      <th>2</th>\n",
       "      <td>3</td>\n",
       "      <td>0.0</td>\n",
       "      <td>6.0</td>\n",
       "    </tr>\n",
       "    <tr>\n",
       "      <th>3</th>\n",
       "      <td>4</td>\n",
       "      <td>0.0</td>\n",
       "      <td>7.0</td>\n",
       "    </tr>\n",
       "  </tbody>\n",
       "</table>\n",
       "</div>"
      ],
      "text/plain": [
       "   A    B    C\n",
       "0  1  foo  0.0\n",
       "1  2  bar  5.0\n",
       "2  3  0.0  6.0\n",
       "3  4  0.0  7.0"
      ]
     },
     "execution_count": 55,
     "metadata": {},
     "output_type": "execute_result"
    }
   ],
   "source": [
    "df_1"
   ]
  },
  {
   "cell_type": "code",
   "execution_count": 58,
   "id": "b82912b9-9888-4119-9611-e9ea05612a93",
   "metadata": {},
   "outputs": [
    {
     "data": {
      "text/html": [
       "<div>\n",
       "<style scoped>\n",
       "    .dataframe tbody tr th:only-of-type {\n",
       "        vertical-align: middle;\n",
       "    }\n",
       "\n",
       "    .dataframe tbody tr th {\n",
       "        vertical-align: top;\n",
       "    }\n",
       "\n",
       "    .dataframe thead th {\n",
       "        text-align: right;\n",
       "    }\n",
       "</style>\n",
       "<table border=\"1\" class=\"dataframe\">\n",
       "  <thead>\n",
       "    <tr style=\"text-align: right;\">\n",
       "      <th></th>\n",
       "      <th>A</th>\n",
       "      <th>B</th>\n",
       "      <th>C</th>\n",
       "    </tr>\n",
       "  </thead>\n",
       "  <tbody>\n",
       "    <tr>\n",
       "      <th>0</th>\n",
       "      <td>1</td>\n",
       "      <td>foo</td>\n",
       "      <td>NaN</td>\n",
       "    </tr>\n",
       "    <tr>\n",
       "      <th>1</th>\n",
       "      <td>2</td>\n",
       "      <td>bar</td>\n",
       "      <td>5.0</td>\n",
       "    </tr>\n",
       "    <tr>\n",
       "      <th>2</th>\n",
       "      <td>3</td>\n",
       "      <td>2.5</td>\n",
       "      <td>6.0</td>\n",
       "    </tr>\n",
       "    <tr>\n",
       "      <th>3</th>\n",
       "      <td>4</td>\n",
       "      <td>2.5</td>\n",
       "      <td>7.0</td>\n",
       "    </tr>\n",
       "  </tbody>\n",
       "</table>\n",
       "</div>"
      ],
      "text/plain": [
       "   A    B    C\n",
       "0  1  foo  NaN\n",
       "1  2  bar  5.0\n",
       "2  3  2.5  6.0\n",
       "3  4  2.5  7.0"
      ]
     },
     "execution_count": 58,
     "metadata": {},
     "output_type": "execute_result"
    }
   ],
   "source": [
    "df.replace({'B':np.NaN},df['A'].mean())"
   ]
  },
  {
   "cell_type": "code",
   "execution_count": null,
   "id": "5275ee46-2d85-4738-a034-3d04ac995fcf",
   "metadata": {},
   "outputs": [],
   "source": [
    "import pandas as pd\n",
    "\n",
    "# Sample DataFrame\n",
    "data = {\n",
    "    'Student': ['Alice', 'Bob', 'Charlie', 'David'],\n",
    "    'Marks': [85, 90, 80, 95]\n",
    "}\n",
    "\n",
    "df = pd.DataFrame(data)\n"
   ]
  },
  {
   "cell_type": "code",
   "execution_count": 59,
   "id": "1b9ff951-6097-428e-8d5f-d80c26815e36",
   "metadata": {},
   "outputs": [
    {
     "data": {
      "text/html": [
       "<div>\n",
       "<style scoped>\n",
       "    .dataframe tbody tr th:only-of-type {\n",
       "        vertical-align: middle;\n",
       "    }\n",
       "\n",
       "    .dataframe tbody tr th {\n",
       "        vertical-align: top;\n",
       "    }\n",
       "\n",
       "    .dataframe thead th {\n",
       "        text-align: right;\n",
       "    }\n",
       "</style>\n",
       "<table border=\"1\" class=\"dataframe\">\n",
       "  <thead>\n",
       "    <tr style=\"text-align: right;\">\n",
       "      <th></th>\n",
       "      <th>A</th>\n",
       "      <th>B</th>\n",
       "      <th>C</th>\n",
       "    </tr>\n",
       "  </thead>\n",
       "  <tbody>\n",
       "    <tr>\n",
       "      <th>0</th>\n",
       "      <td>1</td>\n",
       "      <td>foo</td>\n",
       "      <td>NaN</td>\n",
       "    </tr>\n",
       "    <tr>\n",
       "      <th>1</th>\n",
       "      <td>2</td>\n",
       "      <td>bar</td>\n",
       "      <td>5.0</td>\n",
       "    </tr>\n",
       "    <tr>\n",
       "      <th>2</th>\n",
       "      <td>3</td>\n",
       "      <td>NaN</td>\n",
       "      <td>6.0</td>\n",
       "    </tr>\n",
       "    <tr>\n",
       "      <th>3</th>\n",
       "      <td>4</td>\n",
       "      <td>NaN</td>\n",
       "      <td>7.0</td>\n",
       "    </tr>\n",
       "  </tbody>\n",
       "</table>\n",
       "</div>"
      ],
      "text/plain": [
       "   A    B    C\n",
       "0  1  foo  NaN\n",
       "1  2  bar  5.0\n",
       "2  3  NaN  6.0\n",
       "3  4  NaN  7.0"
      ]
     },
     "execution_count": 59,
     "metadata": {},
     "output_type": "execute_result"
    }
   ],
   "source": [
    "df"
   ]
  },
  {
   "cell_type": "code",
   "execution_count": 62,
   "id": "82d3707c-ebd1-4969-a8f0-216bb21ba032",
   "metadata": {},
   "outputs": [
    {
     "data": {
      "text/html": [
       "<div>\n",
       "<style scoped>\n",
       "    .dataframe tbody tr th:only-of-type {\n",
       "        vertical-align: middle;\n",
       "    }\n",
       "\n",
       "    .dataframe tbody tr th {\n",
       "        vertical-align: top;\n",
       "    }\n",
       "\n",
       "    .dataframe thead th {\n",
       "        text-align: right;\n",
       "    }\n",
       "</style>\n",
       "<table border=\"1\" class=\"dataframe\">\n",
       "  <thead>\n",
       "    <tr style=\"text-align: right;\">\n",
       "      <th></th>\n",
       "      <th>A</th>\n",
       "      <th>B</th>\n",
       "      <th>C</th>\n",
       "    </tr>\n",
       "  </thead>\n",
       "  <tbody>\n",
       "    <tr>\n",
       "      <th>2</th>\n",
       "      <td>3</td>\n",
       "      <td>NaN</td>\n",
       "      <td>6.0</td>\n",
       "    </tr>\n",
       "  </tbody>\n",
       "</table>\n",
       "</div>"
      ],
      "text/plain": [
       "   A    B    C\n",
       "2  3  NaN  6.0"
      ]
     },
     "execution_count": 62,
     "metadata": {},
     "output_type": "execute_result"
    }
   ],
   "source": [
    "df[df['A']==3]"
   ]
  },
  {
   "cell_type": "code",
   "execution_count": 64,
   "id": "e84d68c9-475c-45cc-8206-b211bb4d47d9",
   "metadata": {},
   "outputs": [],
   "source": [
    "df.fillna(1,inplace=True)"
   ]
  },
  {
   "cell_type": "code",
   "execution_count": 65,
   "id": "5e3e15de-d042-4c2b-9089-9b0c1c26ed9f",
   "metadata": {},
   "outputs": [
    {
     "data": {
      "text/html": [
       "<div>\n",
       "<style scoped>\n",
       "    .dataframe tbody tr th:only-of-type {\n",
       "        vertical-align: middle;\n",
       "    }\n",
       "\n",
       "    .dataframe tbody tr th {\n",
       "        vertical-align: top;\n",
       "    }\n",
       "\n",
       "    .dataframe thead th {\n",
       "        text-align: right;\n",
       "    }\n",
       "</style>\n",
       "<table border=\"1\" class=\"dataframe\">\n",
       "  <thead>\n",
       "    <tr style=\"text-align: right;\">\n",
       "      <th></th>\n",
       "      <th>A</th>\n",
       "      <th>B</th>\n",
       "      <th>C</th>\n",
       "    </tr>\n",
       "  </thead>\n",
       "  <tbody>\n",
       "    <tr>\n",
       "      <th>0</th>\n",
       "      <td>1</td>\n",
       "      <td>foo</td>\n",
       "      <td>1.0</td>\n",
       "    </tr>\n",
       "    <tr>\n",
       "      <th>1</th>\n",
       "      <td>2</td>\n",
       "      <td>bar</td>\n",
       "      <td>5.0</td>\n",
       "    </tr>\n",
       "    <tr>\n",
       "      <th>2</th>\n",
       "      <td>3</td>\n",
       "      <td>1</td>\n",
       "      <td>6.0</td>\n",
       "    </tr>\n",
       "    <tr>\n",
       "      <th>3</th>\n",
       "      <td>4</td>\n",
       "      <td>1</td>\n",
       "      <td>7.0</td>\n",
       "    </tr>\n",
       "  </tbody>\n",
       "</table>\n",
       "</div>"
      ],
      "text/plain": [
       "   A    B    C\n",
       "0  1  foo  1.0\n",
       "1  2  bar  5.0\n",
       "2  3    1  6.0\n",
       "3  4    1  7.0"
      ]
     },
     "execution_count": 65,
     "metadata": {},
     "output_type": "execute_result"
    }
   ],
   "source": [
    "df"
   ]
  },
  {
   "cell_type": "code",
   "execution_count": 67,
   "id": "b59bd24d-b789-42bb-b7db-ac698e9e90a0",
   "metadata": {},
   "outputs": [
    {
     "data": {
      "text/plain": [
       "4.75"
      ]
     },
     "execution_count": 67,
     "metadata": {},
     "output_type": "execute_result"
    }
   ],
   "source": [
    "df['C'].mean()"
   ]
  },
  {
   "cell_type": "code",
   "execution_count": 68,
   "id": "ebc5fcd7-2fdf-40d9-94ec-8cb7c4f8790d",
   "metadata": {},
   "outputs": [],
   "source": [
    "import pandas as pd\n",
    "\n",
    "# Sample DataFrame\n",
    "data = {\n",
    "    'Student': ['Alice', 'Bob', 'Charlie', 'David'],\n",
    "    'Marks': [85, 90, 80, 95]\n",
    "}\n",
    "\n",
    "d_f = pd.DataFrame(data)\n"
   ]
  },
  {
   "cell_type": "code",
   "execution_count": 69,
   "id": "2e8c0f05-0b60-4524-be11-e10b0d48bfc2",
   "metadata": {},
   "outputs": [
    {
     "data": {
      "text/html": [
       "<div>\n",
       "<style scoped>\n",
       "    .dataframe tbody tr th:only-of-type {\n",
       "        vertical-align: middle;\n",
       "    }\n",
       "\n",
       "    .dataframe tbody tr th {\n",
       "        vertical-align: top;\n",
       "    }\n",
       "\n",
       "    .dataframe thead th {\n",
       "        text-align: right;\n",
       "    }\n",
       "</style>\n",
       "<table border=\"1\" class=\"dataframe\">\n",
       "  <thead>\n",
       "    <tr style=\"text-align: right;\">\n",
       "      <th></th>\n",
       "      <th>Student</th>\n",
       "      <th>Marks</th>\n",
       "    </tr>\n",
       "  </thead>\n",
       "  <tbody>\n",
       "    <tr>\n",
       "      <th>0</th>\n",
       "      <td>Alice</td>\n",
       "      <td>85</td>\n",
       "    </tr>\n",
       "    <tr>\n",
       "      <th>1</th>\n",
       "      <td>Bob</td>\n",
       "      <td>90</td>\n",
       "    </tr>\n",
       "    <tr>\n",
       "      <th>2</th>\n",
       "      <td>Charlie</td>\n",
       "      <td>80</td>\n",
       "    </tr>\n",
       "    <tr>\n",
       "      <th>3</th>\n",
       "      <td>David</td>\n",
       "      <td>95</td>\n",
       "    </tr>\n",
       "  </tbody>\n",
       "</table>\n",
       "</div>"
      ],
      "text/plain": [
       "   Student  Marks\n",
       "0    Alice     85\n",
       "1      Bob     90\n",
       "2  Charlie     80\n",
       "3    David     95"
      ]
     },
     "execution_count": 69,
     "metadata": {},
     "output_type": "execute_result"
    }
   ],
   "source": [
    "d_f"
   ]
  },
  {
   "cell_type": "code",
   "execution_count": 70,
   "id": "2699adb3-6ccc-4a12-a540-219951211b04",
   "metadata": {},
   "outputs": [
    {
     "data": {
      "text/plain": [
       "0    False\n",
       "1     True\n",
       "2    False\n",
       "3     True\n",
       "Name: Marks, dtype: bool"
      ]
     },
     "execution_count": 70,
     "metadata": {},
     "output_type": "execute_result"
    }
   ],
   "source": [
    "d_f['Marks']>85"
   ]
  },
  {
   "cell_type": "code",
   "execution_count": 71,
   "id": "a178a970-1f68-410f-897d-055c33cd16bd",
   "metadata": {},
   "outputs": [
    {
     "data": {
      "text/plain": [
       "1      Bob\n",
       "3    David\n",
       "Name: Student, dtype: object"
      ]
     },
     "execution_count": 71,
     "metadata": {},
     "output_type": "execute_result"
    }
   ],
   "source": [
    "d_f.loc[d_f['Marks']>85,'Student']"
   ]
  },
  {
   "cell_type": "code",
   "execution_count": 72,
   "id": "f82437d1-800d-4d19-9ed9-67a2606b360c",
   "metadata": {},
   "outputs": [
    {
     "data": {
      "text/plain": [
       "Index(['Student', 'Marks'], dtype='object')"
      ]
     },
     "execution_count": 72,
     "metadata": {},
     "output_type": "execute_result"
    }
   ],
   "source": [
    "d_f.columns"
   ]
  },
  {
   "cell_type": "code",
   "execution_count": 73,
   "id": "4d388512-9208-4050-9fc4-b5416307d5f3",
   "metadata": {},
   "outputs": [],
   "source": [
    "d_f.columns = ['student','marks']"
   ]
  },
  {
   "cell_type": "code",
   "execution_count": 74,
   "id": "779f630d-0aba-42fc-9caa-621ae22913dc",
   "metadata": {},
   "outputs": [
    {
     "data": {
      "text/html": [
       "<div>\n",
       "<style scoped>\n",
       "    .dataframe tbody tr th:only-of-type {\n",
       "        vertical-align: middle;\n",
       "    }\n",
       "\n",
       "    .dataframe tbody tr th {\n",
       "        vertical-align: top;\n",
       "    }\n",
       "\n",
       "    .dataframe thead th {\n",
       "        text-align: right;\n",
       "    }\n",
       "</style>\n",
       "<table border=\"1\" class=\"dataframe\">\n",
       "  <thead>\n",
       "    <tr style=\"text-align: right;\">\n",
       "      <th></th>\n",
       "      <th>student</th>\n",
       "      <th>marks</th>\n",
       "    </tr>\n",
       "  </thead>\n",
       "  <tbody>\n",
       "    <tr>\n",
       "      <th>0</th>\n",
       "      <td>Alice</td>\n",
       "      <td>85</td>\n",
       "    </tr>\n",
       "    <tr>\n",
       "      <th>1</th>\n",
       "      <td>Bob</td>\n",
       "      <td>90</td>\n",
       "    </tr>\n",
       "    <tr>\n",
       "      <th>2</th>\n",
       "      <td>Charlie</td>\n",
       "      <td>80</td>\n",
       "    </tr>\n",
       "    <tr>\n",
       "      <th>3</th>\n",
       "      <td>David</td>\n",
       "      <td>95</td>\n",
       "    </tr>\n",
       "  </tbody>\n",
       "</table>\n",
       "</div>"
      ],
      "text/plain": [
       "   student  marks\n",
       "0    Alice     85\n",
       "1      Bob     90\n",
       "2  Charlie     80\n",
       "3    David     95"
      ]
     },
     "execution_count": 74,
     "metadata": {},
     "output_type": "execute_result"
    }
   ],
   "source": [
    "d_f"
   ]
  },
  {
   "cell_type": "code",
   "execution_count": null,
   "id": "967cecf5-6384-4f9f-a664-424b129bda1b",
   "metadata": {},
   "outputs": [],
   "source": [
    "d"
   ]
  },
  {
   "cell_type": "code",
   "execution_count": 76,
   "id": "1b93205b-d615-466b-8608-99ece37925bf",
   "metadata": {},
   "outputs": [],
   "source": [
    "d_f['student'] = d_f['student'].apply(len)"
   ]
  },
  {
   "cell_type": "code",
   "execution_count": 77,
   "id": "90fe8f4d-ca02-47bd-a0f4-e50ce2743691",
   "metadata": {},
   "outputs": [
    {
     "data": {
      "text/html": [
       "<div>\n",
       "<style scoped>\n",
       "    .dataframe tbody tr th:only-of-type {\n",
       "        vertical-align: middle;\n",
       "    }\n",
       "\n",
       "    .dataframe tbody tr th {\n",
       "        vertical-align: top;\n",
       "    }\n",
       "\n",
       "    .dataframe thead th {\n",
       "        text-align: right;\n",
       "    }\n",
       "</style>\n",
       "<table border=\"1\" class=\"dataframe\">\n",
       "  <thead>\n",
       "    <tr style=\"text-align: right;\">\n",
       "      <th></th>\n",
       "      <th>student</th>\n",
       "      <th>marks</th>\n",
       "    </tr>\n",
       "  </thead>\n",
       "  <tbody>\n",
       "    <tr>\n",
       "      <th>0</th>\n",
       "      <td>5</td>\n",
       "      <td>85</td>\n",
       "    </tr>\n",
       "    <tr>\n",
       "      <th>1</th>\n",
       "      <td>3</td>\n",
       "      <td>90</td>\n",
       "    </tr>\n",
       "    <tr>\n",
       "      <th>2</th>\n",
       "      <td>7</td>\n",
       "      <td>80</td>\n",
       "    </tr>\n",
       "    <tr>\n",
       "      <th>3</th>\n",
       "      <td>5</td>\n",
       "      <td>95</td>\n",
       "    </tr>\n",
       "  </tbody>\n",
       "</table>\n",
       "</div>"
      ],
      "text/plain": [
       "   student  marks\n",
       "0        5     85\n",
       "1        3     90\n",
       "2        7     80\n",
       "3        5     95"
      ]
     },
     "execution_count": 77,
     "metadata": {},
     "output_type": "execute_result"
    }
   ],
   "source": [
    "d_f\n"
   ]
  },
  {
   "cell_type": "code",
   "execution_count": 105,
   "id": "d66da706-5572-4c66-9351-c1738ad647ef",
   "metadata": {},
   "outputs": [
    {
     "data": {
      "text/html": [
       "<div>\n",
       "<style scoped>\n",
       "    .dataframe tbody tr th:only-of-type {\n",
       "        vertical-align: middle;\n",
       "    }\n",
       "\n",
       "    .dataframe tbody tr th {\n",
       "        vertical-align: top;\n",
       "    }\n",
       "\n",
       "    .dataframe thead th {\n",
       "        text-align: right;\n",
       "    }\n",
       "</style>\n",
       "<table border=\"1\" class=\"dataframe\">\n",
       "  <thead>\n",
       "    <tr style=\"text-align: right;\">\n",
       "      <th></th>\n",
       "      <th>student</th>\n",
       "      <th>marks</th>\n",
       "    </tr>\n",
       "  </thead>\n",
       "  <tbody>\n",
       "    <tr>\n",
       "      <th>1</th>\n",
       "      <td>3</td>\n",
       "      <td>90</td>\n",
       "    </tr>\n",
       "    <tr>\n",
       "      <th>0</th>\n",
       "      <td>5</td>\n",
       "      <td>85</td>\n",
       "    </tr>\n",
       "    <tr>\n",
       "      <th>3</th>\n",
       "      <td>5</td>\n",
       "      <td>95</td>\n",
       "    </tr>\n",
       "    <tr>\n",
       "      <th>2</th>\n",
       "      <td>7</td>\n",
       "      <td>80</td>\n",
       "    </tr>\n",
       "  </tbody>\n",
       "</table>\n",
       "</div>"
      ],
      "text/plain": [
       "   student  marks\n",
       "1        3     90\n",
       "0        5     85\n",
       "3        5     95\n",
       "2        7     80"
      ]
     },
     "execution_count": 105,
     "metadata": {},
     "output_type": "execute_result"
    }
   ],
   "source": [
    "d_f.sort_values(by=['student','marks'],ascending=True)"
   ]
  },
  {
   "cell_type": "code",
   "execution_count": null,
   "id": "9eaa27f7-0aee-499b-8800-57d5bacb0e69",
   "metadata": {},
   "outputs": [],
   "source": []
  },
  {
   "cell_type": "code",
   "execution_count": 82,
   "id": "8c14b3f3-c83a-4e68-b08d-27b6db7e1e54",
   "metadata": {},
   "outputs": [],
   "source": [
    "import pandas as pd\n",
    "\n",
    "# Sample DataFrame\n",
    "data = {\n",
    "    'Student': ['Alice', 'Bob', 'Charlie', 'David'],\n",
    "    'Marks': [85, 90, 80, 95]\n",
    "}\n",
    "\n",
    "df5 = pd.DataFrame(data)\n"
   ]
  },
  {
   "cell_type": "code",
   "execution_count": 83,
   "id": "a4fd470c-400b-4140-b6d7-3b5cdc7ad289",
   "metadata": {},
   "outputs": [
    {
     "data": {
      "text/plain": [
       "Index(['Student', 'Marks'], dtype='object')"
      ]
     },
     "execution_count": 83,
     "metadata": {},
     "output_type": "execute_result"
    }
   ],
   "source": [
    "df5.columns"
   ]
  },
  {
   "cell_type": "code",
   "execution_count": 84,
   "id": "e6236c0e-e478-4865-ab04-926772218f27",
   "metadata": {},
   "outputs": [],
   "source": [
    "df5['Student'] = df5['Student'].str.upper()"
   ]
  },
  {
   "cell_type": "code",
   "execution_count": 88,
   "id": "0581353e-3ed2-4b43-8ed9-0ecfe364f3ca",
   "metadata": {},
   "outputs": [
    {
     "data": {
      "text/plain": [
       "0    5\n",
       "1    3\n",
       "2    7\n",
       "3    5\n",
       "Name: student, dtype: int64"
      ]
     },
     "execution_count": 88,
     "metadata": {},
     "output_type": "execute_result"
    }
   ],
   "source": [
    "df5['student'].apply(len)"
   ]
  },
  {
   "cell_type": "code",
   "execution_count": 86,
   "id": "eb8ffb04-0188-4660-ae25-739845f28c0d",
   "metadata": {},
   "outputs": [
    {
     "data": {
      "text/plain": [
       "Index(['student', 'marks'], dtype='object')"
      ]
     },
     "execution_count": 86,
     "metadata": {},
     "output_type": "execute_result"
    }
   ],
   "source": [
    "df5.columns = ['student','marks']\n",
    "df5.columns "
   ]
  },
  {
   "cell_type": "code",
   "execution_count": 90,
   "id": "2ed20f3e-70ee-4cd6-aa3b-61e3f6c6bbf0",
   "metadata": {},
   "outputs": [
    {
     "data": {
      "text/plain": [
       "4"
      ]
     },
     "execution_count": 90,
     "metadata": {},
     "output_type": "execute_result"
    }
   ],
   "source": [
    "len(df5['student'])"
   ]
  },
  {
   "cell_type": "code",
   "execution_count": 92,
   "id": "d2d201ad-3a61-4792-becd-4e213892326b",
   "metadata": {},
   "outputs": [
    {
     "data": {
      "text/plain": [
       "0    2\n",
       "1    2\n",
       "2    2\n",
       "3    2\n",
       "dtype: int64"
      ]
     },
     "execution_count": 92,
     "metadata": {},
     "output_type": "execute_result"
    }
   ],
   "source": [
    "df5.apply(len,axis='columns')"
   ]
  },
  {
   "cell_type": "code",
   "execution_count": 94,
   "id": "94eca258-a255-430f-ab43-4ecda7034bbc",
   "metadata": {},
   "outputs": [
    {
     "name": "stdout",
     "output_type": "stream",
     "text": [
      "  Column1   Column2\n",
      "0   apple       red\n",
      "1  banana    yellow\n",
      "2  cherry  dark red\n",
      "3    date     brown\n"
     ]
    }
   ],
   "source": [
    "import pandas as pd\n",
    "\n",
    "# Create a dictionary with two columns of string data\n",
    "data = {\n",
    "    'Column1': ['apple', 'banana', 'cherry', 'date'],\n",
    "    'Column2': ['red', 'yellow', 'dark red', 'brown']\n",
    "}\n",
    "\n",
    "# Create the DataFrame\n",
    "df = pd.DataFrame(data)\n",
    "\n",
    "# Display the DataFrame\n",
    "print(df)\n"
   ]
  },
  {
   "cell_type": "code",
   "execution_count": 95,
   "id": "b9efa8ba-0f4d-4aa1-82a1-a2ef149eaf98",
   "metadata": {},
   "outputs": [
    {
     "data": {
      "text/html": [
       "<div>\n",
       "<style scoped>\n",
       "    .dataframe tbody tr th:only-of-type {\n",
       "        vertical-align: middle;\n",
       "    }\n",
       "\n",
       "    .dataframe tbody tr th {\n",
       "        vertical-align: top;\n",
       "    }\n",
       "\n",
       "    .dataframe thead th {\n",
       "        text-align: right;\n",
       "    }\n",
       "</style>\n",
       "<table border=\"1\" class=\"dataframe\">\n",
       "  <thead>\n",
       "    <tr style=\"text-align: right;\">\n",
       "      <th></th>\n",
       "      <th>Column1</th>\n",
       "      <th>Column2</th>\n",
       "      <th>full</th>\n",
       "    </tr>\n",
       "  </thead>\n",
       "  <tbody>\n",
       "    <tr>\n",
       "      <th>0</th>\n",
       "      <td>apple</td>\n",
       "      <td>red</td>\n",
       "      <td>applered</td>\n",
       "    </tr>\n",
       "    <tr>\n",
       "      <th>1</th>\n",
       "      <td>banana</td>\n",
       "      <td>yellow</td>\n",
       "      <td>bananayellow</td>\n",
       "    </tr>\n",
       "    <tr>\n",
       "      <th>2</th>\n",
       "      <td>cherry</td>\n",
       "      <td>dark red</td>\n",
       "      <td>cherrydark red</td>\n",
       "    </tr>\n",
       "    <tr>\n",
       "      <th>3</th>\n",
       "      <td>date</td>\n",
       "      <td>brown</td>\n",
       "      <td>datebrown</td>\n",
       "    </tr>\n",
       "  </tbody>\n",
       "</table>\n",
       "</div>"
      ],
      "text/plain": [
       "  Column1   Column2            full\n",
       "0   apple       red        applered\n",
       "1  banana    yellow    bananayellow\n",
       "2  cherry  dark red  cherrydark red\n",
       "3    date     brown       datebrown"
      ]
     },
     "execution_count": 95,
     "metadata": {},
     "output_type": "execute_result"
    }
   ],
   "source": [
    "df['full'] = df['Column1'] + df['Column2']\n",
    "df"
   ]
  },
  {
   "cell_type": "code",
   "execution_count": 96,
   "id": "5ae1c72c-24ba-4d6f-a68c-d2af4c005c04",
   "metadata": {},
   "outputs": [],
   "source": [
    "df['full_1'] = df.Column1 + '  ' + df.Column2"
   ]
  },
  {
   "cell_type": "code",
   "execution_count": 97,
   "id": "3f777eca-76c7-4313-93cc-ad3d2ed5b800",
   "metadata": {},
   "outputs": [
    {
     "data": {
      "text/html": [
       "<div>\n",
       "<style scoped>\n",
       "    .dataframe tbody tr th:only-of-type {\n",
       "        vertical-align: middle;\n",
       "    }\n",
       "\n",
       "    .dataframe tbody tr th {\n",
       "        vertical-align: top;\n",
       "    }\n",
       "\n",
       "    .dataframe thead th {\n",
       "        text-align: right;\n",
       "    }\n",
       "</style>\n",
       "<table border=\"1\" class=\"dataframe\">\n",
       "  <thead>\n",
       "    <tr style=\"text-align: right;\">\n",
       "      <th></th>\n",
       "      <th>Column1</th>\n",
       "      <th>Column2</th>\n",
       "      <th>full</th>\n",
       "      <th>full_1</th>\n",
       "    </tr>\n",
       "  </thead>\n",
       "  <tbody>\n",
       "    <tr>\n",
       "      <th>0</th>\n",
       "      <td>apple</td>\n",
       "      <td>red</td>\n",
       "      <td>applered</td>\n",
       "      <td>apple  red</td>\n",
       "    </tr>\n",
       "    <tr>\n",
       "      <th>1</th>\n",
       "      <td>banana</td>\n",
       "      <td>yellow</td>\n",
       "      <td>bananayellow</td>\n",
       "      <td>banana  yellow</td>\n",
       "    </tr>\n",
       "    <tr>\n",
       "      <th>2</th>\n",
       "      <td>cherry</td>\n",
       "      <td>dark red</td>\n",
       "      <td>cherrydark red</td>\n",
       "      <td>cherry  dark red</td>\n",
       "    </tr>\n",
       "    <tr>\n",
       "      <th>3</th>\n",
       "      <td>date</td>\n",
       "      <td>brown</td>\n",
       "      <td>datebrown</td>\n",
       "      <td>date  brown</td>\n",
       "    </tr>\n",
       "  </tbody>\n",
       "</table>\n",
       "</div>"
      ],
      "text/plain": [
       "  Column1   Column2            full            full_1\n",
       "0   apple       red        applered        apple  red\n",
       "1  banana    yellow    bananayellow    banana  yellow\n",
       "2  cherry  dark red  cherrydark red  cherry  dark red\n",
       "3    date     brown       datebrown       date  brown"
      ]
     },
     "execution_count": 97,
     "metadata": {},
     "output_type": "execute_result"
    }
   ],
   "source": [
    "df"
   ]
  },
  {
   "cell_type": "code",
   "execution_count": 98,
   "id": "85881fcd-70b5-47ae-b350-83e3a0207281",
   "metadata": {},
   "outputs": [],
   "source": [
    "df.drop(columns=['full','full_1'],inplace=True)"
   ]
  },
  {
   "cell_type": "code",
   "execution_count": 99,
   "id": "6635d9ae-ea1d-4278-8a24-5f026dbcd4e3",
   "metadata": {},
   "outputs": [
    {
     "data": {
      "text/html": [
       "<div>\n",
       "<style scoped>\n",
       "    .dataframe tbody tr th:only-of-type {\n",
       "        vertical-align: middle;\n",
       "    }\n",
       "\n",
       "    .dataframe tbody tr th {\n",
       "        vertical-align: top;\n",
       "    }\n",
       "\n",
       "    .dataframe thead th {\n",
       "        text-align: right;\n",
       "    }\n",
       "</style>\n",
       "<table border=\"1\" class=\"dataframe\">\n",
       "  <thead>\n",
       "    <tr style=\"text-align: right;\">\n",
       "      <th></th>\n",
       "      <th>Column1</th>\n",
       "      <th>Column2</th>\n",
       "    </tr>\n",
       "  </thead>\n",
       "  <tbody>\n",
       "    <tr>\n",
       "      <th>0</th>\n",
       "      <td>apple</td>\n",
       "      <td>red</td>\n",
       "    </tr>\n",
       "    <tr>\n",
       "      <th>1</th>\n",
       "      <td>banana</td>\n",
       "      <td>yellow</td>\n",
       "    </tr>\n",
       "    <tr>\n",
       "      <th>2</th>\n",
       "      <td>cherry</td>\n",
       "      <td>dark red</td>\n",
       "    </tr>\n",
       "    <tr>\n",
       "      <th>3</th>\n",
       "      <td>date</td>\n",
       "      <td>brown</td>\n",
       "    </tr>\n",
       "  </tbody>\n",
       "</table>\n",
       "</div>"
      ],
      "text/plain": [
       "  Column1   Column2\n",
       "0   apple       red\n",
       "1  banana    yellow\n",
       "2  cherry  dark red\n",
       "3    date     brown"
      ]
     },
     "execution_count": 99,
     "metadata": {},
     "output_type": "execute_result"
    }
   ],
   "source": [
    "df"
   ]
  },
  {
   "cell_type": "code",
   "execution_count": 103,
   "id": "01b383ad-7076-45e1-9c23-b94670829565",
   "metadata": {},
   "outputs": [],
   "source": [
    "df.sort_values(by=['Column1'],ascending=True,inplace=True)"
   ]
  },
  {
   "cell_type": "code",
   "execution_count": 104,
   "id": "e1ee1bbb-1b54-48e3-877e-a435d13c8fc3",
   "metadata": {},
   "outputs": [
    {
     "data": {
      "text/html": [
       "<div>\n",
       "<style scoped>\n",
       "    .dataframe tbody tr th:only-of-type {\n",
       "        vertical-align: middle;\n",
       "    }\n",
       "\n",
       "    .dataframe tbody tr th {\n",
       "        vertical-align: top;\n",
       "    }\n",
       "\n",
       "    .dataframe thead th {\n",
       "        text-align: right;\n",
       "    }\n",
       "</style>\n",
       "<table border=\"1\" class=\"dataframe\">\n",
       "  <thead>\n",
       "    <tr style=\"text-align: right;\">\n",
       "      <th></th>\n",
       "      <th>Column1</th>\n",
       "      <th>Column2</th>\n",
       "    </tr>\n",
       "  </thead>\n",
       "  <tbody>\n",
       "    <tr>\n",
       "      <th>0</th>\n",
       "      <td>apple</td>\n",
       "      <td>red</td>\n",
       "    </tr>\n",
       "    <tr>\n",
       "      <th>1</th>\n",
       "      <td>banana</td>\n",
       "      <td>yellow</td>\n",
       "    </tr>\n",
       "    <tr>\n",
       "      <th>2</th>\n",
       "      <td>cherry</td>\n",
       "      <td>dark red</td>\n",
       "    </tr>\n",
       "    <tr>\n",
       "      <th>3</th>\n",
       "      <td>date</td>\n",
       "      <td>brown</td>\n",
       "    </tr>\n",
       "  </tbody>\n",
       "</table>\n",
       "</div>"
      ],
      "text/plain": [
       "  Column1   Column2\n",
       "0   apple       red\n",
       "1  banana    yellow\n",
       "2  cherry  dark red\n",
       "3    date     brown"
      ]
     },
     "execution_count": 104,
     "metadata": {},
     "output_type": "execute_result"
    }
   ],
   "source": [
    "df"
   ]
  },
  {
   "cell_type": "code",
   "execution_count": 4,
   "id": "9d2fb57c-0fb5-40df-accc-938b8b44db5a",
   "metadata": {},
   "outputs": [
    {
     "name": "stdout",
     "output_type": "stream",
     "text": [
      "Hello, my name is Kohli, my roll no is 17\n"
     ]
    }
   ],
   "source": [
    "class Employee:\n",
    "    def __init__(self, eno, name, grade):\n",
    "        self.eno = eno\n",
    "        self.name = name\n",
    "        self.grade = grade\n",
    "        \n",
    "    def __str__(self):\n",
    "        return f\"{self.name}({self.eno})\"\n",
    "        \n",
    "    def method(self):\n",
    "        print(\"Hello, my name is \" + self.name + \", my roll no is \" + str(self.eno))\n",
    "\n",
    "e = Employee(452, 'Kohli', 'A')\n",
    "e.eno = 17\n",
    "e.method()\n"
   ]
  },
  {
   "cell_type": "code",
   "execution_count": 5,
   "id": "98558df4-fc8a-41ca-92ec-d9818314510e",
   "metadata": {},
   "outputs": [],
   "source": [
    "del e.grade\n"
   ]
  },
  {
   "cell_type": "code",
   "execution_count": 6,
   "id": "8a0385dc-fb8e-421a-b34b-c55596378bed",
   "metadata": {},
   "outputs": [
    {
     "name": "stdout",
     "output_type": "stream",
     "text": [
      "Hello, my name is Kohli, my roll no is 17\n"
     ]
    }
   ],
   "source": [
    "e.method()"
   ]
  },
  {
   "cell_type": "code",
   "execution_count": 7,
   "id": "1f4d7aef-f5cc-4873-9a68-e391b4d5609e",
   "metadata": {},
   "outputs": [],
   "source": [
    "del e"
   ]
  },
  {
   "cell_type": "code",
   "execution_count": 10,
   "id": "de147f16-e328-4411-aea6-e3eafaaa842d",
   "metadata": {},
   "outputs": [
    {
     "name": "stdout",
     "output_type": "stream",
     "text": [
      "virat kohli\n"
     ]
    }
   ],
   "source": [
    "class Info():\n",
    "    def __init__(self,fname,lname):\n",
    "        self.firstname = fname\n",
    "        self.lastname = lname\n",
    "\n",
    "    def method(self):\n",
    "        print(self.firstname,self.lastname)\n",
    "\n",
    "i = Info(\"virat\",\"kohli\")\n",
    "i.method()"
   ]
  },
  {
   "cell_type": "code",
   "execution_count": 14,
   "id": "cf2165b4-3a4c-46c3-8027-8bc037b9fbff",
   "metadata": {},
   "outputs": [
    {
     "name": "stdout",
     "output_type": "stream",
     "text": [
      "This is the parent class\n",
      "This is the child class\n"
     ]
    },
    {
     "data": {
      "text/plain": [
       "453"
      ]
     },
     "execution_count": 14,
     "metadata": {},
     "output_type": "execute_result"
    }
   ],
   "source": [
    "# Single inheritance\n",
    "#A parent class having one child class\n",
    "class Employee:\n",
    "    def __init__(self, eno, name, grade):\n",
    "        self.eno = eno\n",
    "        self.name = name\n",
    "        self.grade = grade\n",
    "        \n",
    "    def method1(self):\n",
    "        print(\"This is the parent class\")\n",
    "\n",
    "class Child(Employee):\n",
    "    def method2(self):\n",
    "        print(\"This is the child class\")\n",
    "\n",
    "# Create an instance of Employee\n",
    "e = Employee(452, 'Kohli', 'A')\n",
    "#e.method1()\n",
    "\n",
    "# Create an instance of Child\n",
    "c = Child(453, 'Rohit', 'B')\n",
    "c.method1()  \n",
    "c.method2()\n",
    "c.eno"
   ]
  },
  {
   "cell_type": "code",
   "execution_count": 22,
   "id": "7367520c-73a2-42be-8598-5c147bef6fbb",
   "metadata": {},
   "outputs": [
    {
     "name": "stdout",
     "output_type": "stream",
     "text": [
      "Giri ECE\n"
     ]
    }
   ],
   "source": [
    "#example for multiple inheritace\n",
    "#two parents classes can having same child class\n",
    "class Adminstration:\n",
    "    def __init__(self,principal):\n",
    "        self.principal = principal\n",
    "\n",
    "    def f1(self):\n",
    "        print(self.principal)\n",
    "\n",
    "class Department:\n",
    "    def __init__(self,department):\n",
    "        self.department = department\n",
    "\n",
    "    def f2(self):\n",
    "        return self.department\n",
    "\n",
    "class Student(Adminstration,Department):\n",
    "    def __init__(self,principal,department):\n",
    "        Adminstration.__init__(self,principal)\n",
    "        Department.__init__(self,department)\n",
    "        \n",
    "    def f3(self):\n",
    "        print(self.principal,self.department)\n",
    "\n",
    "s=Student(\"Giri\",\"ECE\")\n",
    "s.f3()"
   ]
  },
  {
   "cell_type": "code",
   "execution_count": 24,
   "id": "0f71cc7a-d821-47be-a3d7-628f2e0fdcf4",
   "metadata": {},
   "outputs": [
    {
     "name": "stdout",
     "output_type": "stream",
     "text": [
      "Giri ECE malli\n"
     ]
    }
   ],
   "source": [
    "#example for multilevel inheritace\n",
    "it contains parent class having one child class then that child acts as parent to another child class\n",
    "class Adminstration:\n",
    "    def __init__(self,principal):\n",
    "        self.principal = principal\n",
    "\n",
    "class Department(Adminstration):\n",
    "    def __init__(self,department,principal):\n",
    "        self.department = department\n",
    "        Adminstration.__init__(self,principal)\n",
    "        \n",
    "class Student(Department):\n",
    "    def __init__(self,stdname,principal,department):\n",
    "        self.stdname = stdname\n",
    "        Department.__init__(self,department,principal)\n",
    "        \n",
    "    def f3(self):\n",
    "        print(self.principal,self.department,self.stdname)\n",
    "\n",
    "s=Student(\"malli\",\"Giri\",\"ECE\")\n",
    "s.f3()"
   ]
  },
  {
   "cell_type": "code",
   "execution_count": 26,
   "id": "3cb8591f-d336-4137-b4cf-a711d3194ac3",
   "metadata": {},
   "outputs": [
    {
     "name": "stdout",
     "output_type": "stream",
     "text": [
      "this is child class(c1)\n",
      "this is parent class\n"
     ]
    }
   ],
   "source": [
    "#Hierarchial inheritance\n",
    "#One parent class and multiple child classes assigned to that parent class\n",
    "class Parent:\n",
    "    def  p(self):\n",
    "        print(\"this is parent class\")\n",
    "class Child1(Parent):\n",
    "    def c1(self):\n",
    "        print(\"this is child class(c1)\")\n",
    "class Child2(Parent):\n",
    "    def c2(self):\n",
    "        print(\"this is child class(c2)\")\n",
    "\n",
    "o1 = Child1()\n",
    "o2 = Child2()\n",
    "o1.c1()\n",
    "o1.p()"
   ]
  },
  {
   "cell_type": "code",
   "execution_count": 28,
   "id": "5ea8c768-3842-4071-836c-e8133aeeab27",
   "metadata": {},
   "outputs": [
    {
     "name": "stdout",
     "output_type": "stream",
     "text": [
      "this is child class(c2)\n"
     ]
    }
   ],
   "source": [
    "o2.c2()"
   ]
  },
  {
   "cell_type": "code",
   "execution_count": 29,
   "id": "5bf357d9-aac8-4bfa-8aaa-cee93c9ccb61",
   "metadata": {},
   "outputs": [],
   "source": [
    "#Hybrid Inheritance\n",
    "\n",
    "\n",
    "class ClassF:\n",
    "    def f(self):\n",
    "        print(\"this is parent class(F)\")\n",
    "class ClassB:\n",
    "    def b(self):\n",
    "        print(\"this is child class for F and Parent class for A and C\")\n",
    "class ClassA(ClassB):\n",
    "    def a(self):\n",
    "        print(\"This is child class for B(a)\")\n",
    "class ClassC(ClassB):\n",
    "    def c(self):\n",
    "        print(\"This is child class for B(c)\")\n",
    "\n",
    "class ClassG:\n",
    "    def g(self):\n",
    "        print(\"This is parent class for e\")\n",
    "class ClassE(ClassG,ClassF):\n",
    "    def e(self):\n",
    "        print(\"This is the child class for F and G\")\n"
   ]
  },
  {
   "cell_type": "code",
   "execution_count": 31,
   "id": "6f6e1369-3376-46f1-b454-37b6942b33d3",
   "metadata": {},
   "outputs": [
    {
     "name": "stdout",
     "output_type": "stream",
     "text": [
      "This is child class for B(a)\n"
     ]
    }
   ],
   "source": [
    "a1=ClassA()\n",
    "a1.a()"
   ]
  },
  {
   "cell_type": "code",
   "execution_count": 32,
   "id": "4217722c-8b75-41b0-89b0-36e331bd91c4",
   "metadata": {},
   "outputs": [
    {
     "name": "stdout",
     "output_type": "stream",
     "text": [
      "this is parent class(F)\n",
      "This is parent class for e\n"
     ]
    }
   ],
   "source": [
    "e1=ClassE()\n",
    "e1.f()\n",
    "e1.g()"
   ]
  },
  {
   "cell_type": "code",
   "execution_count": 33,
   "id": "4a6fdf7a-c7d0-47ac-850d-d71cb70dd525",
   "metadata": {},
   "outputs": [
    {
     "ename": "NameError",
     "evalue": "name 'df' is not defined",
     "output_type": "error",
     "traceback": [
      "\u001b[1;31m---------------------------------------------------------------------------\u001b[0m",
      "\u001b[1;31mNameError\u001b[0m                                 Traceback (most recent call last)",
      "Cell \u001b[1;32mIn[33], line 1\u001b[0m\n\u001b[1;32m----> 1\u001b[0m country_grp \u001b[38;5;241m=\u001b[39m \u001b[43mdf\u001b[49m\u001b[38;5;241m.\u001b[39mgroupby[\u001b[38;5;124m'\u001b[39m\u001b[38;5;124mCountry\u001b[39m\u001b[38;5;124m'\u001b[39m]\n\u001b[0;32m      2\u001b[0m country_grp[\u001b[38;5;124m'\u001b[39m\u001b[38;5;124msocialmedia\u001b[39m\u001b[38;5;124m'\u001b[39m]\u001b[38;5;241m.\u001b[39mvalue_counts()\u001b[38;5;241m.\u001b[39mloc[\u001b[38;5;124m'\u001b[39m\u001b[38;5;124mIndia\u001b[39m\u001b[38;5;124m'\u001b[39m]\n",
      "\u001b[1;31mNameError\u001b[0m: name 'df' is not defined"
     ]
    }
   ],
   "source": [
    "country_grp = df.groupby['Country']\n",
    "country_grp['socialmedia'].value_counts().loc['India']"
   ]
  },
  {
   "cell_type": "code",
   "execution_count": 43,
   "id": "56c71943-3559-4ad9-81c4-8ac5e1099091",
   "metadata": {},
   "outputs": [
    {
     "name": "stdout",
     "output_type": "stream",
     "text": [
      "                 Date        Open        High        Low       Close  Volume\n",
      "2023-01-02 2023-01-02  137.454012  202.058449  80.592645  191.131728    1775\n",
      "2023-01-03 2023-01-03  195.071431  296.990985  56.974693  125.578619    9226\n",
      "2023-01-04 2023-01-04  173.199394  283.244264  64.607232  109.757739    4152\n",
      "2023-01-05 2023-01-05  159.865848  221.233911  68.318092  242.332831    2585\n",
      "2023-01-06 2023-01-06  115.601864  218.182497  72.803499  244.844805    4943\n",
      "2023-01-09 2023-01-09  115.599452  218.340451  89.258798  221.259602    8555\n",
      "2023-01-10 2023-01-10  105.808361  230.424224  59.983689  145.692065    4073\n",
      "2023-01-11 2023-01-11  186.617615  252.475643  75.711722  114.650817    2021\n",
      "2023-01-12 2023-01-12  160.111501  243.194502  79.620728  202.634954    4843\n",
      "2023-01-13 2023-01-13  170.807258  229.122914  52.322521  166.022874    8989\n"
     ]
    }
   ],
   "source": [
    "import pandas as pd\n",
    "import numpy as np\n",
    "\n",
    "# Create a date range\n",
    "dates = pd.date_range(start='2023-01-01', periods=10, freq='B')  # Business days\n",
    "\n",
    "# Generate random stock data\n",
    "np.random.seed(42)  # For reproducibility\n",
    "data = {\n",
    "    'Date': dates,\n",
    "    'Open': np.random.uniform(100, 200, size=len(dates)),\n",
    "    'High': np.random.uniform(200, 300, size=len(dates)),\n",
    "    'Low': np.random.uniform(50, 100, size=len(dates)),\n",
    "    'Close': np.random.uniform(100, 250, size=len(dates)),\n",
    "    'Volume': np.random.randint(1000, 10000, size=len(dates)),\n",
    "}\n",
    "\n",
    "# Create DataFrame\n",
    "stock_df = pd.DataFrame(data)\n",
    "\n",
    "# Optionally set the Date as the index\n",
    "#stock_df.set_index(inplace=True)\n",
    "stock_df.set_index(dates, inplace=True)\n",
    "# Display the DataFrame\n",
    "print(stock_df)\n"
   ]
  },
  {
   "cell_type": "code",
   "execution_count": 37,
   "id": "259e9c27-4b6f-4d8a-97fc-87c62e8aa573",
   "metadata": {},
   "outputs": [
    {
     "data": {
      "text/plain": [
       "(10, 5)"
      ]
     },
     "execution_count": 37,
     "metadata": {},
     "output_type": "execute_result"
    }
   ],
   "source": [
    "stock_df.shape"
   ]
  },
  {
   "cell_type": "code",
   "execution_count": 45,
   "id": "e50488fb-0835-4c7f-b3d6-8dbb4cf8c84c",
   "metadata": {},
   "outputs": [
    {
     "data": {
      "text/plain": [
       "Index(['Date', 'Open', 'High', 'Low', 'Close', 'Volume'], dtype='object')"
      ]
     },
     "execution_count": 45,
     "metadata": {},
     "output_type": "execute_result"
    }
   ],
   "source": [
    "stock_df.columns"
   ]
  },
  {
   "cell_type": "code",
   "execution_count": 46,
   "id": "8c73d0c3-a278-42b6-8de3-6866ab576e7e",
   "metadata": {},
   "outputs": [],
   "source": [
    "import datetime as dt\n",
    "stock_df['Day Of Week'] = stock_df['Date'].dt.day_name()"
   ]
  },
  {
   "cell_type": "code",
   "execution_count": 47,
   "id": "37c282ac-302e-40f2-b448-864e8dde447a",
   "metadata": {},
   "outputs": [
    {
     "data": {
      "text/html": [
       "<div>\n",
       "<style scoped>\n",
       "    .dataframe tbody tr th:only-of-type {\n",
       "        vertical-align: middle;\n",
       "    }\n",
       "\n",
       "    .dataframe tbody tr th {\n",
       "        vertical-align: top;\n",
       "    }\n",
       "\n",
       "    .dataframe thead th {\n",
       "        text-align: right;\n",
       "    }\n",
       "</style>\n",
       "<table border=\"1\" class=\"dataframe\">\n",
       "  <thead>\n",
       "    <tr style=\"text-align: right;\">\n",
       "      <th></th>\n",
       "      <th>Date</th>\n",
       "      <th>Open</th>\n",
       "      <th>High</th>\n",
       "      <th>Low</th>\n",
       "      <th>Close</th>\n",
       "      <th>Volume</th>\n",
       "      <th>Day Of Week</th>\n",
       "    </tr>\n",
       "  </thead>\n",
       "  <tbody>\n",
       "    <tr>\n",
       "      <th>2023-01-02</th>\n",
       "      <td>2023-01-02</td>\n",
       "      <td>137.454012</td>\n",
       "      <td>202.058449</td>\n",
       "      <td>80.592645</td>\n",
       "      <td>191.131728</td>\n",
       "      <td>1775</td>\n",
       "      <td>Monday</td>\n",
       "    </tr>\n",
       "    <tr>\n",
       "      <th>2023-01-03</th>\n",
       "      <td>2023-01-03</td>\n",
       "      <td>195.071431</td>\n",
       "      <td>296.990985</td>\n",
       "      <td>56.974693</td>\n",
       "      <td>125.578619</td>\n",
       "      <td>9226</td>\n",
       "      <td>Tuesday</td>\n",
       "    </tr>\n",
       "    <tr>\n",
       "      <th>2023-01-04</th>\n",
       "      <td>2023-01-04</td>\n",
       "      <td>173.199394</td>\n",
       "      <td>283.244264</td>\n",
       "      <td>64.607232</td>\n",
       "      <td>109.757739</td>\n",
       "      <td>4152</td>\n",
       "      <td>Wednesday</td>\n",
       "    </tr>\n",
       "    <tr>\n",
       "      <th>2023-01-05</th>\n",
       "      <td>2023-01-05</td>\n",
       "      <td>159.865848</td>\n",
       "      <td>221.233911</td>\n",
       "      <td>68.318092</td>\n",
       "      <td>242.332831</td>\n",
       "      <td>2585</td>\n",
       "      <td>Thursday</td>\n",
       "    </tr>\n",
       "    <tr>\n",
       "      <th>2023-01-06</th>\n",
       "      <td>2023-01-06</td>\n",
       "      <td>115.601864</td>\n",
       "      <td>218.182497</td>\n",
       "      <td>72.803499</td>\n",
       "      <td>244.844805</td>\n",
       "      <td>4943</td>\n",
       "      <td>Friday</td>\n",
       "    </tr>\n",
       "    <tr>\n",
       "      <th>2023-01-09</th>\n",
       "      <td>2023-01-09</td>\n",
       "      <td>115.599452</td>\n",
       "      <td>218.340451</td>\n",
       "      <td>89.258798</td>\n",
       "      <td>221.259602</td>\n",
       "      <td>8555</td>\n",
       "      <td>Monday</td>\n",
       "    </tr>\n",
       "    <tr>\n",
       "      <th>2023-01-10</th>\n",
       "      <td>2023-01-10</td>\n",
       "      <td>105.808361</td>\n",
       "      <td>230.424224</td>\n",
       "      <td>59.983689</td>\n",
       "      <td>145.692065</td>\n",
       "      <td>4073</td>\n",
       "      <td>Tuesday</td>\n",
       "    </tr>\n",
       "    <tr>\n",
       "      <th>2023-01-11</th>\n",
       "      <td>2023-01-11</td>\n",
       "      <td>186.617615</td>\n",
       "      <td>252.475643</td>\n",
       "      <td>75.711722</td>\n",
       "      <td>114.650817</td>\n",
       "      <td>2021</td>\n",
       "      <td>Wednesday</td>\n",
       "    </tr>\n",
       "    <tr>\n",
       "      <th>2023-01-12</th>\n",
       "      <td>2023-01-12</td>\n",
       "      <td>160.111501</td>\n",
       "      <td>243.194502</td>\n",
       "      <td>79.620728</td>\n",
       "      <td>202.634954</td>\n",
       "      <td>4843</td>\n",
       "      <td>Thursday</td>\n",
       "    </tr>\n",
       "    <tr>\n",
       "      <th>2023-01-13</th>\n",
       "      <td>2023-01-13</td>\n",
       "      <td>170.807258</td>\n",
       "      <td>229.122914</td>\n",
       "      <td>52.322521</td>\n",
       "      <td>166.022874</td>\n",
       "      <td>8989</td>\n",
       "      <td>Friday</td>\n",
       "    </tr>\n",
       "  </tbody>\n",
       "</table>\n",
       "</div>"
      ],
      "text/plain": [
       "                 Date        Open        High        Low       Close  Volume  \\\n",
       "2023-01-02 2023-01-02  137.454012  202.058449  80.592645  191.131728    1775   \n",
       "2023-01-03 2023-01-03  195.071431  296.990985  56.974693  125.578619    9226   \n",
       "2023-01-04 2023-01-04  173.199394  283.244264  64.607232  109.757739    4152   \n",
       "2023-01-05 2023-01-05  159.865848  221.233911  68.318092  242.332831    2585   \n",
       "2023-01-06 2023-01-06  115.601864  218.182497  72.803499  244.844805    4943   \n",
       "2023-01-09 2023-01-09  115.599452  218.340451  89.258798  221.259602    8555   \n",
       "2023-01-10 2023-01-10  105.808361  230.424224  59.983689  145.692065    4073   \n",
       "2023-01-11 2023-01-11  186.617615  252.475643  75.711722  114.650817    2021   \n",
       "2023-01-12 2023-01-12  160.111501  243.194502  79.620728  202.634954    4843   \n",
       "2023-01-13 2023-01-13  170.807258  229.122914  52.322521  166.022874    8989   \n",
       "\n",
       "           Day Of Week  \n",
       "2023-01-02      Monday  \n",
       "2023-01-03     Tuesday  \n",
       "2023-01-04   Wednesday  \n",
       "2023-01-05    Thursday  \n",
       "2023-01-06      Friday  \n",
       "2023-01-09      Monday  \n",
       "2023-01-10     Tuesday  \n",
       "2023-01-11   Wednesday  \n",
       "2023-01-12    Thursday  \n",
       "2023-01-13      Friday  "
      ]
     },
     "execution_count": 47,
     "metadata": {},
     "output_type": "execute_result"
    }
   ],
   "source": [
    "stock_df"
   ]
  },
  {
   "cell_type": "code",
   "execution_count": 48,
   "id": "74ce2867-670a-4a8a-94e7-4cc15bf5397b",
   "metadata": {},
   "outputs": [
    {
     "data": {
      "text/plain": [
       "Timestamp('2023-01-02 00:00:00')"
      ]
     },
     "execution_count": 48,
     "metadata": {},
     "output_type": "execute_result"
    }
   ],
   "source": [
    "stock_df['Date'].min()"
   ]
  },
  {
   "cell_type": "code",
   "execution_count": 49,
   "id": "79abe60a-0585-4064-adac-76c7304e3499",
   "metadata": {},
   "outputs": [
    {
     "data": {
      "text/plain": [
       "Timestamp('2023-01-13 00:00:00')"
      ]
     },
     "execution_count": 49,
     "metadata": {},
     "output_type": "execute_result"
    }
   ],
   "source": [
    "stock_df['Date'].max()"
   ]
  },
  {
   "cell_type": "code",
   "execution_count": 51,
   "id": "5f94ce33-4be7-461d-af60-ccabc727d7ac",
   "metadata": {},
   "outputs": [
    {
     "data": {
      "text/plain": [
       "Timestamp('2023-01-13 00:00:00')"
      ]
     },
     "execution_count": 51,
     "metadata": {},
     "output_type": "execute_result"
    }
   ],
   "source": [
    "pd.to_datetime(stock_df['Date'].max())"
   ]
  },
  {
   "cell_type": "code",
   "execution_count": 7,
   "id": "3424827f-1c4c-41e5-9b09-e153ddca373a",
   "metadata": {},
   "outputs": [
    {
     "name": "stdout",
     "output_type": "stream",
     "text": [
      "0\n",
      "1\n"
     ]
    }
   ],
   "source": [
    "for i in range(10):\n",
    "    if i==2:\n",
    "        break\n",
    "    print(i)"
   ]
  },
  {
   "cell_type": "code",
   "execution_count": 8,
   "id": "c573323a-1b27-4735-a35c-729eeeedc0fa",
   "metadata": {},
   "outputs": [
    {
     "name": "stdout",
     "output_type": "stream",
     "text": [
      "0\n",
      "1\n",
      "2\n",
      "3\n",
      "4\n",
      "6\n",
      "7\n",
      "8\n",
      "9\n"
     ]
    }
   ],
   "source": [
    "for i in range(10):\n",
    "    if i==5:\n",
    "        continue\n",
    "    print(i)"
   ]
  },
  {
   "cell_type": "code",
   "execution_count": 9,
   "id": "37874371-e78f-4063-9b3c-04ac68ee627e",
   "metadata": {},
   "outputs": [
    {
     "name": "stdout",
     "output_type": "stream",
     "text": [
      "0\n",
      "1\n",
      "2\n",
      "3\n"
     ]
    }
   ],
   "source": [
    "for i in range(4):\n",
    "    if i==3:\n",
    "        pass\n",
    "    print(i)\n",
    "\n"
   ]
  },
  {
   "cell_type": "raw",
   "id": "07b9c1c0-e8f7-433f-8fc1-4d848231f589",
   "metadata": {},
   "source": [
    "import math\n",
    "n1=5.6\n",
    "n2=-1.4\n",
    "s1=math.floor(n1)\n",
    "s2=math.floor(n2)\n",
    "print(s1)\n",
    "print(s2)"
   ]
  },
  {
   "cell_type": "code",
   "execution_count": null,
   "id": "58d2dfad-697a-4abc-b8f5-cd4d4bcc7ff7",
   "metadata": {},
   "outputs": [],
   "source": []
  }
 ],
 "metadata": {
  "kernelspec": {
   "display_name": "Python 3 (ipykernel)",
   "language": "python",
   "name": "python3"
  },
  "language_info": {
   "codemirror_mode": {
    "name": "ipython",
    "version": 3
   },
   "file_extension": ".py",
   "mimetype": "text/x-python",
   "name": "python",
   "nbconvert_exporter": "python",
   "pygments_lexer": "ipython3",
   "version": "3.12.5"
  }
 },
 "nbformat": 4,
 "nbformat_minor": 5
}
