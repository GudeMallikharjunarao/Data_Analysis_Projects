{
 "cells": [
  {
   "cell_type": "code",
   "execution_count": 18,
   "id": "73464865-89a0-451e-8760-bad82a229d79",
   "metadata": {},
   "outputs": [
    {
     "name": "stdout",
     "output_type": "stream",
     "text": [
      "6 5\n"
     ]
    }
   ],
   "source": [
    "#Given a list of numbers, write a Python function to find the second highest number.\n",
    "\n",
    "# def second_highest(numbers):\n",
    "#     numbers = list(set(numbers))\n",
    "#     numbers.sort()\n",
    "#     return numbers[-2]\n",
    "\n",
    "# numbers = [1, 3, 2, 4, 4, 5, 6, 6]\n",
    "# print(second_highest(numbers))  # Output: 5\n",
    "\n",
    "\n",
    "\n",
    "                                                #or\n",
    "\n",
    "num_1 = [1, 3, 2, 4, 4, 5, 6, 6]\n",
    "max=1\n",
    "max_1=0\n",
    "for i in num_1:\n",
    "    #if i > max@1 and i > max:\n",
    "    if i>max_1 and max>i:\n",
    "        max_1=i\n",
    "    elif max<i:\n",
    "        max_1=max\n",
    "        max=i\n",
    "print(max,max_1)"
   ]
  },
  {
   "cell_type": "code",
   "execution_count": 8,
   "id": "4f1c6464-1261-4d34-a87f-0bd05d6e440d",
   "metadata": {},
   "outputs": [
    {
     "data": {
      "text/plain": [
       "5"
      ]
     },
     "execution_count": 8,
     "metadata": {},
     "output_type": "execute_result"
    }
   ],
   "source": [
    "#using \n",
    "l = [1, 3, 2, 4, 4, 5, 6, 6]\n",
    "l=list(set(l))\n",
    "l.sort()\n",
    "l[-2]"
   ]
  },
  {
   "cell_type": "code",
   "execution_count": 2,
   "id": "4a1033a8-386c-4806-8bae-22bdab3265a6",
   "metadata": {},
   "outputs": [
    {
     "name": "stdout",
     "output_type": "stream",
     "text": [
      "24\n"
     ]
    }
   ],
   "source": [
    "def factorial(n):\n",
    "    if n==0:\n",
    "        return 1\n",
    "    return n * factorial(n-1)\n",
    "n=4\n",
    "print(factorial(n))"
   ]
  },
  {
   "cell_type": "code",
   "execution_count": null,
   "id": "7ba267b2-ec9b-47ce-bbb8-fce1e43b2c6f",
   "metadata": {},
   "outputs": [],
   "source": [
    "# Given a string, write a function to check if it is an anagram of another string.\n",
    "\n",
    "def are_anagrams(s1, s2):\n",
    "    return sorted(s1) == sorted(s2)\n",
    "\n",
    "str1 = \"listen\"\n",
    "str2 = \"silent\"\n",
    "print(are_anagrams(str1, str2))  # Output: True\n"
   ]
  },
  {
   "cell_type": "code",
   "execution_count": 15,
   "id": "73049155-9155-469d-8648-e74156659297",
   "metadata": {},
   "outputs": [
    {
     "name": "stdout",
     "output_type": "stream",
     "text": [
      "[4, 5]\n"
     ]
    }
   ],
   "source": [
    "#write a program that returns the elements that are common to both lists.\n",
    "l1 = [1, 2, 3, 4, 5]\n",
    "l2 = [4, 5, 6, 7, 8]\n",
    "l=[]\n",
    "for i in l1:\n",
    "    for j in l2:\n",
    "        if i==j:\n",
    "            l.append(j)\n",
    "print(l)"
   ]
  },
  {
   "cell_type": "code",
   "execution_count": 19,
   "id": "ca835b83-7df9-4171-b92b-a2f13ef46acd",
   "metadata": {},
   "outputs": [
    {
     "name": "stdout",
     "output_type": "stream",
     "text": [
      "4\n"
     ]
    }
   ],
   "source": [
    "#Write a function that returns the number of words in a string.\n",
    "s1 = \"The quick brown fox\"\n",
    "s2=s1.split()\n",
    "c=0\n",
    "for i in s2:\n",
    "    c+=1\n",
    "print(c)\n",
    "#print(s2)"
   ]
  },
  {
   "cell_type": "code",
   "execution_count": 29,
   "id": "a86d160e-3079-46d0-91fe-a207660e368e",
   "metadata": {},
   "outputs": [
    {
     "name": "stdout",
     "output_type": "stream",
     "text": [
      "d\n"
     ]
    }
   ],
   "source": [
    "# Write a program that finds the most repeated character in a string.\n",
    "s=\"aabbbcdddde\"\n",
    "s1=set(s)\n",
    "d={}\n",
    "for i in s1:\n",
    "    d[i] = s.count(i)\n",
    "\n",
    "key_max = max(d,key=d.get)\n"
   ]
  },
  {
   "cell_type": "code",
   "execution_count": 38,
   "id": "7fc4536f-e0f7-4dfc-958f-5f7dbae80f3c",
   "metadata": {},
   "outputs": [
    {
     "name": "stdin",
     "output_type": "stream",
     "text": [
      " 5\n"
     ]
    },
    {
     "name": "stdout",
     "output_type": "stream",
     "text": [
      "120\n"
     ]
    }
   ],
   "source": [
    "#factorial of a number\n",
    "n=int(input())\n",
    "s=1\n",
    "for i in range(1,n+1):\n",
    "    s=s*i\n",
    "print(s)\n"
   ]
  },
  {
   "cell_type": "code",
   "execution_count": 50,
   "id": "bad43d2e-01a6-482e-b4ec-9b7d98045e2b",
   "metadata": {},
   "outputs": [
    {
     "name": "stdin",
     "output_type": "stream",
     "text": [
      " 372\n"
     ]
    },
    {
     "name": "stdout",
     "output_type": "stream",
     "text": [
      "no\n"
     ]
    }
   ],
   "source": [
    "#Armstrong number or not\n",
    "n=int(input())\n",
    "s=0\n",
    "temp=n\n",
    "while n>0:\n",
    "    rem=n%10\n",
    "    s=s+rem*rem*rem\n",
    "    n=n//10\n",
    "if temp == s:\n",
    "    print(\"yes\")\n",
    "else:\n",
    "    print(\"no\")\n"
   ]
  },
  {
   "cell_type": "code",
   "execution_count": 51,
   "id": "0c032207-d1b8-478d-b0e3-4b5ca879df4b",
   "metadata": {},
   "outputs": [
    {
     "name": "stdin",
     "output_type": "stream",
     "text": [
      " 233\n"
     ]
    },
    {
     "name": "stdout",
     "output_type": "stream",
     "text": [
      "8\n"
     ]
    }
   ],
   "source": [
    "#sum of digits in a number\n",
    "n=int(input())\n",
    "s=0\n",
    "while n>0:\n",
    "    rem=n%10\n",
    "    s=s+rem\n",
    "    n=n//10\n",
    "print(s)"
   ]
  },
  {
   "cell_type": "code",
   "execution_count": 53,
   "id": "f16913d1-0616-453f-8bd2-aede6c963652",
   "metadata": {},
   "outputs": [
    {
     "name": "stdin",
     "output_type": "stream",
     "text": [
      " 123456789\n"
     ]
    },
    {
     "name": "stdout",
     "output_type": "stream",
     "text": [
      "987654321\n"
     ]
    }
   ],
   "source": [
    "#reverse of a number\n",
    "n=int(input())\n",
    "s=''\n",
    "while n>0:\n",
    "    rem=n%10\n",
    "    s=s+str(rem)\n",
    "    n=n//10\n",
    "print(s)"
   ]
  },
  {
   "cell_type": "code",
   "execution_count": 56,
   "id": "8b1d2b8e-655a-452c-ae6a-1d4f41782d16",
   "metadata": {},
   "outputs": [
    {
     "name": "stdin",
     "output_type": "stream",
     "text": [
      " 2\n",
      " 1\n"
     ]
    },
    {
     "name": "stdout",
     "output_type": "stream",
     "text": [
      "2\n"
     ]
    }
   ],
   "source": [
    "#Write a program to calculate nPr\n",
    "n=int(input())\n",
    "r=int(input())\n",
    "s=1\n",
    "k=1\n",
    "for i in range(1,n+1):\n",
    "    s=s*i\n",
    "for i in range(1,(n-r)+1):\n",
    "    k=k*i\n",
    "print(s//k)\n"
   ]
  },
  {
   "cell_type": "code",
   "execution_count": 7,
   "id": "e7cbba9e-1169-4396-8ddc-8ec000d72ade",
   "metadata": {},
   "outputs": [
    {
     "name": "stdin",
     "output_type": "stream",
     "text": [
      " 21\n"
     ]
    },
    {
     "name": "stdout",
     "output_type": "stream",
     "text": [
      "prime\n",
      "not prime\n"
     ]
    }
   ],
   "source": [
    "#write a program to print given number is prime or not\n",
    "n=int(input())\n",
    "for i in range(2,n):\n",
    "    if n%i==0:\n",
    "        print(\"not prime\")\n",
    "        break\n",
    "    else:\n",
    "        print(\"prime\")\n",
    "        \n",
    "        \n"
   ]
  },
  {
   "cell_type": "code",
   "execution_count": 2,
   "id": "5045c5b8-3676-4e9e-a4b6-1e704676c0c1",
   "metadata": {},
   "outputs": [
    {
     "name": "stdin",
     "output_type": "stream",
     "text": [
      "Enter A value :  7\n"
     ]
    },
    {
     "name": "stdout",
     "output_type": "stream",
     "text": [
      "1\n",
      "2\n",
      "3\n",
      "5\n",
      "8\n",
      "13\n",
      "21\n"
     ]
    }
   ],
   "source": [
    "num= int (input(\"Enter A value : \"))\n",
    "n1=0\n",
    "n2=1\n",
    "for i in range(num):\n",
    "    n=n1+n2\n",
    "    n1=n2\n",
    "    n2=n\n",
    "    print(n)\n",
    "    "
   ]
  },
  {
   "cell_type": "code",
   "execution_count": null,
   "id": "94736282-d4a1-4778-a3e1-467a8504d3d6",
   "metadata": {},
   "outputs": [],
   "source": [
    "0 1 1 2 3 5 8 13 21"
   ]
  },
  {
   "cell_type": "code",
   "execution_count": 9,
   "id": "f2b1d848-f388-4875-ab70-63c2e3c4c000",
   "metadata": {},
   "outputs": [
    {
     "name": "stdout",
     "output_type": "stream",
     "text": [
      "c\n"
     ]
    }
   ],
   "source": [
    "#write a program that returns the first non-repeated character in the string.\n",
    "s=\"ababach\"\n",
    "l=[]\n",
    "for i in s:\n",
    "    if s.count(i) == 1 and i not in l:\n",
    "        print(i)\n",
    "        break\n",
    "else:\n",
    "    l.append(i)\n"
   ]
  },
  {
   "cell_type": "code",
   "execution_count": 90,
   "id": "e5092d02-d9da-43d1-9168-4782fb58fa8c",
   "metadata": {},
   "outputs": [
    {
     "name": "stdout",
     "output_type": "stream",
     "text": [
      "anagrams\n"
     ]
    }
   ],
   "source": [
    "#write a program to check whether two strings are anagrams or not\n",
    "s1 = \"abcde\"\n",
    "s2 = \"cdeab\"\n",
    "if sorted(s1) == sorted(s2):\n",
    "    print(\"anagrams\")\n",
    "else:\n",
    "    print(\"Not Anagrams\")\n"
   ]
  },
  {
   "cell_type": "code",
   "execution_count": 91,
   "id": "5ba9231e-9923-41e6-a03a-2ad3b09ef7cc",
   "metadata": {},
   "outputs": [
    {
     "name": "stdout",
     "output_type": "stream",
     "text": [
      "Not Unique\n"
     ]
    }
   ],
   "source": [
    "#Write a program to determine if a string has all unique characters\n",
    "s=\"malli\"\n",
    "if len(s) == len(set(s)):\n",
    "    print(\"all are unique\")\n",
    "else:\n",
    "    print(\"Not Unique\")\n",
    "\n",
    "                             or\n",
    "\n",
    "s=\"mali\"\n",
    "l=[]\n",
    "for i in s:\n",
    "    if i not in l:\n",
    "        l.append(i)\n",
    "if len(s) == len(l):\n",
    "    print(\"unique\")\n",
    "else:\n",
    "    print(\"not unique\")\n",
    "    "
   ]
  },
  {
   "cell_type": "code",
   "execution_count": 107,
   "id": "6d2762d2-1f5e-4172-9a9e-d72954b2b0e8",
   "metadata": {},
   "outputs": [
    {
     "name": "stdout",
     "output_type": "stream",
     "text": [
      "[1, 2, 3, 5, 6, 7, 8, 10]\n"
     ]
    }
   ],
   "source": [
    "# Write a program that returns the longest consecutive subsequence in a list of numbers.\n",
    "\n",
    "l = [1, 2, 3, 5, 6, 7, 8, 10]\n",
    "\n"
   ]
  },
  {
   "cell_type": "code",
   "execution_count": 108,
   "id": "19bc6199-dfe5-4758-850e-c1ad34cfcc5c",
   "metadata": {},
   "outputs": [
    {
     "name": "stdout",
     "output_type": "stream",
     "text": [
      "[1, 2, 4, 5, 6, 0, 0, 0]\n"
     ]
    }
   ],
   "source": [
    "# Given a list of integers, write a program to move all zeros to the end of the list while maintaining the order of the other elements.\n",
    "l = [1, 2, 0, 4, 0, 5, 6, 0]\n",
    "n=len(l)\n",
    "for i in range(n):\n",
    "    if l[i] == 0:\n",
    "        l.remove(l[i])\n",
    "        l.append(0)\n",
    "print(l)"
   ]
  },
  {
   "cell_type": "code",
   "execution_count": 109,
   "id": "b746f0e6-4bb7-4c0d-8681-50ad6d690b2e",
   "metadata": {},
   "outputs": [
    {
     "name": "stdin",
     "output_type": "stream",
     "text": [
      " 123\n",
      " 123\n"
     ]
    },
    {
     "name": "stdout",
     "output_type": "stream",
     "text": [
      "246\n"
     ]
    }
   ],
   "source": [
    "# Write a program that returns the sum of two numbers represented as strings.\n",
    "input1=input()\n",
    "input2=input()\n",
    "s=int(input1) + int(input2)\n",
    "print(s)\n",
    "\n"
   ]
  },
  {
   "cell_type": "code",
   "execution_count": 47,
   "id": "4a9feac1-5e5b-4992-835f-7bc23ea93bd8",
   "metadata": {},
   "outputs": [],
   "source": [
    "# Write a program to find the longest common prefix of a list of strings.\n",
    "#s = [\"flower\", \"flow\", \"flight\"]\n",
    "# s=[\"mani\",\"manikanta\",\"manieswar\"]\n",
    "# k=s[0]\n",
    "# l=''\n",
    "# n=len(k)\n",
    "# for i in range(len(s)):\n",
    "#     for j in range(i,len(s)):\n",
    "#         if i < len(s)-1 and j < len(s[i])-1:\n",
    "#             if k[j][i] == s[j][i] and k[j][i] == s[j][i]:\n",
    "#                 l.append(k[j])\n",
    "\n",
    "# print(l)\n"
   ]
  },
  {
   "cell_type": "code",
   "execution_count": 13,
   "id": "f33fc78f-83d9-41e6-b469-d18bc801f32d",
   "metadata": {},
   "outputs": [
    {
     "name": "stdout",
     "output_type": "stream",
     "text": [
      "21\n"
     ]
    }
   ],
   "source": [
    "#write a program to print the maximum element in the array\n",
    "l_10=[2,3,5,7,10,15,13,17,18,21]\n",
    "max1=0\n",
    "for i in l_10:\n",
    "    if i > max1:\n",
    "        max1 = i\n",
    "print(max1)"
   ]
  },
  {
   "cell_type": "code",
   "execution_count": null,
   "id": "e7132d64-cdcb-4f0d-9ffe-73a16aae295d",
   "metadata": {},
   "outputs": [],
   "source": [
    "# Write a Python program to count the frequency of each element in a list.\n",
    "freq=[1,2,4,2,1,6,4,3]\n",
    "dict={}\n",
    "fori i in freq:\n",
    "    "
   ]
  },
  {
   "cell_type": "code",
   "execution_count": 24,
   "id": "ab7693cf-a568-47b7-8f84-b071aff059a6",
   "metadata": {},
   "outputs": [
    {
     "name": "stdout",
     "output_type": "stream",
     "text": [
      "[2, 5]\n"
     ]
    }
   ],
   "source": [
    "# Write a program that returns the intersection of two sorted arrays. \n",
    "#Assume each array does not have duplicates.\n",
    "l1 = [1, 2, 4, 5, 6]\n",
    "l2 = [2, 3, 5, 7]\n",
    "l=[]\n",
    "for i in l1:\n",
    "    if i in l2:\n",
    "        l.append(i)\n",
    "print(l)"
   ]
  },
  {
   "cell_type": "code",
   "execution_count": 25,
   "id": "04b7974b-0200-4b3a-9505-edf7428c1fe7",
   "metadata": {},
   "outputs": [
    {
     "name": "stdout",
     "output_type": "stream",
     "text": [
      "13\n"
     ]
    }
   ],
   "source": [
    "# Write a program that returns the nth number in the Fibonacci sequence using recursion.\n",
    "def fibonacci_recursive(n):\n",
    "    if n <= 1:\n",
    "        return n\n",
    "    else:\n",
    "        return fibonacci_recursive(n-1) + fibonacci_recursive(n-2)\n",
    "\n",
    "print(fibonacci_recursive(7))\n",
    "\n",
    "                                                or\n",
    "num= int(input(\"Enter a value : \"))\n",
    "n1=0\n",
    "n2=1\n",
    "for i in range(num):\n",
    "    n=n1+n2\n",
    "    n1=n2\n",
    "    n2=n\n",
    "print(n)"
   ]
  },
  {
   "cell_type": "code",
   "execution_count": 13,
   "id": "112b8e16-e4d3-4743-b7c8-0232d30a3b1f",
   "metadata": {},
   "outputs": [
    {
     "name": "stdout",
     "output_type": "stream",
     "text": [
      "[2, 15, 11, 6]\n"
     ]
    }
   ],
   "source": [
    "#Write a program to find the two numbers in a list that sum up to a specific target.\n",
    "list = [2, 7, 11,13,6,5,15]\n",
    "tar = 17\n",
    "l=[]\n",
    "n=len(list)\n",
    "for i in range(n):\n",
    "    for j in range(i,n):\n",
    "        if list[i] + list[j] == tar:\n",
    "            l.append(list[i])\n",
    "            l.append(list[j])\n",
    "            break\n",
    "print(l)"
   ]
  },
  {
   "cell_type": "code",
   "execution_count": 15,
   "id": "e1b612f4-2f02-4ff2-98f8-da6f284c9599",
   "metadata": {},
   "outputs": [
    {
     "name": "stdout",
     "output_type": "stream",
     "text": [
      "[1, 2, 3, 4, 5]\n"
     ]
    }
   ],
   "source": [
    "#Write a Python program to remove duplicates from a list.\n",
    "nums = [1, 2, 3, 2, 1, 3, 2, 4, 5, 4]\n",
    "l=[]\n",
    "for i in nums:\n",
    "    if i not in l:\n",
    "        l.append(i)\n",
    "print(l)"
   ]
  },
  {
   "cell_type": "code",
   "execution_count": 18,
   "id": "b2cbdf57-d0fc-4b36-bb80-369576253dab",
   "metadata": {},
   "outputs": [
    {
     "name": "stdin",
     "output_type": "stream",
     "text": [
      " 14\n"
     ]
    },
    {
     "name": "stdout",
     "output_type": "stream",
     "text": [
      "not prime\n"
     ]
    }
   ],
   "source": [
    "#write a program to print given number is prime or not\n",
    "n=int(input())\n",
    "if n>1:\n",
    "    for i in range(2,(n//2)+1):\n",
    "        if n%i==0:\n",
    "            print(\"not prime\")\n",
    "            break\n",
    "    else:\n",
    "        print(\"prime\")\n",
    "else:\n",
    "    print(\"num is not a prime number\")\n"
   ]
  },
  {
   "cell_type": "code",
   "execution_count": 10,
   "id": "463b2694-9cea-4013-aea5-709e4b91b253",
   "metadata": {},
   "outputs": [
    {
     "name": "stdin",
     "output_type": "stream",
     "text": [
      " 100\n"
     ]
    },
    {
     "name": "stdout",
     "output_type": "stream",
     "text": [
      "[2, 3, 5, 7, 11, 13, 17, 19, 23, 29, 31, 37, 41, 43, 47, 53, 59, 61, 67, 71, 73, 79, 83, 89, 97]\n"
     ]
    }
   ],
   "source": [
    "# Write a program to find all the prime numbers less than a given number n.\n",
    "num=int(input())\n",
    "l=[]\n",
    "if num>1:\n",
    "    for i in range(2,num):\n",
    "        for j in range(2,(i//2)+1):\n",
    "            if i%j==0:\n",
    "                break\n",
    "        else:\n",
    "            l.append(i)\n",
    "print(l)\n"
   ]
  },
  {
   "cell_type": "code",
   "execution_count": 55,
   "id": "26b29e66-3d5e-4491-80bb-b513f1b009d7",
   "metadata": {},
   "outputs": [
    {
     "name": "stdout",
     "output_type": "stream",
     "text": [
      "isogram\n"
     ]
    }
   ],
   "source": [
    "#Write a program that checks if a given word is an isogram (a word with no repeating letters).\n",
    "s=\"strring\"\n",
    "l=[]\n",
    "for i in s:\n",
    "    if i not in l:\n",
    "        l.append(i)\n",
    "    else:\n",
    "        print(\"isogram\")"
   ]
  },
  {
   "cell_type": "code",
   "execution_count": 5,
   "id": "060fb654-b609-468c-9d99-55b89d74d8bc",
   "metadata": {},
   "outputs": [
    {
     "name": "stdout",
     "output_type": "stream",
     "text": [
      "[8, 12, 31, 24, 1, 2, 3, 4, 11, 9]\n"
     ]
    }
   ],
   "source": [
    "# Write a program to rotate an array to the right by k steps, where k is non-negative.\n",
    "\n",
    "l = [1,2,3,4,11,9,8,12,31,24]\n",
    "k = 4\n",
    "l1=[]\n",
    "l1[:] = l[-k:] + l[:-k]\n",
    "print(l1)\n"
   ]
  },
  {
   "cell_type": "code",
   "execution_count": 15,
   "id": "a3ca5398-52a5-4996-8d36-2c4eb5b9f1ee",
   "metadata": {},
   "outputs": [
    {
     "name": "stdout",
     "output_type": "stream",
     "text": [
      "[\"['a', 'b', 'c', 'd']\", \"['a', 'b', 'c', 'd']\", \"['a', 'b', 'c', 'd']\", \"['a', 'b', 'c', 'd']\", \"['a', 'b', 'c', 'd', 'e']\", \"['a', 'b', 'c', 'd', 'e']\"]\n"
     ]
    }
   ],
   "source": [
    "# Write a program that returns the longest substring without repeating characters.\n",
    "s=\"abcdabcdebb\"\n",
    "l=[]\n",
    "k=[]\n",
    "s1=''\n",
    "for i in s:        \n",
    "    if i not in l:  \n",
    "        l.append(i)\n",
    "        s1=s1+i\n",
    "    else:\n",
    "        k.append(str(l))\n",
    "        s1=\"\"\n",
    "print(k)"
   ]
  },
  {
   "cell_type": "code",
   "execution_count": 20,
   "id": "99c805ef-2f6c-4e99-9b0a-c1cc27fc63b0",
   "metadata": {},
   "outputs": [
    {
     "name": "stdout",
     "output_type": "stream",
     "text": [
      "5\n"
     ]
    }
   ],
   "source": [
    "#Find the kth largest element in an unsorted array.\n",
    "list = [3, 2, 1, 5, 6, 4]\n",
    "k=2\n",
    "list.sort()\n",
    "print(list[-k])"
   ]
  },
  {
   "cell_type": "code",
   "execution_count": 2,
   "id": "72fd5301-95b1-429b-b28e-e983a32a6cbd",
   "metadata": {},
   "outputs": [],
   "source": [
    "#Given a sorted array and a target value, return the index if the target is found.\n",
    "#If not, return the index where it would be if it were inserted in order.\n",
    "l=[1,2,5,7,9,11]\n",
    "tar = 10\n",
    "n=len(l)\n",
    "for i in l:\n",
    "    if i==l:\n",
    "        print(l.index(i))\n",
    "    else:\n",
    "        \n"
   ]
  },
  {
   "cell_type": "code",
   "execution_count": 26,
   "id": "feb27f50-2d43-4589-ac99-e48e97af85e2",
   "metadata": {},
   "outputs": [
    {
     "name": "stdout",
     "output_type": "stream",
     "text": [
      "5\n"
     ]
    }
   ],
   "source": [
    "def search_insert(nums, target):\n",
    "    left, right = 0, len(nums) - 1\n",
    "    while left <= right:\n",
    "        mid = (left + right) // 2\n",
    "        if nums[mid] == target:\n",
    "            return mid\n",
    "        elif nums[mid] < target:\n",
    "            left = mid + 1\n",
    "        else:\n",
    "            right = mid - 1\n",
    "        \n",
    "nums = [1, 3, 5, 6, 7]\n",
    "target = 9\n",
    "print(search_insert(nums, target))  # Output: 2\n"
   ]
  },
  {
   "cell_type": "code",
   "execution_count": 4,
   "id": "ac34c542-d580-4aef-9819-5e73a96f12d2",
   "metadata": {},
   "outputs": [
    {
     "name": "stdout",
     "output_type": "stream",
     "text": [
      "4\n"
     ]
    }
   ],
   "source": [
    "#Given an array of integers, \n",
    "#every element appears twice except for one. Find that single one.\n",
    "\n",
    "nums = [4, 1, 2, 1, 2]\n",
    "for i in nums:\n",
    "    if nums.count(i) <2:\n",
    "        print(i)\n"
   ]
  },
  {
   "cell_type": "code",
   "execution_count": null,
   "id": "057b9f8e-b7d4-4421-a583-a083058876b4",
   "metadata": {},
   "outputs": [],
   "source": []
  },
  {
   "cell_type": "code",
   "execution_count": 70,
   "id": "26b4d284-46ef-4511-a3c7-d73a3f0b8f3d",
   "metadata": {},
   "outputs": [
    {
     "name": "stdin",
     "output_type": "stream",
     "text": [
      " 17\n"
     ]
    },
    {
     "name": "stdout",
     "output_type": "stream",
     "text": [
      "17 Not armstrong number\n"
     ]
    }
   ],
   "source": [
    "#write a program to print given number is armstrong or not\n",
    "num=int(input())\n",
    "n=len(str(num))\n",
    "sum=0\n",
    "temp = num\n",
    "while num>0:\n",
    "    rem=num%10\n",
    "    sum+=rem**n\n",
    "    num=num//10\n",
    "    \n",
    "if temp==sum:\n",
    "    print(temp,\"armstrong number\")\n",
    "else:\n",
    "    print(temp,\"Not armstrong number\")\n"
   ]
  },
  {
   "cell_type": "code",
   "execution_count": 73,
   "id": "fc67d671-b650-48a5-9351-c2b7d18f7887",
   "metadata": {},
   "outputs": [
    {
     "name": "stdout",
     "output_type": "stream",
     "text": [
      "9 2\n"
     ]
    }
   ],
   "source": [
    "#Given an array arr. \n",
    "#Your task is to find the minimum and maximum elements in the array.\n",
    "#Return an array that contains two elements the first one will be a minimum element and the second will be a maximum of an array.\n",
    "\n",
    "l=[3,2,8,5,9,4]\n",
    "print(max(l),min(l))"
   ]
  },
  {
   "cell_type": "code",
   "execution_count": 76,
   "id": "d6dc00ed-a5eb-4145-8f83-66c9d50a8438",
   "metadata": {},
   "outputs": [
    {
     "name": "stdout",
     "output_type": "stream",
     "text": [
      "9 8\n"
     ]
    }
   ],
   "source": [
    "#Given an array arr, return the second largest distinct element from an array.\n",
    "#If the second largest element doesn't exist then return -1.\n",
    "\n",
    "l=[4,9,1,6,8]\n",
    "max=1\n",
    "max2=0\n",
    "for i in l:\n",
    "    if i>max2 and max>i:\n",
    "        max2=i\n",
    "    elif max<i:\n",
    "        max2=max\n",
    "        max=i\n",
    "print(max,max2)\n"
   ]
  },
  {
   "cell_type": "code",
   "execution_count": 77,
   "id": "5c0a0f3e-7aa1-440b-a940-f8884b44500e",
   "metadata": {},
   "outputs": [
    {
     "name": "stdout",
     "output_type": "stream",
     "text": [
      "23\n"
     ]
    }
   ],
   "source": [
    "# write a program to print sum of elements in list\n",
    "l=[2,5,1,8,7]\n",
    "s=0\n",
    "for i in l:\n",
    "    s+=i\n",
    "print(s)"
   ]
  },
  {
   "cell_type": "code",
   "execution_count": 82,
   "id": "cd30b1c6-e47b-46c4-87ae-3bbd027e72b4",
   "metadata": {},
   "outputs": [
    {
     "name": "stdout",
     "output_type": "stream",
     "text": [
      "[7, 8, 1, 5, 2]\n"
     ]
    }
   ],
   "source": [
    "#You are given an array of integers arr . Your task is to reverse the given array and return the reversed array.\n",
    "l=[2,5,1,8,7]\n",
    "l1=l[::-1]\n",
    "print(l1)"
   ]
  },
  {
   "cell_type": "code",
   "execution_count": 84,
   "id": "207dc0ce-a061-447d-aa69-bbef16ee532a",
   "metadata": {},
   "outputs": [
    {
     "name": "stdout",
     "output_type": "stream",
     "text": [
      "[1, 2, 3, 4, 5, 6, 11, 12, 17]\n",
      "9\n"
     ]
    }
   ],
   "source": [
    "#Given a sorted array arr. Return the size of the modified array which contains only distinct elements.\n",
    "#You must return the modified array size only where distinct elements are present and modify the original\n",
    "#array such that all the distinct elements come at the beginning of the original array.\n",
    "l=[1,2,2,3,4,5,5,6,11,12,17]\n",
    "l1=[]\n",
    "for i in l:\n",
    "    if i not in l1:\n",
    "        l1.append(i)\n",
    "    else:\n",
    "        l.remove(i)\n",
    "print(l)\n",
    "print(len(l))"
   ]
  },
  {
   "cell_type": "code",
   "execution_count": 86,
   "id": "8df3f0e3-d7f1-475c-adb2-cba066c26a51",
   "metadata": {},
   "outputs": [
    {
     "name": "stdout",
     "output_type": "stream",
     "text": [
      "4\n"
     ]
    }
   ],
   "source": [
    "#Given an unsorted array arr. Find the count of elements less than or equal to the given element x.\n",
    "#arr = [10, 1, 2, 8, 4, 5] \n",
    "#x = 9\n",
    "arr = [1, 2, 2, 5, 7, 2, 9] \n",
    "x = 2\n",
    "c=0\n",
    "for i in arr:\n",
    "    if i<=x:\n",
    "        c+=1\n",
    "print(c)\n",
    "        "
   ]
  },
  {
   "cell_type": "code",
   "execution_count": 90,
   "id": "23211251-fd2f-4254-a5d8-236967a48511",
   "metadata": {},
   "outputs": [
    {
     "name": "stdout",
     "output_type": "stream",
     "text": [
      "1,3,5,"
     ]
    }
   ],
   "source": [
    "#You are given an array arr.\n",
    "#You need to print elements of arr in alternate order (starting from index 0).\n",
    "#arr[] = [1, 2, 3, 4]\n",
    "arr = [1, 2, 3, 4, 5]\n",
    "for i in range(len(arr)):\n",
    "    if i%2==0:\n",
    "        print(arr[i],end=\",\")\n",
    "\n"
   ]
  },
  {
   "cell_type": "code",
   "execution_count": 113,
   "id": "f90be74e-52e5-4199-8583-0288f06eb5fb",
   "metadata": {},
   "outputs": [
    {
     "name": "stdout",
     "output_type": "stream",
     "text": [
      "0\n"
     ]
    }
   ],
   "source": [
    "#Given an unsorted array arr[] of n positive integers. \n",
    "#Find the number of triangles that can be formed with three different array elements as lengths of three sides of triangles. \n",
    "#Sum of any two sides must be greater than third side\n",
    "#Count the number of possible triangles\n",
    "n = 5\n",
    "arr = [6, 4, 9, 7, 8]\n",
    "c1=0\n",
    "for i in range(n):\n",
    "    for j in range(i+1,n):\n",
    "        for k in range(i+2,n):\n",
    "            if k < n-3:\n",
    "                if (l[i]< l[j]+l[k] & l[j] < l[k]+l[i] & l[k] < l[i]+l[j]):\n",
    "                    c1+=1\n",
    "print(c1)"
   ]
  },
  {
   "cell_type": "code",
   "execution_count": 129,
   "id": "b69a6c8a-ec4b-409e-a234-c3a884ee3baa",
   "metadata": {},
   "outputs": [
    {
     "name": "stdout",
     "output_type": "stream",
     "text": [
      "1\n",
      "2\n",
      "3\n"
     ]
    }
   ],
   "source": [
    "arr= [1, 3, 3] \n",
    "n=len(arr)\n",
    "l=[]\n",
    "for i in range(1,n+1):\n",
    "    for j in arr:\n",
    "        if i==j:\n",
    "            pass\n",
    "    else:\n",
    "        print(i)"
   ]
  },
  {
   "cell_type": "code",
   "execution_count": 28,
   "id": "62226b4d-65db-4655-9a3f-c6c4e4b3d584",
   "metadata": {},
   "outputs": [
    {
     "name": "stdout",
     "output_type": "stream",
     "text": [
      "[17, 5, 2]\n"
     ]
    }
   ],
   "source": [
    "# Array Leaders\n",
    "\n",
    "# Given an array arr of n positive integers, your task is to find all the leaders in the array.\n",
    "# An element of the array is considered a leader if it is greater than all the elements on its right side or if it is equal to the maximum element on its right side.\n",
    "# The rightmost element is always a leader.\n",
    "\n",
    "n = 6\n",
    "l1=[]\n",
    "arr = [16,17,4,3,5,2]\n",
    "for i in range(n):\n",
    "    for j in range(i+1,n):\n",
    "        if (arr[i]<=arr[j]):\n",
    "            break\n",
    "    else:\n",
    "        l1.append(arr[i])\n",
    "\n",
    "print(l1)"
   ]
  },
  {
   "cell_type": "code",
   "execution_count": 47,
   "id": "f0f680ee-e743-43c3-9b35-c2d2c0ba4752",
   "metadata": {},
   "outputs": [
    {
     "name": "stdout",
     "output_type": "stream",
     "text": [
      "7"
     ]
    }
   ],
   "source": [
    "# Majority Element\n",
    "# Given an array arr. Find the majority element in the array. If no majority exists, return -1.\n",
    "# A majority element in an array is an element that appears strictly more than arr.size()/2 times in the array.\n",
    "#arr = [3, 1, 3, 3, 2]\n",
    "#arr = [2, 13]\n",
    "arr=[7]\n",
    "k=len(arr)/2\n",
    "for i in arr:\n",
    "    if arr.count(i)>k:\n",
    "        print(i,end=\"\")\n",
    "        break\n",
    "else:\n",
    "    print(-1)\n",
    "\n"
   ]
  },
  {
   "cell_type": "code",
   "execution_count": 76,
   "id": "56693878-dbbf-42f3-91c0-e4d38157ab3b",
   "metadata": {},
   "outputs": [
    {
     "name": "stdout",
     "output_type": "stream",
     "text": [
      "0\n"
     ]
    }
   ],
   "source": [
    "#Pair with given sum in a sorted array.\n",
    "\n",
    "# You are given an integer k and an array arr[]. \n",
    "# You have to find numbers of pairs in array arr[] which sums up to k. \n",
    "# It is given that the elements of the array arr[] are distinct and in sorted order.\n",
    "# Note: pair {a, b} and pair {b, a} are considered the same. \n",
    "# Also, an element cannot pair with itself, i.e., pair {a, a} is invalid.\n",
    "#arr = [1, 2, 3, 4, 5, 6, 7]\n",
    "#k=8\n",
    "arr = [1, 2, 3, 4, 5, 6, 7]\n",
    "k=98\n",
    "c=0\n",
    "for i in range(len(arr)):\n",
    "    for j in range(i+1,len(arr)):\n",
    "        if arr[i]+arr[j] == k:\n",
    "            c+=1\n",
    "            break    \n",
    "print(c)"
   ]
  },
  {
   "cell_type": "code",
   "execution_count": null,
   "id": "365607f4-0016-42c8-920a-97203d70e5bf",
   "metadata": {},
   "outputs": [],
   "source": [
    "                                  # PROBLEMS ON STRINGS"
   ]
  },
  {
   "cell_type": "code",
   "execution_count": 78,
   "id": "665d439a-31e6-4b58-ab76-7d0db3a87107",
   "metadata": {},
   "outputs": [
    {
     "name": "stdout",
     "output_type": "stream",
     "text": [
      "1\n"
     ]
    }
   ],
   "source": [
    "#Palindrome String\n",
    "S=\"abba\"\n",
    "if S==S[::-1]:\n",
    "    print(1)\n",
    "else:\n",
    "    print(0)\n",
    "    "
   ]
  },
  {
   "cell_type": "code",
   "execution_count": 80,
   "id": "5649ba27-b3c8-4400-9f20-77c9034d1728",
   "metadata": {},
   "outputs": [
    {
     "name": "stdout",
     "output_type": "stream",
     "text": [
      "YES\n"
     ]
    }
   ],
   "source": [
    "#Anagrams \n",
    "\n",
    "# An anagram of a string is another string that contains the same characters,\n",
    "# only the order of characters can be different.\n",
    "# For example, act and tac are an anagram of each other.\n",
    "# Strings a and b can only contain lowercase alphabets.\n",
    "a = \"geeksforgeeks\"\n",
    "b = \"forgeeksgeeks\"\n",
    "if sorted(a) == sorted(b):\n",
    "    print(\"YES\")\n",
    "else:\n",
    "    print(\"NO\")"
   ]
  },
  {
   "cell_type": "code",
   "execution_count": 82,
   "id": "3f001fb4-0ee6-4e61-9338-2c2d87afe47c",
   "metadata": {},
   "outputs": [
    {
     "name": "stdout",
     "output_type": "stream",
     "text": [
      "No\n"
     ]
    }
   ],
   "source": [
    "#Anagram Palindrome\n",
    "# Given a string S, \n",
    "# Check if characters of the given string can be rearranged to form a palindrome.\n",
    "# Note: You have to return 1 if it is possible to convert the given string into palindrome else return 0. \n",
    "\n",
    "S=\"geeksogeeks\"\n",
    "if S==S[::-1]:\n",
    "    print(\"Yes\")\n",
    "else:\n",
    "    print(\"No\")\n"
   ]
  },
  {
   "cell_type": "code",
   "execution_count": 94,
   "id": "7aa439a1-1b98-4459-ba50-031f1555f75b",
   "metadata": {},
   "outputs": [
    {
     "name": "stdout",
     "output_type": "stream",
     "text": [
      "I Love Programming\n"
     ]
    }
   ],
   "source": [
    "#Upper case conversion\n",
    "#Given a string str, convert the first letter of each word in the string to uppercase. \n",
    "\n",
    "str = \"i love programming\"\n",
    "print(str.title())"
   ]
  },
  {
   "cell_type": "code",
   "execution_count": null,
   "id": "bdcc560c-b0fa-43c1-baf2-6e25ea40d34b",
   "metadata": {},
   "outputs": [],
   "source": [
    "#Sort the string in descending order\n",
    "#Given a string str containing only lower case alphabets, the task is to sort it in lexicographically-descending order.\n",
    "\n"
   ]
  },
  {
   "cell_type": "code",
   "execution_count": 14,
   "id": "c9dfab06-c4e9-44db-ba34-169011e4837d",
   "metadata": {},
   "outputs": [
    {
     "name": "stdout",
     "output_type": "stream",
     "text": [
      "HBeylelo\n"
     ]
    }
   ],
   "source": [
    "#Merge two strings\n",
    "# Given two strings S1 and S2 as input, the task is to merge them alternatively i.e. \n",
    "# the first character of S1 then the first character of S2 and so on till the strings end.\n",
    "# NOTE: Add the whole string if other string is empty.\n",
    "s1=\"Hello\" \n",
    "s2=\"Bye\"\n",
    "s=\"\"\n",
    "i,j=0,0\n",
    "while i <len(s1) and j<len(s2):\n",
    "    s+= s1[i]+s2[j]\n",
    "    i+=1\n",
    "    j+=1\n",
    "while i < len(s1):\n",
    "    s+=s1[i]\n",
    "    i+=1\n",
    "while j < len(s2):\n",
    "    s+=s2[j]\n",
    "    j+=1\n",
    "print(s)\n",
    "\n"
   ]
  },
  {
   "cell_type": "code",
   "execution_count": 24,
   "id": "57b69605-a18d-4e17-92b6-9c1fed4c294c",
   "metadata": {},
   "outputs": [
    {
     "name": "stdout",
     "output_type": "stream",
     "text": [
      "564\n"
     ]
    }
   ],
   "source": [
    "#Extract Maximum\n",
    "#Given a alphanumeric string S, extract maximum numeric value from S.\n",
    "S = \"100klh564abc365bg\"\n",
    "num,res=0,0\n",
    "for i in range(len(S)):\n",
    "    if S[i] >= \"0\" and S[i] <= \"9\":\n",
    "        num = num *10+ int(int(S[i])-0)\n",
    "    else:\n",
    "        res = max(res,num)\n",
    "        num=0\n",
    "print (max(res,num))\n"
   ]
  },
  {
   "cell_type": "code",
   "execution_count": 38,
   "id": "a8c71cb5-aa5a-43a5-a98d-ee79c6739b73",
   "metadata": {},
   "outputs": [
    {
     "data": {
      "text/plain": [
       "'much.very.program.this.like.i'"
      ]
     },
     "execution_count": 38,
     "metadata": {},
     "output_type": "execute_result"
    }
   ],
   "source": [
    "#Reverse Words\n",
    "#Given a String str, reverse the string without reversing its individual words.\n",
    "#Words are separated by dots.\n",
    "str = \"i.like.this.program.very.much\"\n",
    "str1 = \".\".join(str.split('.')[::-1])\n",
    "str1\n"
   ]
  },
  {
   "cell_type": "code",
   "execution_count": 45,
   "id": "cee86fcd-0fc0-495c-8a82-8d211b67f660",
   "metadata": {},
   "outputs": [
    {
     "name": "stdout",
     "output_type": "stream",
     "text": [
      "-1\n"
     ]
    }
   ],
   "source": [
    "#Implement strstr\n",
    "# Your task is to implement the function strstr. \n",
    "# The function takes two strings as arguments (s,x) and  locates the occurrence of the string x in the string s.\n",
    "# The function returns an integer denoting the first occurrence of the string x in s (0 based indexing).\n",
    "s = \"GeeksForGeeks\"\n",
    "x = \"Fr\"\n",
    "if x in s:\n",
    "    print(s.index(x))\n",
    "else:\n",
    "    print(-1)\n"
   ]
  },
  {
   "cell_type": "code",
   "execution_count": 51,
   "id": "a2f6ca90-fdaf-4a67-9436-9fbb1be2ac87",
   "metadata": {},
   "outputs": [
    {
     "name": "stdout",
     "output_type": "stream",
     "text": [
      "['f', 'i', 'o', 'q', 'r', 'u', 'z']\n"
     ]
    }
   ],
   "source": [
    "#Uncommon characters\n",
    "# Given two strings A and B consisting of lowercase english characters.\n",
    "# Find the characters that are not common in the two strings. \n",
    "\n",
    "# Note :- Return the string in sorted order.\n",
    "\n",
    "A=\"characters\"\n",
    "B = \"alphabets\"\n",
    "s=\"\"\n",
    "for i in A:\n",
    "    if i not in B:\n",
    "        s=s+i\n",
    "for i in B:\n",
    "    if i not in A:\n",
    "        s=s+i\n",
    "print(sorted(set(s)))"
   ]
  },
  {
   "cell_type": "code",
   "execution_count": 58,
   "id": "28215b86-a82e-4b0f-8b4f-1f7004d2054c",
   "metadata": {},
   "outputs": [
    {
     "name": "stdout",
     "output_type": "stream",
     "text": [
      "$\n"
     ]
    }
   ],
   "source": [
    "#Non Repeating Character\n",
    "# Given a string s consisting of lowercase Latin Letters.\n",
    "# Return the first non-repeating character in s. \n",
    "# If there is no non-repeating character, return '$'.\n",
    "# Note: When you return '$' driver code will output -1.\n",
    "\n",
    "s=\"abababab\"\n",
    "l=[]\n",
    "for i in s:\n",
    "    if s.count(i) == 1 and i not in l:\n",
    "        print(i)\n",
    "        break\n",
    "else:\n",
    "    print('$')"
   ]
  },
  {
   "cell_type": "code",
   "execution_count": 59,
   "id": "ef2b5db1-4f71-4c51-85d8-38cc8db472b0",
   "metadata": {},
   "outputs": [
    {
     "name": "stdin",
     "output_type": "stream",
     "text": [
      " 4\n"
     ]
    }
   ],
   "source": [
    "For n = 3 the pattern will be \n",
    "3 3 3 2 2 2 1 1 1\n",
    "3 3 2 2 1 1\n",
    "3 2 1\n",
    "n=int(input())\n",
    "for i in range(n,1):\n",
    "    print(str(i)*n,end=\"\")\n"
   ]
  },
  {
   "cell_type": "code",
   "execution_count": 70,
   "id": "4e0795ac-b67b-4d2d-9953-0427ea389412",
   "metadata": {},
   "outputs": [],
   "source": [
    "def print_pattern(n):\n",
    "    for i in range(n,1):\n",
    "        # Print the current line\n",
    "        for j in range(n, i, -1):\n",
    "            k = str(j) * i\n",
    "            print(k, end=' ')\n",
    "        print()  # Move to the next line\n",
    "\n",
    "# Input value\n",
    "n = 3\n",
    "print_pattern(n)\n"
   ]
  },
  {
   "cell_type": "code",
   "execution_count": 71,
   "id": "28b0a809-705c-4525-80e9-bd899c8ca951",
   "metadata": {},
   "outputs": [
    {
     "name": "stdin",
     "output_type": "stream",
     "text": [
      " 3\n",
      " 5\n"
     ]
    },
    {
     "name": "stdout",
     "output_type": "stream",
     "text": [
      "9\n"
     ]
    }
   ],
   "source": [
    "#Series AP\n",
    "a1=int(input())\n",
    "a2=int(input())\n",
    "d=a2-a1\n",
    "n=4\n",
    "print(a1+(n-1)*d)\n",
    "    "
   ]
  },
  {
   "cell_type": "code",
   "execution_count": 72,
   "id": "71dec96c-5336-476a-9481-d56f1d2a62da",
   "metadata": {},
   "outputs": [
    {
     "name": "stdin",
     "output_type": "stream",
     "text": [
      " 2\n",
      " 2\n",
      " 4\n"
     ]
    },
    {
     "name": "stdout",
     "output_type": "stream",
     "text": [
      "16\n"
     ]
    }
   ],
   "source": [
    "#Series GP\n",
    "#nth term in GP\n",
    "#The nth term of a GP series is Tn = arn-1\n",
    "a=int(input()) #first term \n",
    "r=int(input()) #common ratio\n",
    "N=int(input()) #to find the nth term in the series\n",
    "print(a*r**(n-1))\n"
   ]
  },
  {
   "cell_type": "code",
   "execution_count": 10,
   "id": "feef9934-ed31-4394-8d9c-9c3b02c16f52",
   "metadata": {},
   "outputs": [
    {
     "name": "stdout",
     "output_type": "stream",
     "text": [
      "-1\n"
     ]
    }
   ],
   "source": [
    "#Array Duplicates\n",
    "# n=int(input())\n",
    "# arr = [0,3,1,2]\n",
    "n=5\n",
    "arr=[2,3,1,2,3]\n",
    "l=[]\n",
    "for i in range(n):\n",
    "    if i in arr and arr.count(i)>1:\n",
    "        print(i)\n",
    "    else:\n",
    "        print(-1)\n",
    "        break\n"
   ]
  },
  {
   "cell_type": "code",
   "execution_count": null,
   "id": "f135bb51-c6b6-4553-89bd-9c387e8b6ac8",
   "metadata": {},
   "outputs": [],
   "source": []
  },
  {
   "cell_type": "code",
   "execution_count": null,
   "id": "52a5ecd0-3e2b-4e26-b903-b41fb7f75637",
   "metadata": {},
   "outputs": [],
   "source": []
  },
  {
   "cell_type": "code",
   "execution_count": null,
   "id": "8b10df5c-dc3d-4345-971a-ed995317a848",
   "metadata": {},
   "outputs": [],
   "source": []
  },
  {
   "cell_type": "code",
   "execution_count": null,
   "id": "f723bb1c-55fa-4179-a9b2-09a19c72f1f1",
   "metadata": {},
   "outputs": [],
   "source": []
  },
  {
   "cell_type": "code",
   "execution_count": null,
   "id": "d6b13936-c676-4146-bc5c-9cd9307e32b2",
   "metadata": {},
   "outputs": [],
   "source": []
  },
  {
   "cell_type": "code",
   "execution_count": null,
   "id": "95d334ff-9a97-4c28-932f-ebd2839b6e0d",
   "metadata": {},
   "outputs": [],
   "source": []
  },
  {
   "cell_type": "code",
   "execution_count": null,
   "id": "dc435805-d573-470b-b09f-aaafb7f1bbaa",
   "metadata": {},
   "outputs": [],
   "source": []
  },
  {
   "cell_type": "code",
   "execution_count": null,
   "id": "060c6cbf-0863-47a9-8413-0e76fc29e7a2",
   "metadata": {},
   "outputs": [],
   "source": []
  },
  {
   "cell_type": "code",
   "execution_count": null,
   "id": "44eeb977-a45b-45ec-ac29-ac16f21e80c4",
   "metadata": {},
   "outputs": [],
   "source": []
  }
 ],
 "metadata": {
  "kernelspec": {
   "display_name": "Python 3 (ipykernel)",
   "language": "python",
   "name": "python3"
  },
  "language_info": {
   "codemirror_mode": {
    "name": "ipython",
    "version": 3
   },
   "file_extension": ".py",
   "mimetype": "text/x-python",
   "name": "python",
   "nbconvert_exporter": "python",
   "pygments_lexer": "ipython3",
   "version": "3.12.5"
  }
 },
 "nbformat": 4,
 "nbformat_minor": 5
}
